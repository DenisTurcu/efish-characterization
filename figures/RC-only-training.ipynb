{
 "cells": [
  {
   "cell_type": "code",
   "execution_count": 1,
   "metadata": {},
   "outputs": [],
   "source": [
    "%load_ext autoreload\n",
    "%autoreload 2"
   ]
  },
  {
   "cell_type": "code",
   "execution_count": 2,
   "metadata": {},
   "outputs": [],
   "source": [
    "import glob\n",
    "import dill\n",
    "import numpy as np\n",
    "import pandas as pd\n",
    "from sklearn.metrics import r2_score\n",
    "import h5py\n",
    "import matplotlib.pyplot as plt\n",
    "import seaborn as sns\n",
    "import torch\n",
    "import torch.nn as nn\n",
    "from torch.utils.data import DataLoader\n",
    "import lightning as L\n",
    "from collections import OrderedDict\n",
    "\n",
    "import sys\n",
    "\n",
    "sys.path.append(\"../electric-properties-only\")\n",
    "sys.path.append(\"../end-to-end\")\n",
    "sys.path.append(\"../end-to-end-with-feedback\")\n",
    "sys.path.append(\"../../efish-physics-model/objects\")\n",
    "sys.path.append(\"../../efish-physics-model/helper_functions\")\n",
    "sys.path.append(\"../../efish-physics-model/uniform_points_generation\")\n",
    "\n",
    "from helpers_conv_nn_models import make_true_vs_predicted_figure\n",
    "from electric_images_dataset import ElectricImagesDataset\n",
    "from EndToEndConvNN import EndToEndConvNN\n",
    "from EndToEndConvNN_PL import EndToEndConvNN_PL\n",
    "from EndToEndConvNNWithFeedback import EndToEndConvNNWithFeedback\n",
    "from EndToEndConvNNWithFeedback_PL import EndToEndConvNNWithFeedback_PL"
   ]
  },
  {
   "cell_type": "code",
   "execution_count": 3,
   "metadata": {},
   "outputs": [],
   "source": [
    "data_dir_name = \"../../efish-physics-model/data/processed/data-2024_06_18-characterization_dataset\"\n",
    "dset = ElectricImagesDataset(data_dir_name=data_dir_name, fish_t=20, fish_u=30)"
   ]
  },
  {
   "cell_type": "code",
   "execution_count": 4,
   "metadata": {},
   "outputs": [],
   "source": [
    "dataset_pd = pd.read_pickle(f\"{data_dir_name}/dataset.pkl\")"
   ]
  },
  {
   "cell_type": "code",
   "execution_count": 5,
   "metadata": {},
   "outputs": [
    {
     "data": {
      "text/html": [
       "<div>\n",
       "<style scoped>\n",
       "    .dataframe tbody tr th:only-of-type {\n",
       "        vertical-align: middle;\n",
       "    }\n",
       "\n",
       "    .dataframe tbody tr th {\n",
       "        vertical-align: top;\n",
       "    }\n",
       "\n",
       "    .dataframe thead th {\n",
       "        text-align: right;\n",
       "    }\n",
       "</style>\n",
       "<table border=\"1\" class=\"dataframe\">\n",
       "  <thead>\n",
       "    <tr style=\"text-align: right;\">\n",
       "      <th></th>\n",
       "      <th>resistances</th>\n",
       "      <th>capacitances</th>\n",
       "      <th>radii</th>\n",
       "      <th>position_xs</th>\n",
       "      <th>position_ys</th>\n",
       "      <th>position_zs</th>\n",
       "    </tr>\n",
       "  </thead>\n",
       "  <tbody>\n",
       "    <tr>\n",
       "      <th>0</th>\n",
       "      <td>0</td>\n",
       "      <td>0</td>\n",
       "      <td>0</td>\n",
       "      <td>0</td>\n",
       "      <td>0</td>\n",
       "      <td>0</td>\n",
       "    </tr>\n",
       "    <tr>\n",
       "      <th>1</th>\n",
       "      <td>0</td>\n",
       "      <td>0</td>\n",
       "      <td>0</td>\n",
       "      <td>0</td>\n",
       "      <td>0</td>\n",
       "      <td>1</td>\n",
       "    </tr>\n",
       "    <tr>\n",
       "      <th>2</th>\n",
       "      <td>0</td>\n",
       "      <td>0</td>\n",
       "      <td>0</td>\n",
       "      <td>0</td>\n",
       "      <td>0</td>\n",
       "      <td>2</td>\n",
       "    </tr>\n",
       "    <tr>\n",
       "      <th>3</th>\n",
       "      <td>0</td>\n",
       "      <td>0</td>\n",
       "      <td>0</td>\n",
       "      <td>0</td>\n",
       "      <td>0</td>\n",
       "      <td>3</td>\n",
       "    </tr>\n",
       "    <tr>\n",
       "      <th>4</th>\n",
       "      <td>0</td>\n",
       "      <td>0</td>\n",
       "      <td>0</td>\n",
       "      <td>0</td>\n",
       "      <td>0</td>\n",
       "      <td>4</td>\n",
       "    </tr>\n",
       "  </tbody>\n",
       "</table>\n",
       "</div>"
      ],
      "text/plain": [
       "   resistances  capacitances  radii  position_xs  position_ys  position_zs\n",
       "0            0             0      0            0            0            0\n",
       "1            0             0      0            0            0            1\n",
       "2            0             0      0            0            0            2\n",
       "3            0             0      0            0            0            3\n",
       "4            0             0      0            0            0            4"
      ]
     },
     "execution_count": 5,
     "metadata": {},
     "output_type": "execute_result"
    }
   ],
   "source": [
    "dataset_pd[\"worms\"][\"dataframe\"].head()"
   ]
  },
  {
   "cell_type": "code",
   "execution_count": 6,
   "metadata": {},
   "outputs": [
    {
     "data": {
      "text/plain": [
       "dict_keys(['properties_dict', 'resistances', 'capacitances', 'radii', 'position_xs', 'position_ys', 'position_zs', 'dataframe'])"
      ]
     },
     "execution_count": 6,
     "metadata": {},
     "output_type": "execute_result"
    }
   ],
   "source": [
    "dataset_pd[\"worms\"].keys()"
   ]
  },
  {
   "cell_type": "code",
   "execution_count": 7,
   "metadata": {},
   "outputs": [
    {
     "data": {
      "text/plain": [
       "-0.02"
      ]
     },
     "execution_count": 7,
     "metadata": {},
     "output_type": "execute_result"
    }
   ],
   "source": [
    "dataset_pd[\"worms\"][\"position_xs\"][3]"
   ]
  },
  {
   "cell_type": "code",
   "execution_count": 8,
   "metadata": {},
   "outputs": [
    {
     "data": {
      "text/plain": [
       "0.0"
      ]
     },
     "execution_count": 8,
     "metadata": {},
     "output_type": "execute_result"
    }
   ],
   "source": [
    "dataset_pd[\"worms\"][\"position_zs\"][5]"
   ]
  },
  {
   "cell_type": "code",
   "execution_count": 9,
   "metadata": {},
   "outputs": [
    {
     "data": {
      "text/plain": [
       "0.019000000000000003"
      ]
     },
     "execution_count": 9,
     "metadata": {},
     "output_type": "execute_result"
    }
   ],
   "source": [
    "dataset_pd[\"worms\"][\"position_ys\"][0]"
   ]
  },
  {
   "cell_type": "code",
   "execution_count": 10,
   "metadata": {},
   "outputs": [
    {
     "data": {
      "text/plain": [
       "0.0075"
      ]
     },
     "execution_count": 10,
     "metadata": {},
     "output_type": "execute_result"
    }
   ],
   "source": [
    "dataset_pd[\"worms\"][\"radii\"][13]"
   ]
  },
  {
   "cell_type": "code",
   "execution_count": 11,
   "metadata": {},
   "outputs": [
    {
     "data": {
      "text/plain": [
       "(159600, 6)"
      ]
     },
     "execution_count": 11,
     "metadata": {},
     "output_type": "execute_result"
    }
   ],
   "source": [
    "dataset_pd[\"worms\"][\"dataframe\"][\n",
    "    (dataset_pd[\"worms\"][\"dataframe\"][\"position_xs\"] == 3) & (dataset_pd[\"worms\"][\"dataframe\"][\"position_zs\"] == 5)\n",
    "].shape"
   ]
  },
  {
   "cell_type": "code",
   "execution_count": 12,
   "metadata": {},
   "outputs": [],
   "source": [
    "temp_features_ids = [\n",
    "    dataset_pd[\"worms\"][\"dataframe\"][\n",
    "        (dataset_pd[\"worms\"][\"dataframe\"][\"position_xs\"] == 3)\n",
    "        & (dataset_pd[\"worms\"][\"dataframe\"][\"position_ys\"] == 0)\n",
    "        & (dataset_pd[\"worms\"][\"dataframe\"][\"position_zs\"] == 5)\n",
    "        & (dataset_pd[\"worms\"][\"dataframe\"][\"radii\"] == 13)\n",
    "    ].index.to_numpy(),\n",
    "    dataset_pd[\"worms\"][\"dataframe\"][\n",
    "        (dataset_pd[\"worms\"][\"dataframe\"][\"position_xs\"] == 3)\n",
    "        & (dataset_pd[\"worms\"][\"dataframe\"][\"position_ys\"] == 1)\n",
    "        & (dataset_pd[\"worms\"][\"dataframe\"][\"position_zs\"] == 5)\n",
    "        & (dataset_pd[\"worms\"][\"dataframe\"][\"radii\"] == 13)\n",
    "    ].index.to_numpy(),\n",
    "    dataset_pd[\"worms\"][\"dataframe\"][\n",
    "        (dataset_pd[\"worms\"][\"dataframe\"][\"position_xs\"] == 3)\n",
    "        & (dataset_pd[\"worms\"][\"dataframe\"][\"position_ys\"] == 1)\n",
    "        & (dataset_pd[\"worms\"][\"dataframe\"][\"position_zs\"] == 5)\n",
    "        & (dataset_pd[\"worms\"][\"dataframe\"][\"radii\"] == 8)\n",
    "    ].index.to_numpy(),\n",
    "]"
   ]
  },
  {
   "cell_type": "code",
   "execution_count": 13,
   "metadata": {},
   "outputs": [],
   "source": [
    "temp_features = []\n",
    "for temp_feat_ids in temp_features_ids:\n",
    "    temp_features.append([])\n",
    "    for i in temp_feat_ids:\n",
    "        electric_image = dset[i][0]\n",
    "        # print(np.abs(electric_image[0]).argmax(), np.abs(electric_image[1]).argmax())\n",
    "        temp = [\n",
    "            electric_image[0].reshape(-1)[np.abs(electric_image[0]).argmax()],\n",
    "            electric_image[1].reshape(-1)[np.abs(electric_image[1]).argmax()],\n",
    "        ]\n",
    "        temp_features[-1].append(temp)\n",
    "    temp_features[-1] = np.array(temp_features[-1])"
   ]
  },
  {
   "cell_type": "code",
   "execution_count": 14,
   "metadata": {},
   "outputs": [
    {
     "data": {
      "image/png": "[encoded data removed]",
      "text/plain": [
       "<Figure size 640x480 with 1 Axes>"
      ]
     },
     "metadata": {},
     "output_type": "display_data"
    }
   ],
   "source": [
    "for temp_feats in temp_features:\n",
    "    plt.scatter(*temp_feats.T, s=1)\n",
    "plt.show()"
   ]
  },
  {
   "cell_type": "code",
   "execution_count": null,
   "metadata": {},
   "outputs": [],
   "source": []
  },
  {
   "cell_type": "markdown",
   "metadata": {},
   "source": [
    "## Check that conv_pooling_kernel of size 1 results in original array"
   ]
  },
  {
   "cell_type": "code",
   "execution_count": 15,
   "metadata": {},
   "outputs": [],
   "source": [
    "in_channels = dset[0][0].shape[0]\n",
    "kernel_size = 1\n",
    "electric_images = torch.stack([torch.tensor(dset[i][0]) for i in range(10)])\n",
    "average_pooling_kernel = (\n",
    "    torch.ones([in_channels, 1, kernel_size, kernel_size])\n",
    "    / torch.ones([in_channels, 1, kernel_size, kernel_size]).sum() * 2\n",
    ")\n",
    "temp = nn.functional.conv2d(electric_images, average_pooling_kernel, groups=in_channels)"
   ]
  },
  {
   "cell_type": "code",
   "execution_count": 16,
   "metadata": {},
   "outputs": [
    {
     "data": {
      "text/plain": [
       "(torch.Size([10, 2, 20, 30]), torch.Size([10, 2, 20, 30]))"
      ]
     },
     "execution_count": 16,
     "metadata": {},
     "output_type": "execute_result"
    }
   ],
   "source": [
    "electric_images.shape, temp.shape"
   ]
  },
  {
   "cell_type": "code",
   "execution_count": 17,
   "metadata": {},
   "outputs": [
    {
     "data": {
      "text/plain": [
       "tensor(True)"
      ]
     },
     "execution_count": 17,
     "metadata": {},
     "output_type": "execute_result"
    }
   ],
   "source": [
    "(electric_images == temp).all()"
   ]
  },
  {
   "cell_type": "markdown",
   "metadata": {},
   "source": [
    "# True vs. Predicted Example Panel"
   ]
  },
  {
   "cell_type": "code",
   "execution_count": 21,
   "metadata": {},
   "outputs": [],
   "source": [
    "from electric_properties_models_dataset import ElectricPropertiesModelsDataset  # noqa: E402\n",
    "from ElectricPropertiesNN_PL import ElectricPropertiesNN_PL\n",
    "\n",
    "rc_only_dset = ElectricPropertiesModelsDataset(data_dir_name=\"../electric-properties-only/\")\n",
    "\n",
    "model = ElectricPropertiesNN_PL.load_from_checkpoint(\"../electric-properties-only/both_variable/lightning_logs/version_0/checkpoints/epoch=49-step=6750.ckpt\")\n",
    "model.eval()\n",
    "model.freeze()\n",
    "model.cpu()\n",
    "\n",
    "# data loaders\n",
    "train_dset, valid_dset = torch.utils.data.random_split(rc_only_dset, [0.85, 0.15])  # type: ignore\n",
    "train_loader = DataLoader(train_dset, batch_size=400, shuffle=True, drop_last=True, num_workers=12)\n",
    "valid_loader = DataLoader(valid_dset, batch_size=400, shuffle=False, drop_last=True, num_workers=12)"
   ]
  },
  {
   "cell_type": "code",
   "execution_count": 38,
   "metadata": {},
   "outputs": [],
   "source": [
    "def make_true_vs_predicted_figure(\n",
    "    true_vals: np.ndarray,\n",
    "    pred_vals: np.ndarray,\n",
    "    feature_names: list[str] = [\"resistances\", \"capacitances\"],\n",
    "    title_names: list[str] = [\n",
    "        \"Resistance (log)\",\n",
    "        \"Capacitance (log)\",\n",
    "    ],\n",
    ") -> plt.Figure:  # type: ignore\n",
    "    \"\"\"Create a figure comparing the true and predicted values for each feature.\n",
    "\n",
    "    Args:\n",
    "        true_vals (np.ndarray): True values.\n",
    "        pred_vals (np.ndarray): Predicted values.\n",
    "        feature_names (list[str], optional): Names of the features in the columns of the values.\n",
    "            Defaults to [\"position_xs\", \"position_ys\", \"position_zs\", \"radii\", \"resistances\", \"capacitances\"].\n",
    "\n",
    "    Returns:\n",
    "        plt.figure.Figure: Figure object containing the comparison.\n",
    "    \"\"\"\n",
    "\n",
    "    fig, ax = plt.subplots(1, true_vals.shape[-1], figsize=(3 * true_vals.shape[-1], 3))\n",
    "    for i in range(true_vals.shape[-1]):\n",
    "        feat_mean = dset.worms_properties_stats[feature_names[i]][\"mean\"]\n",
    "        feat_std = dset.worms_properties_stats[feature_names[i]][\"std\"]\n",
    "\n",
    "        true_vs = true_vals[:, i] * feat_std + feat_mean\n",
    "        pred_vs = pred_vals[:, i] * feat_std + feat_mean\n",
    "        ax[i].scatter(true_vs, pred_vs, c=\"k\", s=5, alpha=0.2, marker=\"o\")\n",
    "        ax[i].plot([true_vs.min(), true_vs.max()], [true_vs.min(), true_vs.max()], ls=\"--\", c=\"k\", lw=1)\n",
    "        # ax[i].set_xlabel(\"True\", fontsize=12)\n",
    "        # if i == 0:\n",
    "        #     ax[i].set_ylabel(\"Predicted\", fontsize=12)\n",
    "        ax[i].set_title(title_names[i], fontsize=13)\n",
    "        # ax[i].set_title(f\"{title_names[i]}\\n$R^2$ = {r2_score(true_vs, pred_vs):.3f}\", fontsize=10)\n",
    "        ax[i].tick_params(axis=\"both\", which=\"major\", labelsize=12)\n",
    "        ax[i].set_yticks(ax[i].get_xticks())\n",
    "        ax[i].axis(\"equal\")\n",
    "        sns.despine(ax=ax[i], offset=dict(left=-20, bottom=-10), trim=True)\n",
    "    plt.tight_layout()\n",
    "    return fig"
   ]
  },
  {
   "cell_type": "code",
   "execution_count": 39,
   "metadata": {},
   "outputs": [
    {
     "data": {
      "image/png": "[encoded data removed]",
      "text/plain": [
       "<Figure size 600x300 with 2 Axes>"
      ]
     },
     "metadata": {},
     "output_type": "display_data"
    }
   ],
   "source": [
    "my_batch = next(iter(valid_loader))\n",
    "my_x = my_batch[0]\n",
    "my_y = my_batch[1]\n",
    "my_y_hat = model.model(my_x, distances=my_y[:, 1], radii=my_y[:, 3])\n",
    "my_y = my_y[:, -2:]\n",
    "\n",
    "fig = make_true_vs_predicted_figure(my_y.detach().numpy()[:400], my_y_hat.detach().numpy()[:400])\n",
    "\n",
    "plt.savefig(\"true_vs_predicted-rc_only.svg\")\n",
    "plt.show()"
   ]
  },
  {
   "cell_type": "code",
   "execution_count": null,
   "metadata": {},
   "outputs": [],
   "source": []
  },
  {
   "cell_type": "code",
   "execution_count": null,
   "metadata": {},
   "outputs": [],
   "source": []
  },
  {
   "cell_type": "code",
   "execution_count": null,
   "metadata": {},
   "outputs": [],
   "source": []
  },
  {
   "cell_type": "code",
   "execution_count": null,
   "metadata": {},
   "outputs": [],
   "source": []
  }
 ],
 "metadata": {
  "kernelspec": {
   "display_name": "efish",
   "language": "python",
   "name": "python3"
  },
  "language_info": {
   "codemirror_mode": {
    "name": "ipython",
    "version": 3
   },
   "file_extension": ".py",
   "mimetype": "text/x-python",
   "name": "python",
   "nbconvert_exporter": "python",
   "pygments_lexer": "ipython3",
   "version": "3.12.2"
  }
 },
 "nbformat": 4,
 "nbformat_minor": 2
}
