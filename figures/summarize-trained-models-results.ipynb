{
 "cells": [
  {
   "cell_type": "code",
   "execution_count": 1,
   "metadata": {},
   "outputs": [],
   "source": [
    "%load_ext autoreload\n",
    "%autoreload 2"
   ]
  },
  {
   "cell_type": "code",
   "execution_count": 2,
   "metadata": {},
   "outputs": [],
   "source": [
    "import glob\n",
    "import dill\n",
    "import numpy as np\n",
    "import pandas as pd\n",
    "from sklearn.metrics import r2_score\n",
    "import h5py\n",
    "import matplotlib.pyplot as plt\n",
    "import seaborn as sns\n",
    "import torch\n",
    "import torch.nn as nn\n",
    "from torch.utils.data import DataLoader\n",
    "import lightning as L\n",
    "from collections import OrderedDict\n",
    "\n",
    "import sys\n",
    "sys.path.append(\"../electric-properties-only\")\n",
    "sys.path.append(\"../end-to-end\")\n",
    "sys.path.append(\"../end-to-end-with-feedback\")\n",
    "sys.path.append(\"../../efish-physics-model/objects\")\n",
    "sys.path.append(\"../../efish-physics-model/helper_functions\")\n",
    "sys.path.append(\"../../efish-physics-model/uniform_points_generation\")\n",
    "\n",
    "# from helpers_conv_nn_models import make_true_vs_predicted_figure\n",
    "from electric_images_dataset import ElectricImagesDataset\n",
    "from EndToEndConvNN import EndToEndConvNN\n",
    "from EndToEndConvNN_PL import EndToEndConvNN_PL\n",
    "from EndToEndConvNNWithFeedback import EndToEndConvNNWithFeedback\n",
    "from EndToEndConvNNWithFeedback_PL import EndToEndConvNNWithFeedback_PL"
   ]
  },
  {
   "cell_type": "markdown",
   "metadata": {},
   "source": [
    "## Load trained Models"
   ]
  },
  {
   "cell_type": "code",
   "execution_count": 3,
   "metadata": {},
   "outputs": [],
   "source": [
    "models = pd.DataFrame()"
   ]
  },
  {
   "cell_type": "markdown",
   "metadata": {},
   "source": [
    "#### Prepare dataset for dummy run to initialize LazyLayers"
   ]
  },
  {
   "cell_type": "code",
   "execution_count": 4,
   "metadata": {},
   "outputs": [],
   "source": [
    "batch_size = 5000\n",
    "data_dir_name = \"../../efish-physics-model/data/processed/data-2024_06_18-characterization_dataset\"\n",
    "dset = ElectricImagesDataset(data_dir_name=data_dir_name, fish_t=20, fish_u=30)"
   ]
  },
  {
   "cell_type": "markdown",
   "metadata": {},
   "source": [
    "#### Load full end-to-end models"
   ]
  },
  {
   "cell_type": "code",
   "execution_count": 5,
   "metadata": {},
   "outputs": [
    {
     "name": "stderr",
     "output_type": "stream",
     "text": [
      "/home/dturcu/.conda/envs/efish/lib/python3.12/site-packages/torch/nn/modules/lazy.py:181: UserWarning: Lazy modules are a new feature under heavy development so changes to the API or functionality can happen at any moment.\n",
      "  warnings.warn('Lazy modules are a new feature under heavy development '\n"
     ]
    }
   ],
   "source": [
    "for folder in list(np.sort(glob.glob(\"stats-panel/full-model*\"))):\n",
    "    checkpoint_path = f\"{folder}/lightning_logs/version_0/checkpoints/epoch=4-step=25015.ckpt\"\n",
    "    model = EndToEndConvNN_PL.load_from_checkpoint(checkpoint_path)\n",
    "    model.eval()\n",
    "    model.freeze()\n",
    "    model.cpu()\n",
    "    rand_seed = int(folder.split(\"_\")[1].split(\"-\")[0])\n",
    "    lambda_RC = int(folder.split(\"_\")[-1])\n",
    "    models = pd.concat([models, pd.DataFrame({\"rand_seed\": [rand_seed], \"lambda_RC\": [lambda_RC], \"model_type\":\"full\", \"model\": [model]})]).reset_index(drop=True)"
   ]
  },
  {
   "cell_type": "code",
   "execution_count": 6,
   "metadata": {},
   "outputs": [],
   "source": [
    "for folder in list(np.sort(glob.glob(\"stats-panel/feedback-with-values*\"))):\n",
    "# for folder in list(np.sort(glob.glob(\"stats-panel/feedback-with-estimates*\"))):\n",
    "    checkpoint_path = f\"{folder}/lightning_logs/version_0/checkpoints/epoch=4-step=25015.ckpt\"\n",
    "    model = EndToEndConvNNWithFeedback_PL.load_from_checkpoint(checkpoint_path)\n",
    "    model.eval()\n",
    "    model.freeze()\n",
    "    model.cpu()\n",
    "    rand_seed = int(folder.split(\"_\")[1].split(\"-\")[0])\n",
    "    lambda_RC = int(folder.split(\"_\")[-1])\n",
    "    models = pd.concat([models, pd.DataFrame({\"rand_seed\": [rand_seed], \"lambda_RC\": [lambda_RC], \"model_type\":\"feedback\", \"model\": [model]})]).reset_index(drop=True)"
   ]
  },
  {
   "cell_type": "code",
   "execution_count": 7,
   "metadata": {},
   "outputs": [
    {
     "name": "stderr",
     "output_type": "stream",
     "text": [
      "Seed set to 11\n"
     ]
    },
    {
     "name": "stderr",
     "output_type": "stream",
     "text": [
      "Seed set to 113\n"
     ]
    }
   ],
   "source": [
    "valid_data = dict()\n",
    "for rand_seed in models[\"rand_seed\"].unique():\n",
    "    L.seed_everything(rand_seed)\n",
    "    _, valid_dset = torch.utils.data.random_split(dset, [0.75, 0.25])  # type: ignore\n",
    "    valid_data[rand_seed] = DataLoader(valid_dset, batch_size=batch_size, shuffle=False, drop_last=True, num_workers=12)"
   ]
  },
  {
   "cell_type": "markdown",
   "metadata": {},
   "source": [
    "## Compute overall R2 score"
   ]
  },
  {
   "cell_type": "code",
   "execution_count": 8,
   "metadata": {},
   "outputs": [],
   "source": [
    "def compute_overall_r2_score(dfrow, valid_data=valid_data):\n",
    "    model = dfrow[\"model\"]\n",
    "    model_type = dfrow[\"model_type\"]\n",
    "    rand_seed = dfrow[\"rand_seed\"]\n",
    "    valid_dloader = valid_data[rand_seed]\n",
    "    y_true = []\n",
    "    y_pred = []\n",
    "    num_batches = 0\n",
    "    for x, y in valid_dloader:\n",
    "        if model_type == \"full\":\n",
    "            y_pred.append(model.model(x).detach().numpy())\n",
    "        elif model_type == \"feedback\":\n",
    "            y_pred.append(model.model(x, distances=y[:, 1], radii=y[:, 3]).detach().numpy())\n",
    "        y_true.append(y.detach().numpy())\n",
    "        num_batches += 1\n",
    "        if num_batches >= 24:\n",
    "            break\n",
    "    y_true = np.vstack(y_true)\n",
    "    y_pred = np.vstack(y_pred)\n",
    "    for i, feat_name in enumerate([\"position_xs\", \"position_ys\", \"position_zs\", \"radii\", \"resistances\", \"capacitances\"]):\n",
    "        dfrow[f\"r2_score_{feat_name}\"] = r2_score(y_true[:,i], y_pred[:,i])\n",
    "    return dfrow"
   ]
  },
  {
   "cell_type": "code",
   "execution_count": 9,
   "metadata": {},
   "outputs": [],
   "source": [
    "# models_with_r2 = models[:1].apply(compute_overall_r2_score, axis=1)\n",
    "models_with_r2 = models.apply(compute_overall_r2_score, axis=1)\n",
    "models_with_r2.drop(columns=[\"model\"]).to_csv(\"models_with_r2.csv\", index=False)\n",
    "# models_with_r2.drop(columns=[\"model\"]).to_csv(\"models_with_r2_estimates.csv\", index=False)"
   ]
  },
  {
   "cell_type": "code",
   "execution_count": 9,
   "metadata": {},
   "outputs": [],
   "source": [
    "def compute_prediction_with_multiple_eods(y, y_hat, n_eods):\n",
    "    y_hat_multiple_eods = []\n",
    "    for i in range(y.shape[1]):\n",
    "        vals, indices = torch.unique(y[:, i], return_inverse=True)\n",
    "        temp_y_hat = torch.zeros_like(y_hat[:, i])\n",
    "        for j in range(len(vals)):\n",
    "            avg_response = y_hat[indices == j, i].mean().item()\n",
    "            std_response = (y_hat[indices == j, i].std() / np.sqrt(n_eods)).item()\n",
    "            temp_y_hat[indices == j] = torch.normal(avg_response, std_response, size=((indices == j).sum().item(),))\n",
    "        y_hat_multiple_eods.append(temp_y_hat)\n",
    "    return torch.vstack(y_hat_multiple_eods).T\n",
    "\n",
    "\n",
    "def compute_overall_r2_score_multiple_eods(dfrow, valid_data=valid_data, num_eods=[1, 2, 3, 4, 5, 10, 20, 40]):\n",
    "    model = dfrow[\"model\"]\n",
    "    model_type = dfrow[\"model_type\"]\n",
    "    rand_seed = dfrow[\"rand_seed\"]\n",
    "    valid_dloader = valid_data[rand_seed]\n",
    "    num_batches = 0\n",
    "    for neods in num_eods:\n",
    "        y_true = []\n",
    "        y_pred = []\n",
    "        for x, y in valid_dloader:\n",
    "            if model_type == \"full\":\n",
    "                y_hat = model.model(x)\n",
    "                y_hat = compute_prediction_with_multiple_eods(y, y_hat, neods)\n",
    "                y_pred.append(y_hat.detach().numpy())\n",
    "            elif model_type == \"feedback\":\n",
    "                y_hat = model.model(x, distances=y[:, 1], radii=y[:, 3])\n",
    "                y_hat = compute_prediction_with_multiple_eods(y, y_hat, neods)\n",
    "                y_hat = model.model(x, distances=y_hat[:, 1], radii=y_hat[:, 3])\n",
    "                y_hat = compute_prediction_with_multiple_eods(y, y_hat, neods)\n",
    "                y_pred.append(y_hat.detach().numpy())\n",
    "            y_true.append(y.detach().numpy())\n",
    "            num_batches += 1\n",
    "            if num_batches >= 24:\n",
    "                break\n",
    "        y_true = np.vstack(y_true)\n",
    "        y_pred = np.vstack(y_pred)\n",
    "        for i, feat_name in enumerate(\n",
    "            [\"position_xs\", \"position_ys\", \"position_zs\", \"radii\", \"resistances\", \"capacitances\"]\n",
    "        ):\n",
    "            dfrow[f\"r2_score_{feat_name}_num_eods_{neods}\"] = r2_score(y_true[:, i], y_pred[:, i])\n",
    "    return dfrow"
   ]
  },
  {
   "cell_type": "code",
   "execution_count": 11,
   "metadata": {},
   "outputs": [],
   "source": [
    "# models_with_r2_multiple_eods = models[:1].apply(compute_overall_r2_score_multiple_eods, axis=1)\n",
    "models_with_r2_multiple_eods = models.apply(compute_overall_r2_score_multiple_eods, axis=1)\n",
    "models_with_r2_multiple_eods.drop(columns=[\"model\"]).to_csv(\"models_with_r2_multiple_eods.csv\", index=False)\n",
    "# models_with_r2_multiple_eods.drop(columns=[\"model\"]).to_csv(\"models_with_r2_multiple_eods_estimates.csv\", index=False)"
   ]
  },
  {
   "cell_type": "markdown",
   "metadata": {},
   "source": [
    "# Check feedback model with estimates"
   ]
  },
  {
   "cell_type": "code",
   "execution_count": 10,
   "metadata": {},
   "outputs": [
    {
     "data": {
      "text/html": [
       "<div>\n",
       "<style scoped>\n",
       "    .dataframe tbody tr th:only-of-type {\n",
       "        vertical-align: middle;\n",
       "    }\n",
       "\n",
       "    .dataframe tbody tr th {\n",
       "        vertical-align: top;\n",
       "    }\n",
       "\n",
       "    .dataframe thead th {\n",
       "        text-align: right;\n",
       "    }\n",
       "</style>\n",
       "<table border=\"1\" class=\"dataframe\">\n",
       "  <thead>\n",
       "    <tr style=\"text-align: right;\">\n",
       "      <th></th>\n",
       "      <th>rand_seed</th>\n",
       "      <th>lambda_RC</th>\n",
       "      <th>model_type</th>\n",
       "      <th>model</th>\n",
       "    </tr>\n",
       "  </thead>\n",
       "  <tbody>\n",
       "    <tr>\n",
       "      <th>0</th>\n",
       "      <td>11</td>\n",
       "      <td>0</td>\n",
       "      <td>full</td>\n",
       "      <td>EndToEndConvNN_PL(\\n  (model): EndToEndConvNN2...</td>\n",
       "    </tr>\n",
       "    <tr>\n",
       "      <th>1</th>\n",
       "      <td>11</td>\n",
       "      <td>1</td>\n",
       "      <td>full</td>\n",
       "      <td>EndToEndConvNN_PL(\\n  (model): EndToEndConvNN2...</td>\n",
       "    </tr>\n",
       "    <tr>\n",
       "      <th>2</th>\n",
       "      <td>11</td>\n",
       "      <td>16</td>\n",
       "      <td>full</td>\n",
       "      <td>EndToEndConvNN_PL(\\n  (model): EndToEndConvNN2...</td>\n",
       "    </tr>\n",
       "    <tr>\n",
       "      <th>3</th>\n",
       "      <td>11</td>\n",
       "      <td>2</td>\n",
       "      <td>full</td>\n",
       "      <td>EndToEndConvNN_PL(\\n  (model): EndToEndConvNN2...</td>\n",
       "    </tr>\n",
       "    <tr>\n",
       "      <th>4</th>\n",
       "      <td>11</td>\n",
       "      <td>4</td>\n",
       "      <td>full</td>\n",
       "      <td>EndToEndConvNN_PL(\\n  (model): EndToEndConvNN2...</td>\n",
       "    </tr>\n",
       "    <tr>\n",
       "      <th>5</th>\n",
       "      <td>11</td>\n",
       "      <td>8</td>\n",
       "      <td>full</td>\n",
       "      <td>EndToEndConvNN_PL(\\n  (model): EndToEndConvNN2...</td>\n",
       "    </tr>\n",
       "    <tr>\n",
       "      <th>6</th>\n",
       "      <td>113</td>\n",
       "      <td>0</td>\n",
       "      <td>full</td>\n",
       "      <td>EndToEndConvNN_PL(\\n  (model): EndToEndConvNN2...</td>\n",
       "    </tr>\n",
       "    <tr>\n",
       "      <th>7</th>\n",
       "      <td>113</td>\n",
       "      <td>1</td>\n",
       "      <td>full</td>\n",
       "      <td>EndToEndConvNN_PL(\\n  (model): EndToEndConvNN2...</td>\n",
       "    </tr>\n",
       "    <tr>\n",
       "      <th>8</th>\n",
       "      <td>113</td>\n",
       "      <td>16</td>\n",
       "      <td>full</td>\n",
       "      <td>EndToEndConvNN_PL(\\n  (model): EndToEndConvNN2...</td>\n",
       "    </tr>\n",
       "    <tr>\n",
       "      <th>9</th>\n",
       "      <td>113</td>\n",
       "      <td>2</td>\n",
       "      <td>full</td>\n",
       "      <td>EndToEndConvNN_PL(\\n  (model): EndToEndConvNN2...</td>\n",
       "    </tr>\n",
       "    <tr>\n",
       "      <th>10</th>\n",
       "      <td>113</td>\n",
       "      <td>4</td>\n",
       "      <td>full</td>\n",
       "      <td>EndToEndConvNN_PL(\\n  (model): EndToEndConvNN2...</td>\n",
       "    </tr>\n",
       "    <tr>\n",
       "      <th>11</th>\n",
       "      <td>113</td>\n",
       "      <td>8</td>\n",
       "      <td>full</td>\n",
       "      <td>EndToEndConvNN_PL(\\n  (model): EndToEndConvNN2...</td>\n",
       "    </tr>\n",
       "    <tr>\n",
       "      <th>12</th>\n",
       "      <td>11</td>\n",
       "      <td>0</td>\n",
       "      <td>feedback</td>\n",
       "      <td>EndToEndConvNNWithFeedback_PL(\\n  (model): End...</td>\n",
       "    </tr>\n",
       "    <tr>\n",
       "      <th>13</th>\n",
       "      <td>11</td>\n",
       "      <td>1</td>\n",
       "      <td>feedback</td>\n",
       "      <td>EndToEndConvNNWithFeedback_PL(\\n  (model): End...</td>\n",
       "    </tr>\n",
       "    <tr>\n",
       "      <th>14</th>\n",
       "      <td>11</td>\n",
       "      <td>16</td>\n",
       "      <td>feedback</td>\n",
       "      <td>EndToEndConvNNWithFeedback_PL(\\n  (model): End...</td>\n",
       "    </tr>\n",
       "    <tr>\n",
       "      <th>15</th>\n",
       "      <td>11</td>\n",
       "      <td>2</td>\n",
       "      <td>feedback</td>\n",
       "      <td>EndToEndConvNNWithFeedback_PL(\\n  (model): End...</td>\n",
       "    </tr>\n",
       "    <tr>\n",
       "      <th>16</th>\n",
       "      <td>11</td>\n",
       "      <td>4</td>\n",
       "      <td>feedback</td>\n",
       "      <td>EndToEndConvNNWithFeedback_PL(\\n  (model): End...</td>\n",
       "    </tr>\n",
       "    <tr>\n",
       "      <th>17</th>\n",
       "      <td>11</td>\n",
       "      <td>8</td>\n",
       "      <td>feedback</td>\n",
       "      <td>EndToEndConvNNWithFeedback_PL(\\n  (model): End...</td>\n",
       "    </tr>\n",
       "    <tr>\n",
       "      <th>18</th>\n",
       "      <td>113</td>\n",
       "      <td>0</td>\n",
       "      <td>feedback</td>\n",
       "      <td>EndToEndConvNNWithFeedback_PL(\\n  (model): End...</td>\n",
       "    </tr>\n",
       "    <tr>\n",
       "      <th>19</th>\n",
       "      <td>113</td>\n",
       "      <td>1</td>\n",
       "      <td>feedback</td>\n",
       "      <td>EndToEndConvNNWithFeedback_PL(\\n  (model): End...</td>\n",
       "    </tr>\n",
       "    <tr>\n",
       "      <th>20</th>\n",
       "      <td>113</td>\n",
       "      <td>16</td>\n",
       "      <td>feedback</td>\n",
       "      <td>EndToEndConvNNWithFeedback_PL(\\n  (model): End...</td>\n",
       "    </tr>\n",
       "    <tr>\n",
       "      <th>21</th>\n",
       "      <td>113</td>\n",
       "      <td>2</td>\n",
       "      <td>feedback</td>\n",
       "      <td>EndToEndConvNNWithFeedback_PL(\\n  (model): End...</td>\n",
       "    </tr>\n",
       "    <tr>\n",
       "      <th>22</th>\n",
       "      <td>113</td>\n",
       "      <td>4</td>\n",
       "      <td>feedback</td>\n",
       "      <td>EndToEndConvNNWithFeedback_PL(\\n  (model): End...</td>\n",
       "    </tr>\n",
       "    <tr>\n",
       "      <th>23</th>\n",
       "      <td>113</td>\n",
       "      <td>8</td>\n",
       "      <td>feedback</td>\n",
       "      <td>EndToEndConvNNWithFeedback_PL(\\n  (model): End...</td>\n",
       "    </tr>\n",
       "  </tbody>\n",
       "</table>\n",
       "</div>"
      ],
      "text/plain": [
       "    rand_seed  lambda_RC model_type  \\\n",
       "0          11          0       full   \n",
       "1          11          1       full   \n",
       "2          11         16       full   \n",
       "3          11          2       full   \n",
       "4          11          4       full   \n",
       "5          11          8       full   \n",
       "6         113          0       full   \n",
       "7         113          1       full   \n",
       "8         113         16       full   \n",
       "9         113          2       full   \n",
       "10        113          4       full   \n",
       "11        113          8       full   \n",
       "12         11          0   feedback   \n",
       "13         11          1   feedback   \n",
       "14         11         16   feedback   \n",
       "15         11          2   feedback   \n",
       "16         11          4   feedback   \n",
       "17         11          8   feedback   \n",
       "18        113          0   feedback   \n",
       "19        113          1   feedback   \n",
       "20        113         16   feedback   \n",
       "21        113          2   feedback   \n",
       "22        113          4   feedback   \n",
       "23        113          8   feedback   \n",
       "\n",
       "                                                model  \n",
       "0   EndToEndConvNN_PL(\\n  (model): EndToEndConvNN2...  \n",
       "1   EndToEndConvNN_PL(\\n  (model): EndToEndConvNN2...  \n",
       "2   EndToEndConvNN_PL(\\n  (model): EndToEndConvNN2...  \n",
       "3   EndToEndConvNN_PL(\\n  (model): EndToEndConvNN2...  \n",
       "4   EndToEndConvNN_PL(\\n  (model): EndToEndConvNN2...  \n",
       "5   EndToEndConvNN_PL(\\n  (model): EndToEndConvNN2...  \n",
       "6   EndToEndConvNN_PL(\\n  (model): EndToEndConvNN2...  \n",
       "7   EndToEndConvNN_PL(\\n  (model): EndToEndConvNN2...  \n",
       "8   EndToEndConvNN_PL(\\n  (model): EndToEndConvNN2...  \n",
       "9   EndToEndConvNN_PL(\\n  (model): EndToEndConvNN2...  \n",
       "10  EndToEndConvNN_PL(\\n  (model): EndToEndConvNN2...  \n",
       "11  EndToEndConvNN_PL(\\n  (model): EndToEndConvNN2...  \n",
       "12  EndToEndConvNNWithFeedback_PL(\\n  (model): End...  \n",
       "13  EndToEndConvNNWithFeedback_PL(\\n  (model): End...  \n",
       "14  EndToEndConvNNWithFeedback_PL(\\n  (model): End...  \n",
       "15  EndToEndConvNNWithFeedback_PL(\\n  (model): End...  \n",
       "16  EndToEndConvNNWithFeedback_PL(\\n  (model): End...  \n",
       "17  EndToEndConvNNWithFeedback_PL(\\n  (model): End...  \n",
       "18  EndToEndConvNNWithFeedback_PL(\\n  (model): End...  \n",
       "19  EndToEndConvNNWithFeedback_PL(\\n  (model): End...  \n",
       "20  EndToEndConvNNWithFeedback_PL(\\n  (model): End...  \n",
       "21  EndToEndConvNNWithFeedback_PL(\\n  (model): End...  \n",
       "22  EndToEndConvNNWithFeedback_PL(\\n  (model): End...  \n",
       "23  EndToEndConvNNWithFeedback_PL(\\n  (model): End...  "
      ]
     },
     "execution_count": 10,
     "metadata": {},
     "output_type": "execute_result"
    }
   ],
   "source": [
    "models"
   ]
  },
  {
   "cell_type": "code",
   "execution_count": 14,
   "metadata": {},
   "outputs": [],
   "source": [
    "def make_true_vs_predicted_figure(\n",
    "    true_vals: np.ndarray,\n",
    "    pred_vals: np.ndarray,\n",
    "    feature_names: list[str] = [\"position_xs\", \"position_ys\", \"position_zs\", \"radii\", \"resistances\", \"capacitances\"],\n",
    "    title_names: list[str] = [\"Lateral position (mm)\", \"Distance (mm)\", \"Vertical position (mm)\", \"Radius (mm)\", \"Resistance (log)\", \"Capacitance (log)\"],\n",
    ") -> plt.Figure:  # type: ignore\n",
    "    \"\"\"Create a figure comparing the true and predicted values for each feature.\n",
    "\n",
    "    Args:\n",
    "        true_vals (np.ndarray): True values.\n",
    "        pred_vals (np.ndarray): Predicted values.\n",
    "        feature_names (list[str], optional): Names of the features in the columns of the values.\n",
    "            Defaults to [\"position_xs\", \"position_ys\", \"position_zs\", \"radii\", \"resistances\", \"capacitances\"].\n",
    "\n",
    "    Returns:\n",
    "        plt.figure.Figure: Figure object containing the comparison.\n",
    "    \"\"\"\n",
    "    \n",
    "    fig, ax = plt.subplots(1, true_vals.shape[-1], figsize=(2 * true_vals.shape[-1], 2))\n",
    "    for i in range(true_vals.shape[-1]):\n",
    "        feat_mean = dset.worms_properties_stats[feature_names[i]][\"mean\"]\n",
    "        feat_std = dset.worms_properties_stats[feature_names[i]][\"std\"]\n",
    "        if i < 4:\n",
    "            feat_mean = feat_mean * 1e3\n",
    "            feat_std = feat_std * 1e3\n",
    "        if i == 0:\n",
    "            feat_mean = - feat_mean\n",
    "            feat_std = - feat_std\n",
    "        if i == 1:\n",
    "            feat_mean = feat_mean - 9\n",
    "        true_vs = true_vals[:, i] * feat_std + feat_mean\n",
    "        pred_vs = pred_vals[:, i] * feat_std + feat_mean\n",
    "        ax[i].scatter(true_vs, pred_vs, c='k', s=1, alpha=0.5, marker=\".\")\n",
    "        ax[i].plot([true_vs.min(), true_vs.max()], [true_vs.min(), true_vs.max()], ls=\"--\", c=\"k\", lw=0.5)\n",
    "        ax[i].set_xlabel(\"True\", fontsize=8)\n",
    "        if i == 0:\n",
    "            ax[i].set_ylabel(\"Predicted\", fontsize=8)\n",
    "        ax[i].set_title(title_names[i], fontsize=10)\n",
    "        # ax[i].set_title(f\"{title_names[i]}\\n$R^2$ = {r2_score(true_vs, pred_vs):.3f}\", fontsize=10)\n",
    "        ax[i].tick_params(axis=\"both\", which=\"major\", labelsize=6)\n",
    "        ax[i].axis(\"equal\")\n",
    "        sns.despine(ax=ax[i], offset=0, trim=True)\n",
    "    plt.tight_layout()\n",
    "    return fig"
   ]
  },
  {
   "cell_type": "code",
   "execution_count": 15,
   "metadata": {},
   "outputs": [
    {
     "data": {
      "text/plain": [
       "{'resistances': {'mean': 3.848484848485048, 'std': 0.6989431980200183},\n",
       " 'capacitances': {'mean': -9.15151515151503, 'std': 0.6989431980327792},\n",
       " 'radii': {'mean': 0.0054999999999999945, 'std': 0.0027386128284640925},\n",
       " 'position_xs': {'mean': -0.05000000000000003, 'std': 0.027386128286089},\n",
       " 'position_ys': {'mean': 0.02900000000000005, 'std': 0.006055300798828547},\n",
       " 'position_zs': {'mean': 2.080228652944331e-25, 'std': 0.006324555414262988}}"
      ]
     },
     "execution_count": 15,
     "metadata": {},
     "output_type": "execute_result"
    }
   ],
   "source": [
    "dset.worms_properties_stats"
   ]
  },
  {
   "cell_type": "code",
   "execution_count": 18,
   "metadata": {},
   "outputs": [
    {
     "data": {
      "image/png": "[encoded data removed]",
      "text/plain": [
       "<Figure size 1200x200 with 6 Axes>"
      ]
     },
     "metadata": {},
     "output_type": "display_data"
    }
   ],
   "source": [
    "my_model = models.loc[14]\n",
    "my_rand_seed = my_model[\"rand_seed\"]\n",
    "my_model = my_model[\"model\"]\n",
    "my_loader = valid_data[my_rand_seed]\n",
    "my_batch = next(iter(my_loader))\n",
    "my_x = my_batch[0]\n",
    "my_y = my_batch[1]\n",
    "my_y_hat = my_model.model(my_x, distances=my_y[:, 1], radii=my_y[:, 3])\n",
    "\n",
    "fig = make_true_vs_predicted_figure(my_y.detach().numpy()[:400], my_y_hat.detach().numpy()[:400])\n",
    "plt.savefig(\"true_vs_predicted-feedback.svg\")\n",
    "plt.show()\n",
    "\n",
    "# neods = 10\n",
    "# my_y_hat = compute_prediction_with_multiple_eods(my_y, my_y_hat, neods)\n",
    "# my_y_hat = my_model.model(my_x, distances=my_y_hat[:, 1], radii=my_y_hat[:, 3])\n",
    "# my_y_hat = compute_prediction_with_multiple_eods(my_y, my_y_hat, neods)\n",
    "# # my_y_hat_temp = compute_prediction_with_multiple_eods(my_y, my_y_hat, neods)\n",
    "# # my_y_hat = torch.hstack([my_y_hat_temp[:,:4], my_y_hat[:,4:]])\n",
    "\n",
    "# fig = make_true_vs_predicted_figure(my_y.detach().numpy()[:400], my_y_hat.detach().numpy()[:400])\n",
    "# plt.show()"
   ]
  },
  {
   "cell_type": "code",
   "execution_count": 19,
   "metadata": {},
   "outputs": [
    {
     "data": {
      "image/png": "[encoded data removed]",
      "text/plain": [
       "<Figure size 1200x200 with 6 Axes>"
      ]
     },
     "metadata": {},
     "output_type": "display_data"
    }
   ],
   "source": [
    "my_model = models.loc[2]\n",
    "my_rand_seed = my_model[\"rand_seed\"]\n",
    "my_model = my_model[\"model\"]\n",
    "my_loader = valid_data[my_rand_seed]\n",
    "my_batch = next(iter(my_loader))\n",
    "my_x = my_batch[0]\n",
    "my_y = my_batch[1]\n",
    "my_y_hat = my_model.model(my_x)\n",
    "\n",
    "fig = make_true_vs_predicted_figure(my_y.detach().numpy()[:400], my_y_hat.detach().numpy()[:400])\n",
    "plt.savefig(\"true_vs_predicted-no_feedback.svg\")\n",
    "plt.show()\n",
    "\n",
    "# neods = 10\n",
    "# my_y_hat = compute_prediction_with_multiple_eods(my_y, my_y_hat, neods)\n",
    "\n",
    "# fig = make_true_vs_predicted_figure(my_y.detach().numpy()[:400], my_y_hat.detach().numpy()[:400])\n",
    "# plt.show()"
   ]
  },
  {
   "cell_type": "code",
   "execution_count": null,
   "metadata": {},
   "outputs": [],
   "source": []
  }
 ],
 "metadata": {
  "kernelspec": {
   "display_name": "efish",
   "language": "python",
   "name": "python3"
  },
  "language_info": {
   "codemirror_mode": {
    "name": "ipython",
    "version": 3
   },
   "file_extension": ".py",
   "mimetype": "text/x-python",
   "name": "python",
   "nbconvert_exporter": "python",
   "pygments_lexer": "ipython3",
   "version": "3.12.2"
  }
 },
 "nbformat": 4,
 "nbformat_minor": 2
}
