{
 "cells": [
  {
   "cell_type": "code",
   "execution_count": 1,
   "metadata": {},
   "outputs": [],
   "source": [
    "%load_ext autoreload\n",
    "%autoreload 2"
   ]
  },
  {
   "cell_type": "code",
   "execution_count": 2,
   "metadata": {},
   "outputs": [],
   "source": [
    "import glob\n",
    "import numpy as np\n",
    "import pandas as pd\n",
    "import matplotlib.pyplot as plt\n",
    "import seaborn as sns\n",
    "from sklearn.ensemble import RandomForestClassifier\n",
    "import torch\n",
    "from torch.utils.data import DataLoader\n",
    "\n",
    "import sys\n",
    "\n",
    "sys.path.append(\"../electric-properties-only\")\n",
    "sys.path.append(\"../end-to-end\")\n",
    "sys.path.append(\"../end-to-end-with-feedback\")\n",
    "sys.path.append(\"../../efish-physics-model/objects\")\n",
    "sys.path.append(\"../../efish-physics-model/helper_functions\")\n",
    "sys.path.append(\"../../efish-physics-model/uniform_points_generation\")\n",
    "\n",
    "# from helpers_conv_nn_models import make_true_vs_predicted_figure\n",
    "from electric_images_dataset import ElectricImagesDataset\n",
    "from EndToEndConvNN_PL import EndToEndConvNN_PL\n",
    "from EndToEndConvNNWithFeedback_PL import EndToEndConvNNWithFeedback_PL\n",
    "from ElectricPropertiesNN_PL import ElectricPropertiesNN_PL\n"
   ]
  },
  {
   "cell_type": "markdown",
   "metadata": {},
   "source": [
    "## Load trained Models"
   ]
  },
  {
   "cell_type": "code",
   "execution_count": 3,
   "metadata": {},
   "outputs": [],
   "source": [
    "models = pd.DataFrame()"
   ]
  },
  {
   "cell_type": "markdown",
   "metadata": {},
   "source": [
    "#### Prepare dataset for dummy run to initialize LazyLayers"
   ]
  },
  {
   "cell_type": "code",
   "execution_count": 4,
   "metadata": {},
   "outputs": [],
   "source": [
    "batch_size = 100\n",
    "data_dir_name = \"../../efish-physics-model/data/processed/data-2024_06_18-characterization_dataset\"\n",
    "original_dset = ElectricImagesDataset(data_dir_name=data_dir_name, fish_t=20, fish_u=30)\n",
    "original_stats = pd.DataFrame.from_dict(original_dset.worms_properties_stats)[\n",
    "    [\"position_xs\", \"position_ys\", \"position_zs\", \"radii\", \"resistances\", \"capacitances\"]\n",
    "]\n",
    "data_dir_name = \"../../efish-physics-model/data/processed/data-2024_12_19-discrimination_dataset-capacitance\"\n",
    "raw_dataset = pd.read_pickle(f\"{data_dir_name}/dataset.pkl\")\n",
    "dset = ElectricImagesDataset(data_dir_name=data_dir_name, fish_t=20, fish_u=30)\n",
    "new_stats = pd.DataFrame.from_dict(dset.worms_properties_stats)[\n",
    "    [\"position_xs\", \"position_ys\", \"position_zs\", \"radii\", \"resistances\", \"capacitances\"]\n",
    "]\n",
    "dset.worms_properties_stats = original_dset.worms_properties_stats\n",
    "dset.worms_properties = (\n",
    "    dset.worms_properties[:] * new_stats.loc[\"std\"].to_numpy()\n",
    "    + new_stats.loc[\"mean\"].to_numpy()\n",
    "    - original_stats.loc[\"mean\"].to_numpy()\n",
    ") / original_stats.loc[\"std\"].to_numpy()\n",
    "dloader = DataLoader(dset, batch_size=batch_size, shuffle=False, drop_last=False, num_workers=12)"
   ]
  },
  {
   "cell_type": "markdown",
   "metadata": {},
   "source": [
    "#### Load full end-to-end models"
   ]
  },
  {
   "cell_type": "code",
   "execution_count": 5,
   "metadata": {},
   "outputs": [
    {
     "name": "stderr",
     "output_type": "stream",
     "text": [
      "/home/dturcu/.conda/envs/efish/lib/python3.12/site-packages/torch/nn/modules/lazy.py:181: UserWarning: Lazy modules are a new feature under heavy development so changes to the API or functionality can happen at any moment.\n",
      "  warnings.warn('Lazy modules are a new feature under heavy development '\n"
     ]
    }
   ],
   "source": [
    "for folder in list(np.sort(glob.glob(\"../figures/stats-panel/full-model*\"))):\n",
    "    checkpoint_path = f\"{folder}/lightning_logs/version_0/checkpoints/epoch=4-step=25015.ckpt\"\n",
    "    model = EndToEndConvNN_PL.load_from_checkpoint(checkpoint_path)\n",
    "    model.eval()\n",
    "    model.freeze()\n",
    "    model.cpu()\n",
    "    rand_seed = int(folder.split(\"_\")[1].split(\"-\")[0])\n",
    "    lambda_RC = int(folder.split(\"_\")[-1])\n",
    "    models = pd.concat(\n",
    "        [\n",
    "            models,\n",
    "            pd.DataFrame({\"rand_seed\": [rand_seed], \"lambda_RC\": [lambda_RC], \"model_type\": \"full\", \"model\": [model]}),\n",
    "        ]\n",
    "    ).reset_index(drop=True)"
   ]
  },
  {
   "cell_type": "code",
   "execution_count": 6,
   "metadata": {},
   "outputs": [
    {
     "data": {
      "text/plain": [
       "ElectricPropertiesNN_PL(\n",
       "  (model): ElectricPropertiesNN(\n",
       "    (sequence): Sequential(\n",
       "      (0): BatchNorm1d(2, eps=1e-05, momentum=0.1, affine=True, track_running_stats=True)\n",
       "      (1): Linear(in_features=2, out_features=10, bias=True)\n",
       "      (2): ReLU()\n",
       "      (3): Linear(in_features=10, out_features=20, bias=True)\n",
       "      (4): ReLU()\n",
       "      (5): Linear(in_features=20, out_features=10, bias=True)\n",
       "      (6): ReLU()\n",
       "      (7): Linear(in_features=10, out_features=2, bias=True)\n",
       "    )\n",
       "  )\n",
       ")"
      ]
     },
     "execution_count": 6,
     "metadata": {},
     "output_type": "execute_result"
    }
   ],
   "source": [
    "# load the retrained scale model\n",
    "# checkpoint_path = f\"../electric-properties-only/retrain_scale/lightning_logs/version_4/checkpoints/epoch=599-step=21000.ckpt\"\n",
    "checkpoint_path = f\"../electric-properties-only/retrain_scale/lightning_logs/version_6/checkpoints/epoch=999-step=35000.ckpt\"\n",
    "retrained_scale_model = ElectricPropertiesNN_PL.load_from_checkpoint(checkpoint_path)\n",
    "retrained_scale_model.eval()\n",
    "retrained_scale_model.freeze()\n",
    "retrained_scale_model.cpu()"
   ]
  },
  {
   "cell_type": "code",
   "execution_count": 7,
   "metadata": {},
   "outputs": [],
   "source": [
    "for i, folder in enumerate(list(np.sort(glob.glob(\"../figures/stats-panel/feedback-with-values*\")))):\n",
    "    checkpoint_path = f\"{folder}/lightning_logs/version_0/checkpoints/epoch=4-step=25015.ckpt\"\n",
    "    model = EndToEndConvNNWithFeedback_PL.load_from_checkpoint(checkpoint_path)\n",
    "    model.eval()\n",
    "    model.freeze()\n",
    "    model.cpu()\n",
    "    model.model.spatial_model = models.loc[i, \"model\"].model\n",
    "    # model.model.spatial_model.linear.fc3.linear.weight = torch.nn.Parameter(models.loc[i, \"model\"].model.linear.fc3.linear.weight[:4].clone())\n",
    "    model.model.feedback_model = retrained_scale_model.model\n",
    "    \n",
    "    rand_seed = int(folder.split(\"_\")[1].split(\"-\")[0])\n",
    "    lambda_RC = int(folder.split(\"_\")[-1])\n",
    "    models = pd.concat(\n",
    "        [\n",
    "            models,\n",
    "            pd.DataFrame(\n",
    "                {\"rand_seed\": [rand_seed], \"lambda_RC\": [lambda_RC], \"model_type\": \"feedback_vals\", \"model\": [model]}\n",
    "            ),\n",
    "        ]\n",
    "    ).reset_index(drop=True)\n",
    "\n",
    "for i, folder in enumerate(list(np.sort(glob.glob(\"../figures/stats-panel/feedback-with-estimates*\")))):\n",
    "    checkpoint_path = f\"{folder}/lightning_logs/version_0/checkpoints/epoch=4-step=25015.ckpt\"\n",
    "    model = EndToEndConvNNWithFeedback_PL.load_from_checkpoint(checkpoint_path)\n",
    "    model.eval()\n",
    "    model.freeze()\n",
    "    model.cpu()\n",
    "    model.model.spatial_model = models.loc[i, \"model\"].model\n",
    "    # model.model.spatial_model.linear.fc3.linear.weight = torch.nn.Parameter(models.loc[i, \"model\"].model.linear.fc3.linear.weight[:4].clone())\n",
    "    model.model.feedback_model = retrained_scale_model.model\n",
    "    rand_seed = int(folder.split(\"_\")[1].split(\"-\")[0])\n",
    "    lambda_RC = int(folder.split(\"_\")[-1])\n",
    "    models = pd.concat(\n",
    "        [\n",
    "            models,\n",
    "            pd.DataFrame(\n",
    "                {\"rand_seed\": [rand_seed], \"lambda_RC\": [lambda_RC], \"model_type\": \"feedback_esti\", \"model\": [model]}\n",
    "            ),\n",
    "        ]\n",
    "    ).reset_index(drop=True)"
   ]
  },
  {
   "cell_type": "code",
   "execution_count": 8,
   "metadata": {},
   "outputs": [],
   "source": [
    "models = models[models[\"lambda_RC\"] > 0].reset_index(drop=True)\n",
    "# models = models[models[\"model_type\"]==\"full\"].reset_index(drop=True)"
   ]
  },
  {
   "cell_type": "code",
   "execution_count": 9,
   "metadata": {},
   "outputs": [
    {
     "data": {
      "text/html": [
       "<div>\n",
       "<style scoped>\n",
       "    .dataframe tbody tr th:only-of-type {\n",
       "        vertical-align: middle;\n",
       "    }\n",
       "\n",
       "    .dataframe tbody tr th {\n",
       "        vertical-align: top;\n",
       "    }\n",
       "\n",
       "    .dataframe thead th {\n",
       "        text-align: right;\n",
       "    }\n",
       "</style>\n",
       "<table border=\"1\" class=\"dataframe\">\n",
       "  <thead>\n",
       "    <tr style=\"text-align: right;\">\n",
       "      <th></th>\n",
       "      <th>rand_seed</th>\n",
       "      <th>lambda_RC</th>\n",
       "      <th>model_type</th>\n",
       "      <th>model</th>\n",
       "    </tr>\n",
       "  </thead>\n",
       "  <tbody>\n",
       "    <tr>\n",
       "      <th>0</th>\n",
       "      <td>11</td>\n",
       "      <td>1</td>\n",
       "      <td>full</td>\n",
       "      <td>EndToEndConvNN_PL(\\n  (model): EndToEndConvNN2...</td>\n",
       "    </tr>\n",
       "    <tr>\n",
       "      <th>1</th>\n",
       "      <td>11</td>\n",
       "      <td>16</td>\n",
       "      <td>full</td>\n",
       "      <td>EndToEndConvNN_PL(\\n  (model): EndToEndConvNN2...</td>\n",
       "    </tr>\n",
       "    <tr>\n",
       "      <th>2</th>\n",
       "      <td>11</td>\n",
       "      <td>2</td>\n",
       "      <td>full</td>\n",
       "      <td>EndToEndConvNN_PL(\\n  (model): EndToEndConvNN2...</td>\n",
       "    </tr>\n",
       "    <tr>\n",
       "      <th>3</th>\n",
       "      <td>11</td>\n",
       "      <td>4</td>\n",
       "      <td>full</td>\n",
       "      <td>EndToEndConvNN_PL(\\n  (model): EndToEndConvNN2...</td>\n",
       "    </tr>\n",
       "    <tr>\n",
       "      <th>4</th>\n",
       "      <td>11</td>\n",
       "      <td>8</td>\n",
       "      <td>full</td>\n",
       "      <td>EndToEndConvNN_PL(\\n  (model): EndToEndConvNN2...</td>\n",
       "    </tr>\n",
       "    <tr>\n",
       "      <th>5</th>\n",
       "      <td>113</td>\n",
       "      <td>1</td>\n",
       "      <td>full</td>\n",
       "      <td>EndToEndConvNN_PL(\\n  (model): EndToEndConvNN2...</td>\n",
       "    </tr>\n",
       "    <tr>\n",
       "      <th>6</th>\n",
       "      <td>113</td>\n",
       "      <td>16</td>\n",
       "      <td>full</td>\n",
       "      <td>EndToEndConvNN_PL(\\n  (model): EndToEndConvNN2...</td>\n",
       "    </tr>\n",
       "    <tr>\n",
       "      <th>7</th>\n",
       "      <td>113</td>\n",
       "      <td>2</td>\n",
       "      <td>full</td>\n",
       "      <td>EndToEndConvNN_PL(\\n  (model): EndToEndConvNN2...</td>\n",
       "    </tr>\n",
       "    <tr>\n",
       "      <th>8</th>\n",
       "      <td>113</td>\n",
       "      <td>4</td>\n",
       "      <td>full</td>\n",
       "      <td>EndToEndConvNN_PL(\\n  (model): EndToEndConvNN2...</td>\n",
       "    </tr>\n",
       "    <tr>\n",
       "      <th>9</th>\n",
       "      <td>113</td>\n",
       "      <td>8</td>\n",
       "      <td>full</td>\n",
       "      <td>EndToEndConvNN_PL(\\n  (model): EndToEndConvNN2...</td>\n",
       "    </tr>\n",
       "    <tr>\n",
       "      <th>10</th>\n",
       "      <td>11</td>\n",
       "      <td>1</td>\n",
       "      <td>feedback_vals</td>\n",
       "      <td>EndToEndConvNNWithFeedback_PL(\\n  (model): End...</td>\n",
       "    </tr>\n",
       "    <tr>\n",
       "      <th>11</th>\n",
       "      <td>11</td>\n",
       "      <td>16</td>\n",
       "      <td>feedback_vals</td>\n",
       "      <td>EndToEndConvNNWithFeedback_PL(\\n  (model): End...</td>\n",
       "    </tr>\n",
       "    <tr>\n",
       "      <th>12</th>\n",
       "      <td>11</td>\n",
       "      <td>2</td>\n",
       "      <td>feedback_vals</td>\n",
       "      <td>EndToEndConvNNWithFeedback_PL(\\n  (model): End...</td>\n",
       "    </tr>\n",
       "    <tr>\n",
       "      <th>13</th>\n",
       "      <td>11</td>\n",
       "      <td>4</td>\n",
       "      <td>feedback_vals</td>\n",
       "      <td>EndToEndConvNNWithFeedback_PL(\\n  (model): End...</td>\n",
       "    </tr>\n",
       "    <tr>\n",
       "      <th>14</th>\n",
       "      <td>11</td>\n",
       "      <td>8</td>\n",
       "      <td>feedback_vals</td>\n",
       "      <td>EndToEndConvNNWithFeedback_PL(\\n  (model): End...</td>\n",
       "    </tr>\n",
       "    <tr>\n",
       "      <th>15</th>\n",
       "      <td>113</td>\n",
       "      <td>1</td>\n",
       "      <td>feedback_vals</td>\n",
       "      <td>EndToEndConvNNWithFeedback_PL(\\n  (model): End...</td>\n",
       "    </tr>\n",
       "    <tr>\n",
       "      <th>16</th>\n",
       "      <td>113</td>\n",
       "      <td>16</td>\n",
       "      <td>feedback_vals</td>\n",
       "      <td>EndToEndConvNNWithFeedback_PL(\\n  (model): End...</td>\n",
       "    </tr>\n",
       "    <tr>\n",
       "      <th>17</th>\n",
       "      <td>113</td>\n",
       "      <td>2</td>\n",
       "      <td>feedback_vals</td>\n",
       "      <td>EndToEndConvNNWithFeedback_PL(\\n  (model): End...</td>\n",
       "    </tr>\n",
       "    <tr>\n",
       "      <th>18</th>\n",
       "      <td>113</td>\n",
       "      <td>4</td>\n",
       "      <td>feedback_vals</td>\n",
       "      <td>EndToEndConvNNWithFeedback_PL(\\n  (model): End...</td>\n",
       "    </tr>\n",
       "    <tr>\n",
       "      <th>19</th>\n",
       "      <td>113</td>\n",
       "      <td>8</td>\n",
       "      <td>feedback_vals</td>\n",
       "      <td>EndToEndConvNNWithFeedback_PL(\\n  (model): End...</td>\n",
       "    </tr>\n",
       "    <tr>\n",
       "      <th>20</th>\n",
       "      <td>11</td>\n",
       "      <td>1</td>\n",
       "      <td>feedback_esti</td>\n",
       "      <td>EndToEndConvNNWithFeedback_PL(\\n  (model): End...</td>\n",
       "    </tr>\n",
       "    <tr>\n",
       "      <th>21</th>\n",
       "      <td>11</td>\n",
       "      <td>16</td>\n",
       "      <td>feedback_esti</td>\n",
       "      <td>EndToEndConvNNWithFeedback_PL(\\n  (model): End...</td>\n",
       "    </tr>\n",
       "    <tr>\n",
       "      <th>22</th>\n",
       "      <td>11</td>\n",
       "      <td>2</td>\n",
       "      <td>feedback_esti</td>\n",
       "      <td>EndToEndConvNNWithFeedback_PL(\\n  (model): End...</td>\n",
       "    </tr>\n",
       "    <tr>\n",
       "      <th>23</th>\n",
       "      <td>11</td>\n",
       "      <td>4</td>\n",
       "      <td>feedback_esti</td>\n",
       "      <td>EndToEndConvNNWithFeedback_PL(\\n  (model): End...</td>\n",
       "    </tr>\n",
       "    <tr>\n",
       "      <th>24</th>\n",
       "      <td>11</td>\n",
       "      <td>8</td>\n",
       "      <td>feedback_esti</td>\n",
       "      <td>EndToEndConvNNWithFeedback_PL(\\n  (model): End...</td>\n",
       "    </tr>\n",
       "    <tr>\n",
       "      <th>25</th>\n",
       "      <td>113</td>\n",
       "      <td>1</td>\n",
       "      <td>feedback_esti</td>\n",
       "      <td>EndToEndConvNNWithFeedback_PL(\\n  (model): End...</td>\n",
       "    </tr>\n",
       "    <tr>\n",
       "      <th>26</th>\n",
       "      <td>113</td>\n",
       "      <td>16</td>\n",
       "      <td>feedback_esti</td>\n",
       "      <td>EndToEndConvNNWithFeedback_PL(\\n  (model): End...</td>\n",
       "    </tr>\n",
       "    <tr>\n",
       "      <th>27</th>\n",
       "      <td>113</td>\n",
       "      <td>2</td>\n",
       "      <td>feedback_esti</td>\n",
       "      <td>EndToEndConvNNWithFeedback_PL(\\n  (model): End...</td>\n",
       "    </tr>\n",
       "    <tr>\n",
       "      <th>28</th>\n",
       "      <td>113</td>\n",
       "      <td>4</td>\n",
       "      <td>feedback_esti</td>\n",
       "      <td>EndToEndConvNNWithFeedback_PL(\\n  (model): End...</td>\n",
       "    </tr>\n",
       "    <tr>\n",
       "      <th>29</th>\n",
       "      <td>113</td>\n",
       "      <td>8</td>\n",
       "      <td>feedback_esti</td>\n",
       "      <td>EndToEndConvNNWithFeedback_PL(\\n  (model): End...</td>\n",
       "    </tr>\n",
       "  </tbody>\n",
       "</table>\n",
       "</div>"
      ],
      "text/plain": [
       "    rand_seed  lambda_RC     model_type  \\\n",
       "0          11          1           full   \n",
       "1          11         16           full   \n",
       "2          11          2           full   \n",
       "3          11          4           full   \n",
       "4          11          8           full   \n",
       "5         113          1           full   \n",
       "6         113         16           full   \n",
       "7         113          2           full   \n",
       "8         113          4           full   \n",
       "9         113          8           full   \n",
       "10         11          1  feedback_vals   \n",
       "11         11         16  feedback_vals   \n",
       "12         11          2  feedback_vals   \n",
       "13         11          4  feedback_vals   \n",
       "14         11          8  feedback_vals   \n",
       "15        113          1  feedback_vals   \n",
       "16        113         16  feedback_vals   \n",
       "17        113          2  feedback_vals   \n",
       "18        113          4  feedback_vals   \n",
       "19        113          8  feedback_vals   \n",
       "20         11          1  feedback_esti   \n",
       "21         11         16  feedback_esti   \n",
       "22         11          2  feedback_esti   \n",
       "23         11          4  feedback_esti   \n",
       "24         11          8  feedback_esti   \n",
       "25        113          1  feedback_esti   \n",
       "26        113         16  feedback_esti   \n",
       "27        113          2  feedback_esti   \n",
       "28        113          4  feedback_esti   \n",
       "29        113          8  feedback_esti   \n",
       "\n",
       "                                                model  \n",
       "0   EndToEndConvNN_PL(\\n  (model): EndToEndConvNN2...  \n",
       "1   EndToEndConvNN_PL(\\n  (model): EndToEndConvNN2...  \n",
       "2   EndToEndConvNN_PL(\\n  (model): EndToEndConvNN2...  \n",
       "3   EndToEndConvNN_PL(\\n  (model): EndToEndConvNN2...  \n",
       "4   EndToEndConvNN_PL(\\n  (model): EndToEndConvNN2...  \n",
       "5   EndToEndConvNN_PL(\\n  (model): EndToEndConvNN2...  \n",
       "6   EndToEndConvNN_PL(\\n  (model): EndToEndConvNN2...  \n",
       "7   EndToEndConvNN_PL(\\n  (model): EndToEndConvNN2...  \n",
       "8   EndToEndConvNN_PL(\\n  (model): EndToEndConvNN2...  \n",
       "9   EndToEndConvNN_PL(\\n  (model): EndToEndConvNN2...  \n",
       "10  EndToEndConvNNWithFeedback_PL(\\n  (model): End...  \n",
       "11  EndToEndConvNNWithFeedback_PL(\\n  (model): End...  \n",
       "12  EndToEndConvNNWithFeedback_PL(\\n  (model): End...  \n",
       "13  EndToEndConvNNWithFeedback_PL(\\n  (model): End...  \n",
       "14  EndToEndConvNNWithFeedback_PL(\\n  (model): End...  \n",
       "15  EndToEndConvNNWithFeedback_PL(\\n  (model): End...  \n",
       "16  EndToEndConvNNWithFeedback_PL(\\n  (model): End...  \n",
       "17  EndToEndConvNNWithFeedback_PL(\\n  (model): End...  \n",
       "18  EndToEndConvNNWithFeedback_PL(\\n  (model): End...  \n",
       "19  EndToEndConvNNWithFeedback_PL(\\n  (model): End...  \n",
       "20  EndToEndConvNNWithFeedback_PL(\\n  (model): End...  \n",
       "21  EndToEndConvNNWithFeedback_PL(\\n  (model): End...  \n",
       "22  EndToEndConvNNWithFeedback_PL(\\n  (model): End...  \n",
       "23  EndToEndConvNNWithFeedback_PL(\\n  (model): End...  \n",
       "24  EndToEndConvNNWithFeedback_PL(\\n  (model): End...  \n",
       "25  EndToEndConvNNWithFeedback_PL(\\n  (model): End...  \n",
       "26  EndToEndConvNNWithFeedback_PL(\\n  (model): End...  \n",
       "27  EndToEndConvNNWithFeedback_PL(\\n  (model): End...  \n",
       "28  EndToEndConvNNWithFeedback_PL(\\n  (model): End...  \n",
       "29  EndToEndConvNNWithFeedback_PL(\\n  (model): End...  "
      ]
     },
     "execution_count": 9,
     "metadata": {},
     "output_type": "execute_result"
    }
   ],
   "source": [
    "models"
   ]
  },
  {
   "cell_type": "markdown",
   "metadata": {},
   "source": [
    "## Inspect discrimination data"
   ]
  },
  {
   "cell_type": "code",
   "execution_count": 10,
   "metadata": {},
   "outputs": [
    {
     "name": "stdout",
     "output_type": "stream",
     "text": [
      "torch.Size([100, 2, 20, 30]) torch.Size([100, 2])\n"
     ]
    }
   ],
   "source": [
    "eis = next(iter(dloader))[0]\n",
    "props = next(iter(dloader))[1].to(torch.float32)\n",
    "discrimination_data = raw_dataset[\"worms\"][\"dataframe\"].copy()\n",
    "max_mod = eis[:, :, 5, 6]\n",
    "print(eis.shape, max_mod.shape)"
   ]
  },
  {
   "cell_type": "code",
   "execution_count": 11,
   "metadata": {},
   "outputs": [
    {
     "data": {
      "image/png": "[encoded data removed]",
      "text/plain": [
       "<Figure size 640x480 with 1 Axes>"
      ]
     },
     "metadata": {},
     "output_type": "display_data"
    }
   ],
   "source": [
    "plt.scatter(*eis[:, :, 5, 6].T)\n",
    "plt.scatter([0], [0], c=\"b\", marker=\"x\", s=200)\n",
    "plt.xlabel(\"MZ Filter modulation (%)\")\n",
    "plt.ylabel(\"DLZ Filter modulation (%)\")\n",
    "sns.despine(offset=5, trim=True)\n",
    "plt.savefig(\"discrimination-feat-space.svg\")\n",
    "plt.show()"
   ]
  },
  {
   "cell_type": "markdown",
   "metadata": {},
   "source": [
    "## Prepare discrimination training data"
   ]
  },
  {
   "cell_type": "code",
   "execution_count": 11,
   "metadata": {},
   "outputs": [],
   "source": [
    "n_repeats = 20\n",
    "noise_amount = 0.05\n",
    "\n",
    "train_eis = torch.tile(eis, (n_repeats * len(discrimination_data), 1, 1, 1))\n",
    "train_eis = train_eis + torch.randn_like(train_eis) * noise_amount\n",
    "train_capacitances_ids = np.tile(discrimination_data[\"capacitances\"], (n_repeats * len(discrimination_data),))\n",
    "train_props = torch.tile(props, (n_repeats * len(discrimination_data), 1))\n",
    "valid_eis = torch.tile(eis, (n_repeats, 1, 1, 1))\n",
    "valid_capacitances_ids = np.tile(discrimination_data[\"capacitances\"], (n_repeats,))\n",
    "valid_props = torch.tile(props, (n_repeats, 1))"
   ]
  },
  {
   "cell_type": "markdown",
   "metadata": {},
   "source": [
    "#### run models on the EIs"
   ]
  },
  {
   "cell_type": "code",
   "execution_count": null,
   "metadata": {},
   "outputs": [],
   "source": [
    "models[\"prediction_train\"] = models.apply(\n",
    "    lambda x: (\n",
    "        x[\"model\"].model(train_eis, train_props[:, 1], train_props[:, 3]).detach().cpu().numpy()\n",
    "        if x[\"model_type\"] == \"feedback_vals\"\n",
    "        else x[\"model\"].model(train_eis).detach().cpu().numpy()\n",
    "    ),\n",
    "    axis=1,\n",
    ")\n",
    "models[\"prediction_valid\"] = models.apply(\n",
    "    lambda x: (\n",
    "        x[\"model\"].model(valid_eis, valid_props[:, 1], valid_props[:, 3]).detach().cpu().numpy()\n",
    "        if x[\"model_type\"] == \"feedback_vals\"\n",
    "        else x[\"model\"].model(valid_eis).detach().cpu().numpy()\n",
    "    ),\n",
    "    axis=1,\n",
    ")"
   ]
  },
  {
   "cell_type": "markdown",
   "metadata": {},
   "source": [
    "## Compute models predictions"
   ]
  },
  {
   "cell_type": "markdown",
   "metadata": {},
   "source": [
    "### single model example"
   ]
  },
  {
   "cell_type": "code",
   "execution_count": 14,
   "metadata": {},
   "outputs": [
    {
     "name": "stdout",
     "output_type": "stream",
     "text": [
      "0.923030303030303\n"
     ]
    }
   ],
   "source": [
    "model = models.iloc[0][\"model\"]\n",
    "pref_c_id = 31\n",
    "n_repeats = 100\n",
    "noise_amount = 0.1\n",
    "\n",
    "mask_sp = discrimination_data[\"capacitances\"] == pref_c_id\n",
    "mask_sm = ~mask_sp\n",
    "eis_sp = eis[mask_sp]\n",
    "eis_sm = eis[mask_sm]\n",
    "train_eis_sp = torch.tile(eis_sp, (len(eis_sm), 1, 1, 1))\n",
    "train_eis_sp = torch.tile(train_eis_sp, (n_repeats, 1, 1, 1))\n",
    "train_eis_sm = torch.tile(eis_sm, (n_repeats, 1, 1, 1))\n",
    "train_eis_sp = train_eis_sp + torch.randn_like(train_eis_sp) * noise_amount\n",
    "train_eis_sm = train_eis_sm + torch.randn_like(train_eis_sm) * noise_amount\n",
    "train_preds_sp = model.model(train_eis_sp).detach().numpy()\n",
    "train_preds_sm = model.model(train_eis_sm).detach().numpy()\n",
    "train_preds_mixed = np.stack([train_preds_sp, train_preds_sm])\n",
    "train_choices = np.random.rand(2, len(train_preds_sp)).argsort(0)\n",
    "train_preds_mixed = train_preds_mixed[train_choices, np.arange(len(train_preds_sp))]\n",
    "train_x = train_preds_mixed.transpose(1,2,0).reshape(len(train_preds_sp), -1)\n",
    "train_y = train_choices[1].astype(int)\n",
    "rfc = RandomForestClassifier(n_estimators=100, max_depth=10, class_weight=\"balanced\", n_jobs=-1)\n",
    "rfc.fit(train_x, train_y)\n",
    "train_y_hat = rfc.predict(train_x)\n",
    "print((train_y_hat == train_y).mean())\n",
    "\n",
    "valid_eis_sm = torch.tile(eis, (n_repeats, 1, 1, 1))\n",
    "valid_eis_sp = torch.tile(eis[mask_sp], (len(valid_eis_sm), 1, 1, 1))\n",
    "valid_eis_sp = valid_eis_sp + torch.randn_like(valid_eis_sp) * noise_amount\n",
    "valid_eis_sm = valid_eis_sm + torch.randn_like(valid_eis_sm) * noise_amount\n",
    "valid_preds_sm = model.model(valid_eis_sm).detach().numpy()\n",
    "valid_preds_sp = model.model(valid_eis_sp).detach().numpy()\n",
    "valid_x = np.stack([valid_preds_sp, valid_preds_sm]).transpose(1,2,0).reshape(len(valid_preds_sp), -1)\n",
    "valid_y = np.ones(len(valid_preds_sp), dtype=int)\n",
    "valid_y_hat = rfc.predict(valid_x)\n",
    "valid_df = pd.DataFrame({\"capacitance_id\":np.tile(discrimination_data[\"capacitances\"], (n_repeats,)), \"y\": valid_y, \"y_hat\": valid_y_hat})\n",
    "discrimination_performance = valid_df.groupby(\"capacitance_id\").apply(lambda x: (x[\"y\"] == x[\"y_hat\"]).mean() * 100)"
   ]
  },
  {
   "cell_type": "code",
   "execution_count": 15,
   "metadata": {},
   "outputs": [
    {
     "data": {
      "text/plain": [
       "array([2.94225838])"
      ]
     },
     "execution_count": 15,
     "metadata": {},
     "output_type": "execute_result"
    }
   ],
   "source": [
    "np.diff(raw_dataset[\"worms\"][\"capacitances\"][np.where(discrimination_performance < 75)[0][[0,-1]]]) / 1e-9"
   ]
  },
  {
   "cell_type": "code",
   "execution_count": 17,
   "metadata": {},
   "outputs": [
    {
     "data": {
      "text/plain": [
       "2.253876394303584"
      ]
     },
     "execution_count": 17,
     "metadata": {},
     "output_type": "execute_result"
    }
   ],
   "source": []
  },
  {
   "cell_type": "code",
   "execution_count": 22,
   "metadata": {},
   "outputs": [
    {
     "data": {
      "image/png": "[encoded data removed]",
      "text/plain": [
       "<Figure size 640x480 with 1 Axes>"
      ]
     },
     "metadata": {},
     "output_type": "display_data"
    }
   ],
   "source": [
    "plt.plot(raw_dataset[\"worms\"][\"capacitances\"], discrimination_performance)\n",
    "select_C = raw_dataset[\"worms\"][\"capacitances\"][pref_c_id]\n",
    "plt.plot([select_C, select_C], [50, 100], \"k--\", label=\"S+ capacitance value\")\n",
    "plt.xscale(\"log\")\n",
    "sns.despine(offset=5, trim=True)\n",
    "plt.xticks([1e-9, 1e-8, 1e-7], [\"1\", \"10\", \"100\"])\n",
    "plt.xlabel(\"Capacitance (nF)\")\n",
    "plt.ylabel(\"Discrimination accuracy\")\n",
    "plt.legend(fontsize=14)    \n",
    "plt.show()"
   ]
  },
  {
   "cell_type": "code",
   "execution_count": null,
   "metadata": {},
   "outputs": [],
   "source": []
  },
  {
   "cell_type": "markdown",
   "metadata": {},
   "source": [
    "### run for all models"
   ]
  },
  {
   "cell_type": "code",
   "execution_count": null,
   "metadata": {},
   "outputs": [],
   "source": [
    "def train_capacitance_discrimination(dfrow):\n",
    "    \n",
    "    return dfrow"
   ]
  },
  {
   "cell_type": "code",
   "execution_count": null,
   "metadata": {},
   "outputs": [],
   "source": []
  },
  {
   "cell_type": "code",
   "execution_count": null,
   "metadata": {},
   "outputs": [],
   "source": []
  },
  {
   "cell_type": "code",
   "execution_count": null,
   "metadata": {},
   "outputs": [],
   "source": []
  },
  {
   "cell_type": "code",
   "execution_count": 15,
   "metadata": {},
   "outputs": [],
   "source": [
    "def train_discrimination(\n",
    "    dfrow, n_repeats=n_repeats, noise_amount=noise_amount, discrimination_data=discrimination_data, props=props, eis=eis\n",
    "):\n",
    "    print(dfrow[\"model_type\"], dfrow[\"lambda_RC\"], end=\" | \")\n",
    "    model = dfrow[\"model\"]\n",
    "    dfrow[\"discrimination_performance\"] = []\n",
    "    props = torch.tile(props, (n_repeats, 1))\n",
    "    for c_id in discrimination_data[\"capacitances\"].unique():\n",
    "        print(c_id, end=\" \")\n",
    "        labels = np.zeros(len(discrimination_data))\n",
    "        labels[c_id] = 1\n",
    "        labels = np.tile(labels, (n_repeats))\n",
    "        train_eis = torch.tile(eis, (n_repeats, 1, 1, 1))\n",
    "        train_eis = train_eis + torch.randn_like(train_eis) * noise_amount\n",
    "        valid_eis = torch.tile(eis, (n_repeats, 1, 1, 1))\n",
    "        valid_eis = train_eis + torch.randn_like(valid_eis) * noise_amount\n",
    "\n",
    "        prediction_train = (\n",
    "            model.model(train_eis, props[:, 1], props[:, 3]).detach().cpu().numpy()\n",
    "            if dfrow[\"model_type\"] == \"feedback_vals\"\n",
    "            else model.model(train_eis).detach().cpu().numpy()\n",
    "        )\n",
    "        shuffle_perm = np.random.permutation(len(train_eis))\n",
    "        train_x = prediction_train[shuffle_perm]\n",
    "        train_y = labels[shuffle_perm]\n",
    "        rfc = RandomForestClassifier(n_estimators=100, max_depth=10, class_weight=\"balanced\", n_jobs=-1)\n",
    "        rfc.fit(train_x, train_y)\n",
    "\n",
    "        c_ids = np.tile(discrimination_data[\"capacitances\"], (n_repeats))\n",
    "        prediction_valid = (\n",
    "            model.model(valid_eis, props[:, 1], props[:, 3]).detach().cpu().numpy()\n",
    "            if dfrow[\"model_type\"] == \"feedback_vals\"\n",
    "            else model.model(valid_eis).detach().cpu().numpy()\n",
    "        )\n",
    "        valid_preds = rfc.predict(prediction_valid)\n",
    "        discrimination_performance = pd.DataFrame(\n",
    "            {\n",
    "                \"capacitance_id\": c_ids,\n",
    "                \"valid_preds\": valid_preds,\n",
    "                \"labels\": labels,\n",
    "            }\n",
    "        )\n",
    "        discrimination_performance = discrimination_performance.groupby(\"capacitance_id\").apply(\n",
    "            lambda x: (x[\"valid_preds\"] == x[\"labels\"]).mean() * 100\n",
    "        )\n",
    "        dfrow[\"discrimination_performance\"].append(discrimination_performance)\n",
    "    print()\n",
    "    return dfrow"
   ]
  },
  {
   "cell_type": "code",
   "execution_count": null,
   "metadata": {},
   "outputs": [],
   "source": [
    "models = models.iloc[:1].apply(train_discrimination, axis=1)"
   ]
  },
  {
   "cell_type": "code",
   "execution_count": null,
   "metadata": {},
   "outputs": [],
   "source": [
    "models.to_pickle(\"discrimination_performance.pkl\")"
   ]
  },
  {
   "cell_type": "code",
   "execution_count": null,
   "metadata": {},
   "outputs": [],
   "source": [
    "model_id = 0\n",
    "dfrow = models.iloc[model_id]\n",
    "discrimination_performance = dfrow[\"discrimination_performance\"]\n",
    "\n",
    "plt.figure(figsize=(20, 5))\n",
    "for i in range(len(discrimination_performance)):\n",
    "    plt.plot(discrimination_performance[i], label=f\"Capacitance {i}\", c=plt.cm.viridis(i/len(discrimination_performance)), alpha=0.5)\n",
    "plt.ylim(-1, 101)\n",
    "sns.despine(offset=5, trim=True)\n",
    "plt.show()"
   ]
  },
  {
   "cell_type": "code",
   "execution_count": null,
   "metadata": {},
   "outputs": [],
   "source": []
  },
  {
   "cell_type": "code",
   "execution_count": null,
   "metadata": {},
   "outputs": [],
   "source": []
  },
  {
   "cell_type": "code",
   "execution_count": null,
   "metadata": {},
   "outputs": [],
   "source": []
  },
  {
   "cell_type": "code",
   "execution_count": null,
   "metadata": {},
   "outputs": [],
   "source": []
  }
 ],
 "metadata": {
  "kernelspec": {
   "display_name": "efish",
   "language": "python",
   "name": "python3"
  },
  "language_info": {
   "codemirror_mode": {
    "name": "ipython",
    "version": 3
   },
   "file_extension": ".py",
   "mimetype": "text/x-python",
   "name": "python",
   "nbconvert_exporter": "python",
   "pygments_lexer": "ipython3",
   "version": "3.12.2"
  }
 },
 "nbformat": 4,
 "nbformat_minor": 2
}
