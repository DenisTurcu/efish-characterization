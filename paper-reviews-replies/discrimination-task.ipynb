{
 "cells": [
  {
   "cell_type": "code",
   "execution_count": 1,
   "metadata": {},
   "outputs": [],
   "source": [
    "%load_ext autoreload\n",
    "%autoreload 2"
   ]
  },
  {
   "cell_type": "code",
   "execution_count": 2,
   "metadata": {},
   "outputs": [],
   "source": [
    "import glob\n",
    "import numpy as np\n",
    "import pandas as pd\n",
    "import matplotlib.pyplot as plt\n",
    "import seaborn as sns\n",
    "from sklearn.ensemble import RandomForestClassifier\n",
    "import torch\n",
    "from torch.utils.data import DataLoader\n",
    "\n",
    "import sys\n",
    "\n",
    "sys.path.append(\"../electric-properties-only\")\n",
    "sys.path.append(\"../end-to-end\")\n",
    "sys.path.append(\"../end-to-end-with-feedback\")\n",
    "sys.path.append(\"../../efish-physics-model/objects\")\n",
    "sys.path.append(\"../../efish-physics-model/helper_functions\")\n",
    "sys.path.append(\"../../efish-physics-model/uniform_points_generation\")\n",
    "\n",
    "# from helpers_conv_nn_models import make_true_vs_predicted_figure\n",
    "from electric_images_dataset import ElectricImagesDataset\n",
    "from EndToEndConvNN_PL import EndToEndConvNN_PL\n",
    "from EndToEndConvNNWithFeedback_PL import EndToEndConvNNWithFeedback_PL"
   ]
  },
  {
   "cell_type": "markdown",
   "metadata": {},
   "source": [
    "## Load trained Models"
   ]
  },
  {
   "cell_type": "code",
   "execution_count": 3,
   "metadata": {},
   "outputs": [],
   "source": [
    "models = pd.DataFrame()"
   ]
  },
  {
   "cell_type": "markdown",
   "metadata": {},
   "source": [
    "#### Prepare dataset for dummy run to initialize LazyLayers"
   ]
  },
  {
   "cell_type": "code",
   "execution_count": 4,
   "metadata": {},
   "outputs": [],
   "source": [
    "batch_size = 100\n",
    "data_dir_name = \"../../efish-physics-model/data/processed/data-2024_06_18-characterization_dataset\"\n",
    "original_dset = ElectricImagesDataset(data_dir_name=data_dir_name, fish_t=20, fish_u=30)\n",
    "original_stats = pd.DataFrame.from_dict(original_dset.worms_properties_stats)[\n",
    "    [\"position_xs\", \"position_ys\", \"position_zs\", \"radii\", \"resistances\", \"capacitances\"]\n",
    "]\n",
    "data_dir_name = \"../../efish-physics-model/data/processed/data-2024_12_04-discrimination_dataset\"\n",
    "raw_dataset = pd.read_pickle(f\"{data_dir_name}/dataset.pkl\")\n",
    "dset = ElectricImagesDataset(data_dir_name=data_dir_name, fish_t=20, fish_u=30)\n",
    "new_stats = pd.DataFrame.from_dict(dset.worms_properties_stats)[\n",
    "    [\"position_xs\", \"position_ys\", \"position_zs\", \"radii\", \"resistances\", \"capacitances\"]\n",
    "]\n",
    "dset.worms_properties_stats = original_dset.worms_properties_stats\n",
    "dset.worms_properties = (\n",
    "    dset.worms_properties[:] * new_stats.loc[\"std\"].to_numpy()\n",
    "    + new_stats.loc[\"mean\"].to_numpy()\n",
    "    - original_stats.loc[\"mean\"].to_numpy()\n",
    ") / original_stats.loc[\"std\"].to_numpy()\n",
    "dloader = DataLoader(dset, batch_size=batch_size, shuffle=False, drop_last=False, num_workers=12)"
   ]
  },
  {
   "cell_type": "markdown",
   "metadata": {},
   "source": [
    "#### Load full end-to-end models"
   ]
  },
  {
   "cell_type": "code",
   "execution_count": 5,
   "metadata": {},
   "outputs": [
    {
     "name": "stderr",
     "output_type": "stream",
     "text": [
      "/home/dturcu/.conda/envs/efish/lib/python3.12/site-packages/torch/nn/modules/lazy.py:181: UserWarning: Lazy modules are a new feature under heavy development so changes to the API or functionality can happen at any moment.\n",
      "  warnings.warn('Lazy modules are a new feature under heavy development '\n"
     ]
    }
   ],
   "source": [
    "for folder in list(np.sort(glob.glob(\"../figures/stats-panel/full-model*\"))):\n",
    "    checkpoint_path = f\"{folder}/lightning_logs/version_0/checkpoints/epoch=4-step=25015.ckpt\"\n",
    "    model = EndToEndConvNN_PL.load_from_checkpoint(checkpoint_path)\n",
    "    model.eval()\n",
    "    model.freeze()\n",
    "    model.cpu()\n",
    "    rand_seed = int(folder.split(\"_\")[1].split(\"-\")[0])\n",
    "    lambda_RC = int(folder.split(\"_\")[-1])\n",
    "    models = pd.concat(\n",
    "        [\n",
    "            models,\n",
    "            pd.DataFrame({\"rand_seed\": [rand_seed], \"lambda_RC\": [lambda_RC], \"model_type\": \"full\", \"model\": [model]}),\n",
    "        ]\n",
    "    ).reset_index(drop=True)"
   ]
  },
  {
   "cell_type": "code",
   "execution_count": 6,
   "metadata": {},
   "outputs": [],
   "source": [
    "for folder in list(np.sort(glob.glob(\"../figures/stats-panel/feedback-with-values*\"))):\n",
    "    checkpoint_path = f\"{folder}/lightning_logs/version_0/checkpoints/epoch=4-step=25015.ckpt\"\n",
    "    model = EndToEndConvNNWithFeedback_PL.load_from_checkpoint(checkpoint_path)\n",
    "    model.eval()\n",
    "    model.freeze()\n",
    "    model.cpu()\n",
    "    rand_seed = int(folder.split(\"_\")[1].split(\"-\")[0])\n",
    "    lambda_RC = int(folder.split(\"_\")[-1])\n",
    "    models = pd.concat(\n",
    "        [\n",
    "            models,\n",
    "            pd.DataFrame(\n",
    "                {\"rand_seed\": [rand_seed], \"lambda_RC\": [lambda_RC], \"model_type\": \"feedback_vals\", \"model\": [model]}\n",
    "            ),\n",
    "        ]\n",
    "    ).reset_index(drop=True)\n",
    "\n",
    "for folder in list(np.sort(glob.glob(\"../figures/stats-panel/feedback-with-estimates*\"))):\n",
    "    checkpoint_path = f\"{folder}/lightning_logs/version_0/checkpoints/epoch=4-step=25015.ckpt\"\n",
    "    model = EndToEndConvNNWithFeedback_PL.load_from_checkpoint(checkpoint_path)\n",
    "    model.eval()\n",
    "    model.freeze()\n",
    "    model.cpu()\n",
    "    rand_seed = int(folder.split(\"_\")[1].split(\"-\")[0])\n",
    "    lambda_RC = int(folder.split(\"_\")[-1])\n",
    "    models = pd.concat(\n",
    "        [\n",
    "            models,\n",
    "            pd.DataFrame(\n",
    "                {\"rand_seed\": [rand_seed], \"lambda_RC\": [lambda_RC], \"model_type\": \"feedback_esti\", \"model\": [model]}\n",
    "            ),\n",
    "        ]\n",
    "    ).reset_index(drop=True)"
   ]
  },
  {
   "cell_type": "code",
   "execution_count": 7,
   "metadata": {},
   "outputs": [],
   "source": [
    "models = models[models[\"lambda_RC\"] > 0].reset_index(drop=True)\n",
    "models = models[models[\"model_type\"]==\"full\"].reset_index(drop=True)"
   ]
  },
  {
   "cell_type": "code",
   "execution_count": 8,
   "metadata": {},
   "outputs": [
    {
     "data": {
      "text/html": [
       "<div>\n",
       "<style scoped>\n",
       "    .dataframe tbody tr th:only-of-type {\n",
       "        vertical-align: middle;\n",
       "    }\n",
       "\n",
       "    .dataframe tbody tr th {\n",
       "        vertical-align: top;\n",
       "    }\n",
       "\n",
       "    .dataframe thead th {\n",
       "        text-align: right;\n",
       "    }\n",
       "</style>\n",
       "<table border=\"1\" class=\"dataframe\">\n",
       "  <thead>\n",
       "    <tr style=\"text-align: right;\">\n",
       "      <th></th>\n",
       "      <th>rand_seed</th>\n",
       "      <th>lambda_RC</th>\n",
       "      <th>model_type</th>\n",
       "      <th>model</th>\n",
       "    </tr>\n",
       "  </thead>\n",
       "  <tbody>\n",
       "    <tr>\n",
       "      <th>0</th>\n",
       "      <td>11</td>\n",
       "      <td>1</td>\n",
       "      <td>full</td>\n",
       "      <td>EndToEndConvNN_PL(\\n  (model): EndToEndConvNN2...</td>\n",
       "    </tr>\n",
       "    <tr>\n",
       "      <th>1</th>\n",
       "      <td>11</td>\n",
       "      <td>16</td>\n",
       "      <td>full</td>\n",
       "      <td>EndToEndConvNN_PL(\\n  (model): EndToEndConvNN2...</td>\n",
       "    </tr>\n",
       "    <tr>\n",
       "      <th>2</th>\n",
       "      <td>11</td>\n",
       "      <td>2</td>\n",
       "      <td>full</td>\n",
       "      <td>EndToEndConvNN_PL(\\n  (model): EndToEndConvNN2...</td>\n",
       "    </tr>\n",
       "    <tr>\n",
       "      <th>3</th>\n",
       "      <td>11</td>\n",
       "      <td>4</td>\n",
       "      <td>full</td>\n",
       "      <td>EndToEndConvNN_PL(\\n  (model): EndToEndConvNN2...</td>\n",
       "    </tr>\n",
       "    <tr>\n",
       "      <th>4</th>\n",
       "      <td>11</td>\n",
       "      <td>8</td>\n",
       "      <td>full</td>\n",
       "      <td>EndToEndConvNN_PL(\\n  (model): EndToEndConvNN2...</td>\n",
       "    </tr>\n",
       "    <tr>\n",
       "      <th>5</th>\n",
       "      <td>113</td>\n",
       "      <td>1</td>\n",
       "      <td>full</td>\n",
       "      <td>EndToEndConvNN_PL(\\n  (model): EndToEndConvNN2...</td>\n",
       "    </tr>\n",
       "    <tr>\n",
       "      <th>6</th>\n",
       "      <td>113</td>\n",
       "      <td>16</td>\n",
       "      <td>full</td>\n",
       "      <td>EndToEndConvNN_PL(\\n  (model): EndToEndConvNN2...</td>\n",
       "    </tr>\n",
       "    <tr>\n",
       "      <th>7</th>\n",
       "      <td>113</td>\n",
       "      <td>2</td>\n",
       "      <td>full</td>\n",
       "      <td>EndToEndConvNN_PL(\\n  (model): EndToEndConvNN2...</td>\n",
       "    </tr>\n",
       "    <tr>\n",
       "      <th>8</th>\n",
       "      <td>113</td>\n",
       "      <td>4</td>\n",
       "      <td>full</td>\n",
       "      <td>EndToEndConvNN_PL(\\n  (model): EndToEndConvNN2...</td>\n",
       "    </tr>\n",
       "    <tr>\n",
       "      <th>9</th>\n",
       "      <td>113</td>\n",
       "      <td>8</td>\n",
       "      <td>full</td>\n",
       "      <td>EndToEndConvNN_PL(\\n  (model): EndToEndConvNN2...</td>\n",
       "    </tr>\n",
       "  </tbody>\n",
       "</table>\n",
       "</div>"
      ],
      "text/plain": [
       "   rand_seed  lambda_RC model_type  \\\n",
       "0         11          1       full   \n",
       "1         11         16       full   \n",
       "2         11          2       full   \n",
       "3         11          4       full   \n",
       "4         11          8       full   \n",
       "5        113          1       full   \n",
       "6        113         16       full   \n",
       "7        113          2       full   \n",
       "8        113          4       full   \n",
       "9        113          8       full   \n",
       "\n",
       "                                               model  \n",
       "0  EndToEndConvNN_PL(\\n  (model): EndToEndConvNN2...  \n",
       "1  EndToEndConvNN_PL(\\n  (model): EndToEndConvNN2...  \n",
       "2  EndToEndConvNN_PL(\\n  (model): EndToEndConvNN2...  \n",
       "3  EndToEndConvNN_PL(\\n  (model): EndToEndConvNN2...  \n",
       "4  EndToEndConvNN_PL(\\n  (model): EndToEndConvNN2...  \n",
       "5  EndToEndConvNN_PL(\\n  (model): EndToEndConvNN2...  \n",
       "6  EndToEndConvNN_PL(\\n  (model): EndToEndConvNN2...  \n",
       "7  EndToEndConvNN_PL(\\n  (model): EndToEndConvNN2...  \n",
       "8  EndToEndConvNN_PL(\\n  (model): EndToEndConvNN2...  \n",
       "9  EndToEndConvNN_PL(\\n  (model): EndToEndConvNN2...  "
      ]
     },
     "execution_count": 8,
     "metadata": {},
     "output_type": "execute_result"
    }
   ],
   "source": [
    "models"
   ]
  },
  {
   "cell_type": "markdown",
   "metadata": {},
   "source": [
    "## Inspect discrimination data"
   ]
  },
  {
   "cell_type": "code",
   "execution_count": 9,
   "metadata": {},
   "outputs": [
    {
     "name": "stdout",
     "output_type": "stream",
     "text": [
      "torch.Size([24, 2, 20, 30]) torch.Size([24, 2])\n"
     ]
    }
   ],
   "source": [
    "eis = next(iter(dloader))[0]\n",
    "props = next(iter(dloader))[1].to(torch.float32)\n",
    "discrimination_data = raw_dataset[\"worms\"][\"dataframe\"].copy()\n",
    "discrimination_data[\"preferred\"] = (discrimination_data[\"resistances\"] == 0) & (\n",
    "    discrimination_data[\"capacitances\"] == 1\n",
    ")\n",
    "max_mod = eis[:, :, 5, 6]\n",
    "print(eis.shape, max_mod.shape)"
   ]
  },
  {
   "cell_type": "code",
   "execution_count": 95,
   "metadata": {},
   "outputs": [
    {
     "data": {
      "image/png": "[encoded data removed]",
      "text/plain": [
       "<Figure size 640x480 with 1 Axes>"
      ]
     },
     "metadata": {},
     "output_type": "display_data"
    }
   ],
   "source": [
    "mask = raw_dataset[\"worms\"][\"dataframe\"][\"position_ys\"] == 0\n",
    "mask &= raw_dataset[\"worms\"][\"dataframe\"][\"radii\"] == 1\n",
    "plt.scatter(*eis[mask, :, 5, 6].T, c=[f\"C{int(x)}\" for x in discrimination_data[mask][\"preferred\"]])\n",
    "plt.scatter([0], [0], c=\"b\", marker=\"x\", s=200)\n",
    "plt.xlabel(\"MZ Filter modulation (%)\")\n",
    "plt.ylabel(\"DLZ Filter modulation (%)\")\n",
    "sns.despine(offset=5, trim=True)\n",
    "plt.savefig(\"discrimination-feat-space.svg\")\n",
    "plt.show()"
   ]
  },
  {
   "cell_type": "markdown",
   "metadata": {},
   "source": [
    "### Create discrimination training and testing data"
   ]
  },
  {
   "cell_type": "code",
   "execution_count": 11,
   "metadata": {},
   "outputs": [],
   "source": [
    "n_repeats = 100\n",
    "train_eis = torch.tile(eis, (n_repeats, 1, 1, 1))\n",
    "train_eis = train_eis + torch.randn_like(train_eis) * 0.02\n",
    "train_props = torch.tile(props, (n_repeats, 1))\n",
    "labels = np.tile(discrimination_data[\"preferred\"].to_numpy().astype(int), (n_repeats,))\n",
    "valid_eis = torch.tile(eis, (n_repeats, 1, 1, 1))\n",
    "valid_eis = valid_eis + torch.randn_like(valid_eis) * 0.02\n",
    "valid_props = pd.concat([discrimination_data[[\"resistances\", \"capacitances\", \"radii\", \"position_ys\", \"preferred\"]]] * n_repeats)\n",
    "valid_props[\"preferred\"] = valid_props[\"preferred\"].astype(int)"
   ]
  },
  {
   "cell_type": "markdown",
   "metadata": {},
   "source": [
    "## Compute models predictions"
   ]
  },
  {
   "cell_type": "code",
   "execution_count": 12,
   "metadata": {},
   "outputs": [],
   "source": [
    "models[\"prediction_train\"] = models.apply(\n",
    "    lambda x: (\n",
    "        x[\"model\"].model(train_eis, train_props[:, 1], train_props[:, 3]).detach().cpu().numpy()\n",
    "        if x[\"model_type\"] == \"feedback_vals\"\n",
    "        else x[\"model\"].model(train_eis).detach().cpu().numpy()\n",
    "    ),\n",
    "    axis=1,\n",
    ")\n",
    "models[\"prediction_valid\"] = models.apply(\n",
    "    lambda x: (\n",
    "        x[\"model\"].model(valid_eis, train_props[:, 1], train_props[:, 3]).detach().cpu().numpy()\n",
    "        if x[\"model_type\"] == \"feedback_vals\"\n",
    "        else x[\"model\"].model(valid_eis).detach().cpu().numpy()\n",
    "    ),\n",
    "    axis=1,\n",
    ")"
   ]
  },
  {
   "cell_type": "code",
   "execution_count": 13,
   "metadata": {},
   "outputs": [],
   "source": [
    "def train_discrimination(dfrow):\n",
    "    shuffle_perm = np.random.permutation(len(dfrow[\"prediction_train\"]))\n",
    "    train_x = dfrow[\"prediction_train\"][shuffle_perm]\n",
    "    train_y = labels[shuffle_perm]\n",
    "    rfc = RandomForestClassifier(n_estimators=100, max_depth=10, class_weight=\"balanced\", n_jobs=-1)\n",
    "    rfc.fit(train_x, train_y)\n",
    "    train_preds = rfc.predict(train_x)\n",
    "    valid_x = dfrow[\"prediction_valid\"]\n",
    "    valid_y = labels\n",
    "    valid_preds = rfc.predict(valid_x)\n",
    "\n",
    "    dfrow[\"train_accuracy\"] = (train_preds == train_y).mean()\n",
    "    dfrow[\"train_preds\"] = train_preds\n",
    "    dfrow[\"train_probs\"] = rfc.predict_proba(train_x)[:, 1]\n",
    "\n",
    "    dfrow[\"valid_accuracy\"] = (valid_preds == valid_y).mean()\n",
    "    dfrow[\"valid_preds\"] = valid_preds\n",
    "    dfrow[\"valid_probs\"] = rfc.predict_proba(valid_x)[:, 1]\n",
    "    return dfrow"
   ]
  },
  {
   "cell_type": "code",
   "execution_count": 14,
   "metadata": {},
   "outputs": [],
   "source": [
    "models = models.apply(train_discrimination, axis=1)"
   ]
  },
  {
   "cell_type": "code",
   "execution_count": 15,
   "metadata": {},
   "outputs": [
    {
     "data": {
      "text/plain": [
       "((array([0, 1]), array([1999,  401])), (array([0, 1]), array([2004,  396])))"
      ]
     },
     "execution_count": 15,
     "metadata": {},
     "output_type": "execute_result"
    }
   ],
   "source": [
    "np.unique(models[\"train_preds\"][3], return_counts=True), np.unique(models[\"valid_preds\"][3], return_counts=True)"
   ]
  },
  {
   "cell_type": "code",
   "execution_count": 16,
   "metadata": {},
   "outputs": [
    {
     "data": {
      "text/html": [
       "<div>\n",
       "<style scoped>\n",
       "    .dataframe tbody tr th:only-of-type {\n",
       "        vertical-align: middle;\n",
       "    }\n",
       "\n",
       "    .dataframe tbody tr th {\n",
       "        vertical-align: top;\n",
       "    }\n",
       "\n",
       "    .dataframe thead th {\n",
       "        text-align: right;\n",
       "    }\n",
       "</style>\n",
       "<table border=\"1\" class=\"dataframe\">\n",
       "  <thead>\n",
       "    <tr style=\"text-align: right;\">\n",
       "      <th></th>\n",
       "      <th>rand_seed</th>\n",
       "      <th>lambda_RC</th>\n",
       "      <th>model_type</th>\n",
       "      <th>model</th>\n",
       "      <th>prediction_train</th>\n",
       "      <th>prediction_valid</th>\n",
       "      <th>train_accuracy</th>\n",
       "      <th>train_preds</th>\n",
       "      <th>train_probs</th>\n",
       "      <th>valid_accuracy</th>\n",
       "      <th>valid_preds</th>\n",
       "      <th>valid_probs</th>\n",
       "    </tr>\n",
       "  </thead>\n",
       "  <tbody>\n",
       "    <tr>\n",
       "      <th>0</th>\n",
       "      <td>11</td>\n",
       "      <td>1</td>\n",
       "      <td>full</td>\n",
       "      <td>EndToEndConvNN_PL(\\n  (model): EndToEndConvNN2...</td>\n",
       "      <td>[[1.1572536, -1.7188818, 0.05594244, -1.124994...</td>\n",
       "      <td>[[1.1745642, -1.7645242, 0.11962197, -1.112655...</td>\n",
       "      <td>0.999583</td>\n",
       "      <td>[0, 1, 0, 0, 0, 0, 0, 0, 0, 0, 0, 0, 0, 0, 1, ...</td>\n",
       "      <td>[0.0026315789473684214, 0.9646040983007648, 0....</td>\n",
       "      <td>0.989583</td>\n",
       "      <td>[0, 0, 0, 0, 1, 1, 1, 1, 0, 0, 0, 0, 0, 0, 0, ...</td>\n",
       "      <td>[0.016489416623644813, 0.3128771305213968, 0.0...</td>\n",
       "    </tr>\n",
       "    <tr>\n",
       "      <th>1</th>\n",
       "      <td>11</td>\n",
       "      <td>16</td>\n",
       "      <td>full</td>\n",
       "      <td>EndToEndConvNN_PL(\\n  (model): EndToEndConvNN2...</td>\n",
       "      <td>[[1.2993431, -1.8153312, 0.06980266, -1.288280...</td>\n",
       "      <td>[[1.1789223, -1.7487732, 0.051419273, -1.04172...</td>\n",
       "      <td>0.997500</td>\n",
       "      <td>[1, 0, 0, 1, 0, 0, 1, 0, 0, 0, 0, 0, 0, 0, 0, ...</td>\n",
       "      <td>[0.98, 0.0, 0.0, 0.9269593158704095, 0.0, 0.07...</td>\n",
       "      <td>0.978333</td>\n",
       "      <td>[0, 0, 0, 0, 1, 1, 1, 1, 0, 0, 0, 0, 0, 0, 0, ...</td>\n",
       "      <td>[0.0, 0.0, 0.0, 0.0, 0.99, 0.908744963537351, ...</td>\n",
       "    </tr>\n",
       "    <tr>\n",
       "      <th>2</th>\n",
       "      <td>11</td>\n",
       "      <td>2</td>\n",
       "      <td>full</td>\n",
       "      <td>EndToEndConvNN_PL(\\n  (model): EndToEndConvNN2...</td>\n",
       "      <td>[[1.0735451, -1.8667006, -0.00480707, -1.35024...</td>\n",
       "      <td>[[1.0642526, -1.8600926, -0.06002459, -1.36936...</td>\n",
       "      <td>0.998750</td>\n",
       "      <td>[0, 0, 0, 0, 0, 0, 0, 0, 0, 0, 0, 0, 0, 0, 0, ...</td>\n",
       "      <td>[0.0, 0.044240662435994914, 6.64010624169985e-...</td>\n",
       "      <td>0.984583</td>\n",
       "      <td>[0, 0, 0, 0, 1, 1, 1, 1, 0, 0, 0, 0, 0, 0, 0, ...</td>\n",
       "      <td>[0.0, 0.1726429190198683, 0.0, 0.0, 0.92468878...</td>\n",
       "    </tr>\n",
       "    <tr>\n",
       "      <th>3</th>\n",
       "      <td>11</td>\n",
       "      <td>4</td>\n",
       "      <td>full</td>\n",
       "      <td>EndToEndConvNN_PL(\\n  (model): EndToEndConvNN2...</td>\n",
       "      <td>[[1.1601517, -1.8478026, 0.061285384, -1.28809...</td>\n",
       "      <td>[[1.1172426, -1.8113661, 0.105573125, -1.25289...</td>\n",
       "      <td>0.999583</td>\n",
       "      <td>[0, 0, 0, 0, 1, 0, 0, 0, 0, 0, 0, 0, 0, 0, 0, ...</td>\n",
       "      <td>[0.0, 0.0, 0.0, 0.0, 0.9990838759638152, 0.0, ...</td>\n",
       "      <td>0.990000</td>\n",
       "      <td>[0, 0, 0, 0, 1, 1, 1, 1, 0, 0, 0, 0, 0, 0, 0, ...</td>\n",
       "      <td>[0.0, 0.0, 0.0, 0.0, 0.9990075400859526, 0.913...</td>\n",
       "    </tr>\n",
       "    <tr>\n",
       "      <th>4</th>\n",
       "      <td>11</td>\n",
       "      <td>8</td>\n",
       "      <td>full</td>\n",
       "      <td>EndToEndConvNN_PL(\\n  (model): EndToEndConvNN2...</td>\n",
       "      <td>[[1.2645626, -1.6976755, -0.049347304, -1.1249...</td>\n",
       "      <td>[[1.2337743, -1.8857853, 0.043512788, -1.16938...</td>\n",
       "      <td>0.999583</td>\n",
       "      <td>[0, 0, 1, 0, 0, 0, 0, 0, 0, 0, 0, 0, 0, 0, 0, ...</td>\n",
       "      <td>[0.0, 0.0, 0.9985329493071636, 0.0287257448172...</td>\n",
       "      <td>0.985417</td>\n",
       "      <td>[0, 0, 0, 0, 1, 1, 1, 1, 0, 0, 0, 0, 0, 0, 0, ...</td>\n",
       "      <td>[0.0, 0.02, 0.0, 0.0, 0.9959176581285873, 0.87...</td>\n",
       "    </tr>\n",
       "  </tbody>\n",
       "</table>\n",
       "</div>"
      ],
      "text/plain": [
       "   rand_seed  lambda_RC model_type  \\\n",
       "0         11          1       full   \n",
       "1         11         16       full   \n",
       "2         11          2       full   \n",
       "3         11          4       full   \n",
       "4         11          8       full   \n",
       "\n",
       "                                               model  \\\n",
       "0  EndToEndConvNN_PL(\\n  (model): EndToEndConvNN2...   \n",
       "1  EndToEndConvNN_PL(\\n  (model): EndToEndConvNN2...   \n",
       "2  EndToEndConvNN_PL(\\n  (model): EndToEndConvNN2...   \n",
       "3  EndToEndConvNN_PL(\\n  (model): EndToEndConvNN2...   \n",
       "4  EndToEndConvNN_PL(\\n  (model): EndToEndConvNN2...   \n",
       "\n",
       "                                    prediction_train  \\\n",
       "0  [[1.1572536, -1.7188818, 0.05594244, -1.124994...   \n",
       "1  [[1.2993431, -1.8153312, 0.06980266, -1.288280...   \n",
       "2  [[1.0735451, -1.8667006, -0.00480707, -1.35024...   \n",
       "3  [[1.1601517, -1.8478026, 0.061285384, -1.28809...   \n",
       "4  [[1.2645626, -1.6976755, -0.049347304, -1.1249...   \n",
       "\n",
       "                                    prediction_valid  train_accuracy  \\\n",
       "0  [[1.1745642, -1.7645242, 0.11962197, -1.112655...        0.999583   \n",
       "1  [[1.1789223, -1.7487732, 0.051419273, -1.04172...        0.997500   \n",
       "2  [[1.0642526, -1.8600926, -0.06002459, -1.36936...        0.998750   \n",
       "3  [[1.1172426, -1.8113661, 0.105573125, -1.25289...        0.999583   \n",
       "4  [[1.2337743, -1.8857853, 0.043512788, -1.16938...        0.999583   \n",
       "\n",
       "                                         train_preds  \\\n",
       "0  [0, 1, 0, 0, 0, 0, 0, 0, 0, 0, 0, 0, 0, 0, 1, ...   \n",
       "1  [1, 0, 0, 1, 0, 0, 1, 0, 0, 0, 0, 0, 0, 0, 0, ...   \n",
       "2  [0, 0, 0, 0, 0, 0, 0, 0, 0, 0, 0, 0, 0, 0, 0, ...   \n",
       "3  [0, 0, 0, 0, 1, 0, 0, 0, 0, 0, 0, 0, 0, 0, 0, ...   \n",
       "4  [0, 0, 1, 0, 0, 0, 0, 0, 0, 0, 0, 0, 0, 0, 0, ...   \n",
       "\n",
       "                                         train_probs  valid_accuracy  \\\n",
       "0  [0.0026315789473684214, 0.9646040983007648, 0....        0.989583   \n",
       "1  [0.98, 0.0, 0.0, 0.9269593158704095, 0.0, 0.07...        0.978333   \n",
       "2  [0.0, 0.044240662435994914, 6.64010624169985e-...        0.984583   \n",
       "3  [0.0, 0.0, 0.0, 0.0, 0.9990838759638152, 0.0, ...        0.990000   \n",
       "4  [0.0, 0.0, 0.9985329493071636, 0.0287257448172...        0.985417   \n",
       "\n",
       "                                         valid_preds  \\\n",
       "0  [0, 0, 0, 0, 1, 1, 1, 1, 0, 0, 0, 0, 0, 0, 0, ...   \n",
       "1  [0, 0, 0, 0, 1, 1, 1, 1, 0, 0, 0, 0, 0, 0, 0, ...   \n",
       "2  [0, 0, 0, 0, 1, 1, 1, 1, 0, 0, 0, 0, 0, 0, 0, ...   \n",
       "3  [0, 0, 0, 0, 1, 1, 1, 1, 0, 0, 0, 0, 0, 0, 0, ...   \n",
       "4  [0, 0, 0, 0, 1, 1, 1, 1, 0, 0, 0, 0, 0, 0, 0, ...   \n",
       "\n",
       "                                         valid_probs  \n",
       "0  [0.016489416623644813, 0.3128771305213968, 0.0...  \n",
       "1  [0.0, 0.0, 0.0, 0.0, 0.99, 0.908744963537351, ...  \n",
       "2  [0.0, 0.1726429190198683, 0.0, 0.0, 0.92468878...  \n",
       "3  [0.0, 0.0, 0.0, 0.0, 0.9990075400859526, 0.913...  \n",
       "4  [0.0, 0.02, 0.0, 0.0, 0.9959176581285873, 0.87...  "
      ]
     },
     "execution_count": 16,
     "metadata": {},
     "output_type": "execute_result"
    }
   ],
   "source": [
    "models.head()"
   ]
  },
  {
   "cell_type": "code",
   "execution_count": 17,
   "metadata": {},
   "outputs": [],
   "source": [
    "valid_stats = pd.DataFrame()\n",
    "for _, row in models.iterrows():\n",
    "    model_id = row.name\n",
    "    valid_props[\"predictions\"] = row[\"valid_preds\"]\n",
    "    temp_valid_stats = valid_props.groupby([\"resistances\", \"capacitances\", \"radii\", \"position_ys\"]).apply(\n",
    "        lambda x: (x[\"predictions\"] == 1).sum() / x.shape[0]\n",
    "    )\n",
    "    temp_valid_stats.name=\"percent_intakes\"\n",
    "    temp_valid_stats = temp_valid_stats.reset_index()\n",
    "    temp_valid_stats[\"model_id\"] = model_id\n",
    "    temp_valid_stats[\"model_type\"] = row[\"model_type\"]\n",
    "    valid_stats = pd.concat([valid_stats, temp_valid_stats], axis=0)\n",
    "valid_stats = valid_stats.reset_index(drop=True)\n",
    "valid_stats = valid_stats.groupby([\"model_type\", \"resistances\", \"capacitances\", \"radii\", \"position_ys\"]).apply(lambda x: pd.Series([x[\"percent_intakes\"].mean(), x[\"percent_intakes\"].std()]))\n",
    "valid_stats.columns = [\"mean\", \"std\"]\n",
    "valid_stats = valid_stats.reset_index()"
   ]
  },
  {
   "cell_type": "code",
   "execution_count": 18,
   "metadata": {},
   "outputs": [
    {
     "data": {
      "image/png": "[encoded data removed]",
      "text/plain": [
       "<Figure size 1500x600 with 1 Axes>"
      ]
     },
     "metadata": {},
     "output_type": "display_data"
    }
   ],
   "source": [
    "fig = plt.figure(figsize=(15, 6))\n",
    "offset = -0.3\n",
    "ticks = []\n",
    "for i, row in valid_stats.iterrows():\n",
    "    c = \"C1\" if row[\"resistances\"] == 0 and row[\"capacitances\"] == 1 else \"C0\"\n",
    "    plt.bar(\n",
    "        x=i,\n",
    "        height=row[\"mean\"] * 100 + offset,\n",
    "        yerr=row[\"std\"] * 100,\n",
    "        bottom=offset,\n",
    "        color=c,\n",
    "        width=0.9,\n",
    "    )\n",
    "    if i == 0:\n",
    "        ticks.append(\n",
    "            [\n",
    "                i,\n",
    "                f\"R- {row[\"resistances\"]+1:.0f}\\nC- {row[\"capacitances\"]+1:.0f}\\nr- {row[\"radii\"]+1:.0f}\\nd- {row[\"position_ys\"]+1:.0f}\",\n",
    "            ]\n",
    "        )\n",
    "    else:\n",
    "        ticks.append(\n",
    "            [\n",
    "                i,\n",
    "                f\"{row[\"resistances\"]+1:.0f}\\n{row[\"capacitances\"]+1:.0f}\\n{row[\"radii\"]+1:.0f}\\n{row[\"position_ys\"]+1:.0f}\",\n",
    "            ]\n",
    "        )\n",
    "plt.xticks(*zip(*ticks))\n",
    "plt.ylabel(\"Percent of intakes\", fontsize=20)\n",
    "plt.xlabel(\"Resistance, Capacitance, Radius, Distance\\nidentifiers\", fontsize=20)\n",
    "sns.despine(offset=5, trim=True)\n",
    "plt.savefig(\"discrimination-performance.svg\")\n",
    "plt.show()"
   ]
  },
  {
   "cell_type": "markdown",
   "metadata": {},
   "source": [
    "## Inspect errors made by the models in feature space"
   ]
  },
  {
   "cell_type": "markdown",
   "metadata": {},
   "source": [
    "### Collect properties based on models predictions"
   ]
  },
  {
   "cell_type": "code",
   "execution_count": 117,
   "metadata": {},
   "outputs": [
    {
     "data": {
      "text/plain": [
       "(4000, 6)"
      ]
     },
     "execution_count": 117,
     "metadata": {},
     "output_type": "execute_result"
    }
   ],
   "source": [
    "models[\"predicted_resistances\"] = models.apply(\n",
    "    lambda x: np.power(\n",
    "        10,\n",
    "        np.hstack(\n",
    "            [\n",
    "                x[\"prediction_train\"][:, -2] * dset.worms_properties_stats[\"resistances\"][\"std\"]\n",
    "                + dset.worms_properties_stats[\"resistances\"][\"mean\"],\n",
    "                x[\"prediction_valid\"][:, -2] * dset.worms_properties_stats[\"resistances\"][\"std\"]\n",
    "                + dset.worms_properties_stats[\"resistances\"][\"mean\"],\n",
    "            ]\n",
    "        ),\n",
    "    ),\n",
    "    axis=1,\n",
    ")\n",
    "models[\"predicted_capacitances\"] = models.apply(\n",
    "    lambda x: np.power(\n",
    "        10,\n",
    "        np.hstack(\n",
    "            [\n",
    "                x[\"prediction_train\"][:, -1] * dset.worms_properties_stats[\"capacitances\"][\"std\"]\n",
    "                + dset.worms_properties_stats[\"capacitances\"][\"mean\"],\n",
    "                x[\"prediction_valid\"][:, -1] * dset.worms_properties_stats[\"capacitances\"][\"std\"]\n",
    "                + dset.worms_properties_stats[\"capacitances\"][\"mean\"],\n",
    "            ]\n",
    "        ),\n",
    "    ),\n",
    "    axis=1,\n",
    ")\n",
    "predicted_resistances = np.hstack(models[\"predicted_resistances\"])\n",
    "predicted_capacitances = np.hstack(models[\"predicted_capacitances\"])\n",
    "all_properties = pd.concat(\n",
    "    [discrimination_data[[\"resistances\", \"capacitances\", \"radii\", \"position_ys\", \"preferred\"]]]\n",
    "    * (predicted_resistances.shape[0] // len(discrimination_data))\n",
    ")\n",
    "all_properties[\"predicted_resistances\"] = predicted_resistances\n",
    "all_properties[\"predicted_capacitances\"] = predicted_capacitances\n",
    "all_properties = all_properties[\n",
    "    (all_properties[\"resistances\"] == 0)\n",
    "    & (all_properties[\"capacitances\"] == 1)\n",
    "    & (all_properties[\"radii\"] == 1)\n",
    "    # & (all_properties[\"position_ys\"] == 0)\n",
    "]\n",
    "all_properties[\"position_xs\"] = raw_dataset[\"worms\"][\"position_xs\"][0]\n",
    "all_properties[\"position_zs\"] = raw_dataset[\"worms\"][\"position_zs\"][0]\n",
    "all_properties[\"radii\"] = all_properties[\"radii\"].apply(lambda x: raw_dataset[\"worms\"][\"radii\"][x])\n",
    "all_properties[\"position_ys\"] = all_properties[\"position_ys\"].apply(lambda x: raw_dataset[\"worms\"][\"position_ys\"][x])\n",
    "all_properties[\"resistances\"] = all_properties[\"predicted_resistances\"]\n",
    "all_properties[\"capacitances\"] = all_properties[\"predicted_capacitances\"]\n",
    "all_properties = all_properties.drop(columns=[\"predicted_resistances\", \"predicted_capacitances\", \"preferred\"]).reset_index(drop=True)\n",
    "all_properties.shape"
   ]
  },
  {
   "cell_type": "markdown",
   "metadata": {},
   "source": [
    "### Run physics simulations to generate the EIs"
   ]
  },
  {
   "cell_type": "code",
   "execution_count": 118,
   "metadata": {},
   "outputs": [],
   "source": [
    "sys.path.append(\"../../efish-physics-model/objects\")\n",
    "from Worm_SmallSpherical import SmallSphericalWorm  # noqa E402"
   ]
  },
  {
   "cell_type": "code",
   "execution_count": 119,
   "metadata": {},
   "outputs": [],
   "source": [
    "fish_u = 30\n",
    "fish_t = 20\n",
    "aquarium = raw_dataset[\"aquarium\"][\"dataframe\"][\"objs\"].iloc[0]\n",
    "aquarium.empty_aquarium()\n",
    "efish = raw_dataset[\"fish\"][\"dataframe\"][\"objs\"].iloc[0]"
   ]
  },
  {
   "cell_type": "code",
   "execution_count": 120,
   "metadata": {},
   "outputs": [],
   "source": [
    "aquarium.insert_fish(efish)\n",
    "\n",
    "_, base_E_field_mag, wave_form = aquarium.electric_potential_and_field_single_fish(\n",
    "    points=efish.get_receptors_locations(), fish_id=0, return_potential=False, return_field=True\n",
    ")\n",
    "base_E_field_full = base_E_field_mag * wave_form\n",
    "base_transdermal_signal = efish.compute_transdermal_signal(\n",
    "    E_field=base_E_field_mag.squeeze().reshape(-1, 3),\n",
    "    water_conductivity=aquarium.get_conductivity(),\n",
    "    temporal_wave_form=wave_form,\n",
    ")\n",
    "base_receptors_responses = efish.compute_receptors_responses(base_transdermal_signal)\n",
    "base_receptors_responses = base_receptors_responses.reshape(fish_u, fish_t, 2).transpose(2, 1, 0)\n",
    "\n",
    "aquarium.empty_aquarium()"
   ]
  },
  {
   "cell_type": "code",
   "execution_count": 122,
   "metadata": {},
   "outputs": [],
   "source": [
    "estimated_eis = []\n",
    "for _, worm_property in all_properties.iterrows():\n",
    "    worm = SmallSphericalWorm(\n",
    "        radius=worm_property[\"radii\"],  # type: ignore\n",
    "        resistance=worm_property[\"resistances\"],  # type: ignore\n",
    "        capacitance=worm_property[\"capacitances\"],  # type: ignore\n",
    "        center_position=[\n",
    "            worm_property[\"position_xs\"],\n",
    "            worm_property[\"position_ys\"],\n",
    "            worm_property[\"position_zs\"],\n",
    "        ],\n",
    "        _init_tests=False,\n",
    "    )\n",
    "    aquarium.insert_fish(efish)\n",
    "    aquarium.insert_worm(worm)\n",
    "\n",
    "    dipole_wave_form = worm.dipole_waveform_single_fish(\n",
    "        wave_form=wave_form,\n",
    "        sig_water=aquarium.get_conductivity(),\n",
    "        eps_r_water=aquarium.get_relative_permittivity(),\n",
    "        sampling_frequency=efish.get_sampling_rate(),\n",
    "    )\n",
    "\n",
    "    _, E_field, _ = aquarium.electric_potential_and_field_single_fish(\n",
    "        points=worm.get_position()[np.newaxis],\n",
    "        fish_id=0,\n",
    "        return_potential=False,\n",
    "        return_field=True,\n",
    "    )\n",
    "    perturbation_magnitude = worm.perturbation_magnitude_single_fish(\n",
    "        receptor_locs=efish.get_receptors_locations(),\n",
    "        E_field=E_field,\n",
    "        return_potential=False,\n",
    "        return_field=True,\n",
    "        include_radius_factor=False,\n",
    "    )[1]\n",
    "    E_field_perturbation = np.power(worm.get_radius(), 3) * perturbation_magnitude[:, :, np.newaxis] * dipole_wave_form\n",
    "\n",
    "    total_E_field = base_E_field_full + E_field_perturbation\n",
    "    pert_transdermal_signal = efish.compute_transdermal_signal(\n",
    "        E_field=total_E_field, water_conductivity=aquarium.get_conductivity()\n",
    "    )\n",
    "\n",
    "    pert_receptors_responses = efish.compute_receptors_responses(pert_transdermal_signal)\n",
    "    pert_receptors_responses = pert_receptors_responses.reshape(fish_u, fish_t, 2).transpose(2, 1, 0)\n",
    "    \n",
    "    estimated_eis.append((pert_receptors_responses / base_receptors_responses - 1) *100)\n",
    "    \n",
    "    aquarium.empty_aquarium()\n",
    "estimated_eis = np.array(estimated_eis)"
   ]
  },
  {
   "cell_type": "code",
   "execution_count": 123,
   "metadata": {},
   "outputs": [
    {
     "data": {
      "image/png": "[encoded data removed]",
      "text/plain": [
       "<Figure size 640x480 with 1 Axes>"
      ]
     },
     "metadata": {},
     "output_type": "display_data"
    }
   ],
   "source": [
    "mask = raw_dataset[\"worms\"][\"dataframe\"][\"position_ys\"] == 0\n",
    "mask &= raw_dataset[\"worms\"][\"dataframe\"][\"radii\"] == 1\n",
    "plt.scatter(*eis[mask, :, 5, 6].T, c=[f\"C{int(x)}\" for x in discrimination_data[mask][\"preferred\"]])\n",
    "plt.scatter([0], [0], c=\"b\", marker=\"x\", s=200)\n",
    "plt.scatter(*estimated_eis[:, :, 5, 6].T, c=\"k\", s=1)\n",
    "plt.xlabel(\"MZ Filter modulation (%)\")\n",
    "plt.ylabel(\"DLZ Filter modulation (%)\")\n",
    "sns.despine(offset=5, trim=True)\n",
    "plt.show()"
   ]
  },
  {
   "cell_type": "markdown",
   "metadata": {},
   "source": []
  },
  {
   "cell_type": "code",
   "execution_count": null,
   "metadata": {},
   "outputs": [
    {
     "data": {
      "image/png": "[encoded data removed]",
      "text/plain": [
       "<Figure size 640x480 with 1 Axes>"
      ]
     },
     "metadata": {},
     "output_type": "display_data"
    }
   ],
   "source": [
    "plt.scatter(*estimated_eis[:, :, 5, 6].T, c=\"k\", s=1)\n",
    "plt.xlabel(\"MZ Filter modulation (%)\")\n",
    "plt.ylabel(\"DLZ Filter modulation (%)\")\n",
    "plt.xlim(-0.1, 0.8)\n",
    "plt.ylim(-2, 0.5)\n",
    "sns.despine(offset=5, trim=True)\n",
    "plt.show()"
   ]
  },
  {
   "cell_type": "code",
   "execution_count": null,
   "metadata": {},
   "outputs": [],
   "source": []
  },
  {
   "cell_type": "code",
   "execution_count": null,
   "metadata": {},
   "outputs": [],
   "source": []
  },
  {
   "cell_type": "code",
   "execution_count": null,
   "metadata": {},
   "outputs": [],
   "source": []
  },
  {
   "cell_type": "code",
   "execution_count": null,
   "metadata": {},
   "outputs": [],
   "source": []
  }
 ],
 "metadata": {
  "kernelspec": {
   "display_name": "efish",
   "language": "python",
   "name": "python3"
  },
  "language_info": {
   "codemirror_mode": {
    "name": "ipython",
    "version": 3
   },
   "file_extension": ".py",
   "mimetype": "text/x-python",
   "name": "python",
   "nbconvert_exporter": "python",
   "pygments_lexer": "ipython3",
   "version": "3.12.2"
  }
 },
 "nbformat": 4,
 "nbformat_minor": 2
}
