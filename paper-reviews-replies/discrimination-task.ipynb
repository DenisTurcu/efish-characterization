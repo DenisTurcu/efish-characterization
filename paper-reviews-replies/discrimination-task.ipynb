{
 "cells": [
  {
   "cell_type": "code",
   "execution_count": 1,
   "metadata": {},
   "outputs": [],
   "source": [
    "%load_ext autoreload\n",
    "%autoreload 2"
   ]
  },
  {
   "cell_type": "code",
   "execution_count": 2,
   "metadata": {},
   "outputs": [],
   "source": [
    "import glob\n",
    "import numpy as np\n",
    "import pandas as pd\n",
    "import matplotlib.pyplot as plt\n",
    "import seaborn as sns\n",
    "from sklearn.ensemble import RandomForestClassifier\n",
    "import torch\n",
    "from torch.utils.data import DataLoader\n",
    "\n",
    "import sys\n",
    "\n",
    "sys.path.append(\"../electric-properties-only\")\n",
    "sys.path.append(\"../end-to-end\")\n",
    "sys.path.append(\"../end-to-end-with-feedback\")\n",
    "sys.path.append(\"../../efish-physics-model/objects\")\n",
    "sys.path.append(\"../../efish-physics-model/helper_functions\")\n",
    "sys.path.append(\"../../efish-physics-model/uniform_points_generation\")\n",
    "\n",
    "# from helpers_conv_nn_models import make_true_vs_predicted_figure\n",
    "from electric_images_dataset import ElectricImagesDataset\n",
    "from EndToEndConvNN_PL import EndToEndConvNN_PL\n",
    "from EndToEndConvNNWithFeedback_PL import EndToEndConvNNWithFeedback_PL"
   ]
  },
  {
   "cell_type": "markdown",
   "metadata": {},
   "source": [
    "## Load trained Models"
   ]
  },
  {
   "cell_type": "code",
   "execution_count": 3,
   "metadata": {},
   "outputs": [],
   "source": [
    "models = pd.DataFrame()"
   ]
  },
  {
   "cell_type": "markdown",
   "metadata": {},
   "source": [
    "#### Prepare dataset for dummy run to initialize LazyLayers"
   ]
  },
  {
   "cell_type": "code",
   "execution_count": 4,
   "metadata": {},
   "outputs": [],
   "source": [
    "batch_size = 100\n",
    "data_dir_name = \"../../efish-physics-model/data/processed/data-2024_06_18-characterization_dataset\"\n",
    "original_dset = ElectricImagesDataset(data_dir_name=data_dir_name, fish_t=20, fish_u=30)\n",
    "original_stats = pd.DataFrame.from_dict(original_dset.worms_properties_stats)[\n",
    "    [\"position_xs\", \"position_ys\", \"position_zs\", \"radii\", \"resistances\", \"capacitances\"]\n",
    "]\n",
    "data_dir_name = \"../../efish-physics-model/data/processed/data-2024_12_04-discrimination_dataset\"\n",
    "raw_dataset = pd.read_pickle(f\"{data_dir_name}/dataset.pkl\")\n",
    "dset = ElectricImagesDataset(data_dir_name=data_dir_name, fish_t=20, fish_u=30)\n",
    "new_stats = pd.DataFrame.from_dict(dset.worms_properties_stats)[\n",
    "    [\"position_xs\", \"position_ys\", \"position_zs\", \"radii\", \"resistances\", \"capacitances\"]\n",
    "]\n",
    "dset.worms_properties_stats = original_dset.worms_properties_stats\n",
    "dset.worms_properties = (\n",
    "    dset.worms_properties[:] * new_stats.loc[\"std\"].to_numpy()\n",
    "    + new_stats.loc[\"mean\"].to_numpy()\n",
    "    - original_stats.loc[\"mean\"].to_numpy()\n",
    ") / original_stats.loc[\"std\"].to_numpy()\n",
    "dloader = DataLoader(dset, batch_size=batch_size, shuffle=False, drop_last=False, num_workers=12)"
   ]
  },
  {
   "cell_type": "markdown",
   "metadata": {},
   "source": [
    "#### Load full end-to-end models"
   ]
  },
  {
   "cell_type": "code",
   "execution_count": 5,
   "metadata": {},
   "outputs": [
    {
     "name": "stderr",
     "output_type": "stream",
     "text": [
      "/home/dturcu/.conda/envs/efish/lib/python3.12/site-packages/torch/nn/modules/lazy.py:181: UserWarning: Lazy modules are a new feature under heavy development so changes to the API or functionality can happen at any moment.\n",
      "  warnings.warn('Lazy modules are a new feature under heavy development '\n"
     ]
    }
   ],
   "source": [
    "for folder in list(np.sort(glob.glob(\"../figures/stats-panel/full-model*\"))):\n",
    "    checkpoint_path = f\"{folder}/lightning_logs/version_0/checkpoints/epoch=4-step=25015.ckpt\"\n",
    "    model = EndToEndConvNN_PL.load_from_checkpoint(checkpoint_path)\n",
    "    model.eval()\n",
    "    model.freeze()\n",
    "    model.cpu()\n",
    "    rand_seed = int(folder.split(\"_\")[1].split(\"-\")[0])\n",
    "    lambda_RC = int(folder.split(\"_\")[-1])\n",
    "    models = pd.concat(\n",
    "        [\n",
    "            models,\n",
    "            pd.DataFrame({\"rand_seed\": [rand_seed], \"lambda_RC\": [lambda_RC], \"model_type\": \"full\", \"model\": [model]}),\n",
    "        ]\n",
    "    ).reset_index(drop=True)"
   ]
  },
  {
   "cell_type": "code",
   "execution_count": 6,
   "metadata": {},
   "outputs": [],
   "source": [
    "for folder in list(np.sort(glob.glob(\"../figures/stats-panel/feedback-with-values*\"))):\n",
    "    checkpoint_path = f\"{folder}/lightning_logs/version_0/checkpoints/epoch=4-step=25015.ckpt\"\n",
    "    model = EndToEndConvNNWithFeedback_PL.load_from_checkpoint(checkpoint_path)\n",
    "    model.eval()\n",
    "    model.freeze()\n",
    "    model.cpu()\n",
    "    rand_seed = int(folder.split(\"_\")[1].split(\"-\")[0])\n",
    "    lambda_RC = int(folder.split(\"_\")[-1])\n",
    "    models = pd.concat(\n",
    "        [\n",
    "            models,\n",
    "            pd.DataFrame(\n",
    "                {\"rand_seed\": [rand_seed], \"lambda_RC\": [lambda_RC], \"model_type\": \"feedback_vals\", \"model\": [model]}\n",
    "            ),\n",
    "        ]\n",
    "    ).reset_index(drop=True)\n",
    "\n",
    "for folder in list(np.sort(glob.glob(\"../figures/stats-panel/feedback-with-estimates*\"))):\n",
    "    checkpoint_path = f\"{folder}/lightning_logs/version_0/checkpoints/epoch=4-step=25015.ckpt\"\n",
    "    model = EndToEndConvNNWithFeedback_PL.load_from_checkpoint(checkpoint_path)\n",
    "    model.eval()\n",
    "    model.freeze()\n",
    "    model.cpu()\n",
    "    rand_seed = int(folder.split(\"_\")[1].split(\"-\")[0])\n",
    "    lambda_RC = int(folder.split(\"_\")[-1])\n",
    "    models = pd.concat(\n",
    "        [\n",
    "            models,\n",
    "            pd.DataFrame(\n",
    "                {\"rand_seed\": [rand_seed], \"lambda_RC\": [lambda_RC], \"model_type\": \"feedback_esti\", \"model\": [model]}\n",
    "            ),\n",
    "        ]\n",
    "    ).reset_index(drop=True)"
   ]
  },
  {
   "cell_type": "markdown",
   "metadata": {},
   "source": [
    "## Inspect discrimination data"
   ]
  },
  {
   "cell_type": "code",
   "execution_count": 7,
   "metadata": {},
   "outputs": [
    {
     "name": "stdout",
     "output_type": "stream",
     "text": [
      "torch.Size([24, 2, 20, 30]) torch.Size([24, 2])\n"
     ]
    }
   ],
   "source": [
    "eis = next(iter(dloader))[0]\n",
    "props = next(iter(dloader))[1].to(torch.float32)\n",
    "discrimination_data = raw_dataset[\"worms\"][\"dataframe\"].copy()\n",
    "discrimination_data[\"preferred\"] = (discrimination_data[\"resistances\"] == 0) & (\n",
    "    discrimination_data[\"capacitances\"] == 1\n",
    ")\n",
    "max_mod = eis[:, :, 5, 6]\n",
    "print(eis.shape, max_mod.shape)"
   ]
  },
  {
   "cell_type": "code",
   "execution_count": 8,
   "metadata": {},
   "outputs": [
    {
     "data": {
      "image/png": "[encoded data removed]",
      "text/plain": [
       "<Figure size 640x480 with 1 Axes>"
      ]
     },
     "metadata": {},
     "output_type": "display_data"
    }
   ],
   "source": [
    "mask = raw_dataset[\"worms\"][\"dataframe\"][\"position_ys\"] == 0\n",
    "mask &= raw_dataset[\"worms\"][\"dataframe\"][\"radii\"] == 1\n",
    "plt.scatter(*eis[mask, :, 5, 6].T, c=[f\"C{int(x)}\" for x in discrimination_data[mask][\"preferred\"]])\n",
    "plt.scatter([0], [0], c=\"b\", marker=\"x\", s=200)\n",
    "plt.xlabel(\"MZ Filter modulation (%)\")\n",
    "plt.ylabel(\"DLZ Filter modulation (%)\")\n",
    "sns.despine(offset=5, trim=True)\n",
    "plt.show()"
   ]
  },
  {
   "cell_type": "markdown",
   "metadata": {},
   "source": [
    "### Create discrimination training and testing data"
   ]
  },
  {
   "cell_type": "code",
   "execution_count": 9,
   "metadata": {},
   "outputs": [],
   "source": [
    "n_repeats = 100\n",
    "train_eis = torch.tile(eis, (n_repeats, 1, 1, 1))\n",
    "train_eis = train_eis + torch.randn_like(train_eis) * 0.02\n",
    "train_props = torch.tile(props, (n_repeats, 1))\n",
    "labels = np.tile(discrimination_data[\"preferred\"].to_numpy().astype(int), (n_repeats,))\n",
    "valid_eis = torch.tile(eis, (n_repeats, 1, 1, 1))\n",
    "valid_eis = valid_eis + torch.randn_like(valid_eis) * 0.02\n",
    "valid_props = pd.concat([discrimination_data[[\"resistances\", \"capacitances\", \"radii\", \"position_ys\", \"preferred\"]]] * n_repeats)\n",
    "valid_props[\"preferred\"] = valid_props[\"preferred\"].astype(int)"
   ]
  },
  {
   "cell_type": "markdown",
   "metadata": {},
   "source": [
    "## Compute models predictions"
   ]
  },
  {
   "cell_type": "code",
   "execution_count": 10,
   "metadata": {},
   "outputs": [],
   "source": [
    "models[\"prediction_train\"] = models.apply(\n",
    "    lambda x: (\n",
    "        x[\"model\"].model(train_eis, train_props[:, 1], train_props[:, 3]).detach().cpu().numpy()\n",
    "        if x[\"model_type\"] == \"feedback_vals\"\n",
    "        else x[\"model\"].model(train_eis).detach().cpu().numpy()\n",
    "    ),\n",
    "    axis=1,\n",
    ")\n",
    "models[\"prediction_valid\"] = models.apply(\n",
    "    lambda x: (\n",
    "        x[\"model\"].model(valid_eis, train_props[:, 1], train_props[:, 3]).detach().cpu().numpy()\n",
    "        if x[\"model_type\"] == \"feedback_vals\"\n",
    "        else x[\"model\"].model(valid_eis).detach().cpu().numpy()\n",
    "    ),\n",
    "    axis=1,\n",
    ")"
   ]
  },
  {
   "cell_type": "code",
   "execution_count": 11,
   "metadata": {},
   "outputs": [],
   "source": [
    "def train_discrimination(dfrow):\n",
    "    shuffle_perm = np.random.permutation(len(dfrow[\"prediction_train\"]))\n",
    "    train_x = dfrow[\"prediction_train\"][shuffle_perm]\n",
    "    train_y = labels[shuffle_perm]\n",
    "    rfc = RandomForestClassifier(n_estimators=100, max_depth=10, class_weight=\"balanced\", n_jobs=-1)\n",
    "    rfc.fit(train_x, train_y)\n",
    "    train_preds = rfc.predict(train_x)\n",
    "    valid_x = dfrow[\"prediction_valid\"]\n",
    "    valid_y = labels\n",
    "    valid_preds = rfc.predict(valid_x)\n",
    "\n",
    "    dfrow[\"train_accuracy\"] = (train_preds == train_y).mean()\n",
    "    dfrow[\"train_preds\"] = train_preds\n",
    "    dfrow[\"train_probs\"] = rfc.predict_proba(train_x)[:, 1]\n",
    "\n",
    "    dfrow[\"valid_accuracy\"] = (valid_preds == valid_y).mean()\n",
    "    dfrow[\"valid_preds\"] = valid_preds\n",
    "    dfrow[\"valid_probs\"] = rfc.predict_proba(valid_x)[:, 1]\n",
    "    return dfrow"
   ]
  },
  {
   "cell_type": "code",
   "execution_count": 12,
   "metadata": {},
   "outputs": [],
   "source": [
    "models = models.apply(train_discrimination, axis=1)"
   ]
  },
  {
   "cell_type": "code",
   "execution_count": 13,
   "metadata": {},
   "outputs": [
    {
     "data": {
      "text/plain": [
       "((array([0, 1]), array([2000,  400])), (array([0, 1]), array([2013,  387])))"
      ]
     },
     "execution_count": 13,
     "metadata": {},
     "output_type": "execute_result"
    }
   ],
   "source": [
    "np.unique(models[\"train_preds\"][3], return_counts=True), np.unique(models[\"valid_preds\"][3], return_counts=True)"
   ]
  },
  {
   "cell_type": "code",
   "execution_count": 14,
   "metadata": {},
   "outputs": [
    {
     "data": {
      "text/html": [
       "<div>\n",
       "<style scoped>\n",
       "    .dataframe tbody tr th:only-of-type {\n",
       "        vertical-align: middle;\n",
       "    }\n",
       "\n",
       "    .dataframe tbody tr th {\n",
       "        vertical-align: top;\n",
       "    }\n",
       "\n",
       "    .dataframe thead th {\n",
       "        text-align: right;\n",
       "    }\n",
       "</style>\n",
       "<table border=\"1\" class=\"dataframe\">\n",
       "  <thead>\n",
       "    <tr style=\"text-align: right;\">\n",
       "      <th></th>\n",
       "      <th>rand_seed</th>\n",
       "      <th>lambda_RC</th>\n",
       "      <th>model_type</th>\n",
       "      <th>model</th>\n",
       "      <th>prediction_train</th>\n",
       "      <th>prediction_valid</th>\n",
       "      <th>train_accuracy</th>\n",
       "      <th>train_preds</th>\n",
       "      <th>train_probs</th>\n",
       "      <th>valid_accuracy</th>\n",
       "      <th>valid_preds</th>\n",
       "      <th>valid_probs</th>\n",
       "    </tr>\n",
       "  </thead>\n",
       "  <tbody>\n",
       "    <tr>\n",
       "      <th>0</th>\n",
       "      <td>11</td>\n",
       "      <td>0</td>\n",
       "      <td>full</td>\n",
       "      <td>EndToEndConvNN_PL(\\n  (model): EndToEndConvNN2...</td>\n",
       "      <td>[[1.0900556, -1.6574807, 0.18646108, -1.308592...</td>\n",
       "      <td>[[1.0942644, -1.6440129, 0.090820685, -1.26364...</td>\n",
       "      <td>0.969167</td>\n",
       "      <td>[0, 1, 0, 0, 0, 0, 0, 0, 0, 0, 1, 0, 0, 1, 0, ...</td>\n",
       "      <td>[0.0, 0.9852205540049647, 0.01887896339863894,...</td>\n",
       "      <td>0.950417</td>\n",
       "      <td>[0, 0, 0, 0, 1, 0, 1, 1, 0, 1, 0, 0, 0, 0, 0, ...</td>\n",
       "      <td>[0.2782351282989564, 0.10676829695807628, 0.04...</td>\n",
       "    </tr>\n",
       "    <tr>\n",
       "      <th>1</th>\n",
       "      <td>11</td>\n",
       "      <td>1</td>\n",
       "      <td>full</td>\n",
       "      <td>EndToEndConvNN_PL(\\n  (model): EndToEndConvNN2...</td>\n",
       "      <td>[[1.1436757, -1.7615542, 0.12048773, -1.143042...</td>\n",
       "      <td>[[1.1776781, -1.7537987, 0.07498122, -1.135414...</td>\n",
       "      <td>0.998333</td>\n",
       "      <td>[0, 0, 0, 0, 0, 0, 0, 0, 0, 0, 0, 1, 0, 0, 0, ...</td>\n",
       "      <td>[0.0, 0.0015873015873015873, 0.0, 0.0, 0.0, 0....</td>\n",
       "      <td>0.989167</td>\n",
       "      <td>[0, 0, 0, 0, 1, 1, 1, 1, 0, 0, 0, 0, 0, 0, 0, ...</td>\n",
       "      <td>[0.01, 0.00030674846625766884, 0.0, 0.00030674...</td>\n",
       "    </tr>\n",
       "    <tr>\n",
       "      <th>2</th>\n",
       "      <td>11</td>\n",
       "      <td>16</td>\n",
       "      <td>full</td>\n",
       "      <td>EndToEndConvNN_PL(\\n  (model): EndToEndConvNN2...</td>\n",
       "      <td>[[1.1824554, -1.7504327, -0.0061478466, -1.175...</td>\n",
       "      <td>[[1.2309256, -1.7784472, 0.070193246, -1.16322...</td>\n",
       "      <td>0.997917</td>\n",
       "      <td>[0, 0, 0, 0, 0, 0, 0, 0, 0, 0, 0, 0, 0, 0, 0, ...</td>\n",
       "      <td>[0.017159786529148215, 0.0, 0.0, 0.00050505050...</td>\n",
       "      <td>0.978750</td>\n",
       "      <td>[0, 0, 0, 0, 1, 1, 1, 1, 0, 0, 0, 0, 0, 0, 0, ...</td>\n",
       "      <td>[0.00023474178403755947, 0.0, 0.0, 0.000234741...</td>\n",
       "    </tr>\n",
       "    <tr>\n",
       "      <th>3</th>\n",
       "      <td>11</td>\n",
       "      <td>2</td>\n",
       "      <td>full</td>\n",
       "      <td>EndToEndConvNN_PL(\\n  (model): EndToEndConvNN2...</td>\n",
       "      <td>[[1.0598048, -1.8948839, -0.062017024, -1.4112...</td>\n",
       "      <td>[[1.0905809, -1.9204738, -0.003581673, -1.4213...</td>\n",
       "      <td>1.000000</td>\n",
       "      <td>[1, 0, 0, 0, 1, 1, 0, 0, 0, 0, 0, 1, 0, 0, 0, ...</td>\n",
       "      <td>[0.9737804443933982, 0.0, 0.0, 0.0328966309244...</td>\n",
       "      <td>0.987083</td>\n",
       "      <td>[0, 0, 0, 0, 0, 1, 1, 1, 0, 0, 0, 0, 0, 0, 0, ...</td>\n",
       "      <td>[0.0, 0.01624551971326165, 0.0, 0.009722222222...</td>\n",
       "    </tr>\n",
       "    <tr>\n",
       "      <th>4</th>\n",
       "      <td>11</td>\n",
       "      <td>4</td>\n",
       "      <td>full</td>\n",
       "      <td>EndToEndConvNN_PL(\\n  (model): EndToEndConvNN2...</td>\n",
       "      <td>[[1.1228836, -1.8513858, 0.09710691, -1.287357...</td>\n",
       "      <td>[[1.1680541, -1.88794, 0.19557022, -1.3180721,...</td>\n",
       "      <td>1.000000</td>\n",
       "      <td>[0, 1, 0, 0, 0, 0, 0, 0, 0, 0, 0, 0, 0, 0, 1, ...</td>\n",
       "      <td>[0.0, 0.9999056371902924, 0.0, 0.0, 0.00238095...</td>\n",
       "      <td>0.991250</td>\n",
       "      <td>[0, 0, 0, 0, 1, 1, 1, 1, 0, 0, 0, 0, 0, 0, 0, ...</td>\n",
       "      <td>[0.01, 0.0, 0.0, 0.0, 0.9999369089041346, 0.97...</td>\n",
       "    </tr>\n",
       "  </tbody>\n",
       "</table>\n",
       "</div>"
      ],
      "text/plain": [
       "   rand_seed  lambda_RC model_type  \\\n",
       "0         11          0       full   \n",
       "1         11          1       full   \n",
       "2         11         16       full   \n",
       "3         11          2       full   \n",
       "4         11          4       full   \n",
       "\n",
       "                                               model  \\\n",
       "0  EndToEndConvNN_PL(\\n  (model): EndToEndConvNN2...   \n",
       "1  EndToEndConvNN_PL(\\n  (model): EndToEndConvNN2...   \n",
       "2  EndToEndConvNN_PL(\\n  (model): EndToEndConvNN2...   \n",
       "3  EndToEndConvNN_PL(\\n  (model): EndToEndConvNN2...   \n",
       "4  EndToEndConvNN_PL(\\n  (model): EndToEndConvNN2...   \n",
       "\n",
       "                                    prediction_train  \\\n",
       "0  [[1.0900556, -1.6574807, 0.18646108, -1.308592...   \n",
       "1  [[1.1436757, -1.7615542, 0.12048773, -1.143042...   \n",
       "2  [[1.1824554, -1.7504327, -0.0061478466, -1.175...   \n",
       "3  [[1.0598048, -1.8948839, -0.062017024, -1.4112...   \n",
       "4  [[1.1228836, -1.8513858, 0.09710691, -1.287357...   \n",
       "\n",
       "                                    prediction_valid  train_accuracy  \\\n",
       "0  [[1.0942644, -1.6440129, 0.090820685, -1.26364...        0.969167   \n",
       "1  [[1.1776781, -1.7537987, 0.07498122, -1.135414...        0.998333   \n",
       "2  [[1.2309256, -1.7784472, 0.070193246, -1.16322...        0.997917   \n",
       "3  [[1.0905809, -1.9204738, -0.003581673, -1.4213...        1.000000   \n",
       "4  [[1.1680541, -1.88794, 0.19557022, -1.3180721,...        1.000000   \n",
       "\n",
       "                                         train_preds  \\\n",
       "0  [0, 1, 0, 0, 0, 0, 0, 0, 0, 0, 1, 0, 0, 1, 0, ...   \n",
       "1  [0, 0, 0, 0, 0, 0, 0, 0, 0, 0, 0, 1, 0, 0, 0, ...   \n",
       "2  [0, 0, 0, 0, 0, 0, 0, 0, 0, 0, 0, 0, 0, 0, 0, ...   \n",
       "3  [1, 0, 0, 0, 1, 1, 0, 0, 0, 0, 0, 1, 0, 0, 0, ...   \n",
       "4  [0, 1, 0, 0, 0, 0, 0, 0, 0, 0, 0, 0, 0, 0, 1, ...   \n",
       "\n",
       "                                         train_probs  valid_accuracy  \\\n",
       "0  [0.0, 0.9852205540049647, 0.01887896339863894,...        0.950417   \n",
       "1  [0.0, 0.0015873015873015873, 0.0, 0.0, 0.0, 0....        0.989167   \n",
       "2  [0.017159786529148215, 0.0, 0.0, 0.00050505050...        0.978750   \n",
       "3  [0.9737804443933982, 0.0, 0.0, 0.0328966309244...        0.987083   \n",
       "4  [0.0, 0.9999056371902924, 0.0, 0.0, 0.00238095...        0.991250   \n",
       "\n",
       "                                         valid_preds  \\\n",
       "0  [0, 0, 0, 0, 1, 0, 1, 1, 0, 1, 0, 0, 0, 0, 0, ...   \n",
       "1  [0, 0, 0, 0, 1, 1, 1, 1, 0, 0, 0, 0, 0, 0, 0, ...   \n",
       "2  [0, 0, 0, 0, 1, 1, 1, 1, 0, 0, 0, 0, 0, 0, 0, ...   \n",
       "3  [0, 0, 0, 0, 0, 1, 1, 1, 0, 0, 0, 0, 0, 0, 0, ...   \n",
       "4  [0, 0, 0, 0, 1, 1, 1, 1, 0, 0, 0, 0, 0, 0, 0, ...   \n",
       "\n",
       "                                         valid_probs  \n",
       "0  [0.2782351282989564, 0.10676829695807628, 0.04...  \n",
       "1  [0.01, 0.00030674846625766884, 0.0, 0.00030674...  \n",
       "2  [0.00023474178403755947, 0.0, 0.0, 0.000234741...  \n",
       "3  [0.0, 0.01624551971326165, 0.0, 0.009722222222...  \n",
       "4  [0.01, 0.0, 0.0, 0.0, 0.9999369089041346, 0.97...  "
      ]
     },
     "execution_count": 14,
     "metadata": {},
     "output_type": "execute_result"
    }
   ],
   "source": [
    "models.head()"
   ]
  },
  {
   "cell_type": "code",
   "execution_count": 40,
   "metadata": {},
   "outputs": [],
   "source": [
    "valid_stats = pd.DataFrame()\n",
    "for _, row in models.iterrows():\n",
    "    model_id = row.name\n",
    "    valid_props[\"predictions\"] = row[\"valid_preds\"]\n",
    "    temp_valid_stats = valid_props.groupby([\"resistances\", \"capacitances\", \"radii\", \"position_ys\"]).apply(\n",
    "        lambda x: (x[\"predictions\"] == 1).sum() / x.shape[0]\n",
    "    )\n",
    "    temp_valid_stats.name=\"percent_intakes\"\n",
    "    temp_valid_stats = temp_valid_stats.reset_index()\n",
    "    temp_valid_stats[\"model_id\"] = model_id\n",
    "    valid_stats = pd.concat([valid_stats, temp_valid_stats], axis=0)\n",
    "valid_stats = valid_stats.reset_index(drop=True)\n",
    "valid_stats = valid_stats.groupby([\"resistances\", \"capacitances\", \"radii\", \"position_ys\"]).apply(lambda x: pd.Series([x[\"percent_intakes\"].mean(), x[\"percent_intakes\"].std()]))\n",
    "valid_stats.columns = [\"mean\", \"std\"]\n",
    "valid_stats = valid_stats.reset_index()"
   ]
  },
  {
   "cell_type": "code",
   "execution_count": 43,
   "metadata": {},
   "outputs": [
    {
     "data": {
      "image/png": "[encoded data removed]",
      "text/plain": [
       "<Figure size 1500x600 with 1 Axes>"
      ]
     },
     "metadata": {},
     "output_type": "display_data"
    }
   ],
   "source": [
    "fig = plt.figure(figsize=(15, 6))\n",
    "offset = -0.3\n",
    "ticks = []\n",
    "for i, row in valid_stats.iterrows():\n",
    "    c = \"C1\" if row[\"resistances\"] == 0 and row[\"capacitances\"] == 1 else \"C0\"\n",
    "    plt.bar(x=i, height=row[\"mean\"] * 100 + offset, yerr=row[\"std\"] * 100, bottom=offset, color=c)\n",
    "    if i == 0:\n",
    "        ticks.append(\n",
    "            [\n",
    "                i,\n",
    "                f\"R- {row[\"resistances\"]:.0f}\\nC- {row[\"capacitances\"]:.0f}\\nr- {row[\"radii\"]:.0f}\\nd- {row[\"position_ys\"]:.0f}\",\n",
    "            ]\n",
    "        )\n",
    "    else:\n",
    "        ticks.append(\n",
    "            [i, f\"{row[\"resistances\"]:.0f}\\n{row[\"capacitances\"]:.0f}\\n{row[\"radii\"]:.0f}\\n{row[\"position_ys\"]:.0f}\"]\n",
    "        )\n",
    "plt.xticks(*zip(*ticks))\n",
    "plt.ylabel(\"Percent of intakes\")\n",
    "plt.xlabel(\"Resistance, Capacitance, Radius, Distance\\nidentifiers\")\n",
    "sns.despine(offset=5, trim=True)\n",
    "plt.show()"
   ]
  },
  {
   "cell_type": "code",
   "execution_count": null,
   "metadata": {},
   "outputs": [],
   "source": []
  }
 ],
 "metadata": {
  "kernelspec": {
   "display_name": "efish",
   "language": "python",
   "name": "python3"
  },
  "language_info": {
   "codemirror_mode": {
    "name": "ipython",
    "version": 3
   },
   "file_extension": ".py",
   "mimetype": "text/x-python",
   "name": "python",
   "nbconvert_exporter": "python",
   "pygments_lexer": "ipython3",
   "version": "3.12.2"
  }
 },
 "nbformat": 4,
 "nbformat_minor": 2
}
