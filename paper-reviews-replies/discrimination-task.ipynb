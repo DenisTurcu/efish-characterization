{
 "cells": [
  {
   "cell_type": "code",
   "execution_count": 1,
   "metadata": {},
   "outputs": [],
   "source": [
    "%load_ext autoreload\n",
    "%autoreload 2"
   ]
  },
  {
   "cell_type": "code",
   "execution_count": 2,
   "metadata": {},
   "outputs": [],
   "source": [
    "import glob\n",
    "import numpy as np\n",
    "import pandas as pd\n",
    "import matplotlib.pyplot as plt\n",
    "import seaborn as sns\n",
    "from sklearn.ensemble import RandomForestClassifier\n",
    "import torch\n",
    "from torch.utils.data import DataLoader\n",
    "\n",
    "import sys\n",
    "\n",
    "sys.path.append(\"../electric-properties-only\")\n",
    "sys.path.append(\"../end-to-end\")\n",
    "sys.path.append(\"../end-to-end-with-feedback\")\n",
    "sys.path.append(\"../../efish-physics-model/objects\")\n",
    "sys.path.append(\"../../efish-physics-model/helper_functions\")\n",
    "sys.path.append(\"../../efish-physics-model/uniform_points_generation\")\n",
    "\n",
    "# from helpers_conv_nn_models import make_true_vs_predicted_figure\n",
    "from electric_images_dataset import ElectricImagesDataset\n",
    "from EndToEndConvNN_PL import EndToEndConvNN_PL\n",
    "from EndToEndConvNNWithFeedback_PL import EndToEndConvNNWithFeedback_PL"
   ]
  },
  {
   "cell_type": "markdown",
   "metadata": {},
   "source": [
    "## Load trained Models"
   ]
  },
  {
   "cell_type": "code",
   "execution_count": 3,
   "metadata": {},
   "outputs": [],
   "source": [
    "models = pd.DataFrame()"
   ]
  },
  {
   "cell_type": "markdown",
   "metadata": {},
   "source": [
    "#### Prepare dataset for dummy run to initialize LazyLayers"
   ]
  },
  {
   "cell_type": "code",
   "execution_count": 4,
   "metadata": {},
   "outputs": [],
   "source": [
    "batch_size = 100\n",
    "data_dir_name = \"../../efish-physics-model/data/processed/data-2024_06_18-characterization_dataset\"\n",
    "original_dset = ElectricImagesDataset(data_dir_name=data_dir_name, fish_t=20, fish_u=30)\n",
    "original_stats = pd.DataFrame.from_dict(original_dset.worms_properties_stats)[\n",
    "    [\"position_xs\", \"position_ys\", \"position_zs\", \"radii\", \"resistances\", \"capacitances\"]\n",
    "]\n",
    "data_dir_name = \"../../efish-physics-model/data/processed/data-2024_12_04-discrimination_dataset\"\n",
    "# data_dir_name = \"../../efish-physics-model/data/processed/data-2024_12_11-discrimination_dataset\"\n",
    "raw_dataset = pd.read_pickle(f\"{data_dir_name}/dataset.pkl\")\n",
    "dset = ElectricImagesDataset(data_dir_name=data_dir_name, fish_t=20, fish_u=30)\n",
    "new_stats = pd.DataFrame.from_dict(dset.worms_properties_stats)[\n",
    "    [\"position_xs\", \"position_ys\", \"position_zs\", \"radii\", \"resistances\", \"capacitances\"]\n",
    "]\n",
    "dset.worms_properties_stats = original_dset.worms_properties_stats\n",
    "dset.worms_properties = (\n",
    "    dset.worms_properties[:] * new_stats.loc[\"std\"].to_numpy()\n",
    "    + new_stats.loc[\"mean\"].to_numpy()\n",
    "    - original_stats.loc[\"mean\"].to_numpy()\n",
    ") / original_stats.loc[\"std\"].to_numpy()\n",
    "dloader = DataLoader(dset, batch_size=batch_size, shuffle=False, drop_last=False, num_workers=12)"
   ]
  },
  {
   "cell_type": "markdown",
   "metadata": {},
   "source": [
    "#### Load full end-to-end models"
   ]
  },
  {
   "cell_type": "code",
   "execution_count": 5,
   "metadata": {},
   "outputs": [
    {
     "name": "stderr",
     "output_type": "stream",
     "text": [
      "/home/dturcu/.conda/envs/efish/lib/python3.12/site-packages/torch/nn/modules/lazy.py:181: UserWarning: Lazy modules are a new feature under heavy development so changes to the API or functionality can happen at any moment.\n",
      "  warnings.warn('Lazy modules are a new feature under heavy development '\n"
     ]
    }
   ],
   "source": [
    "for folder in list(np.sort(glob.glob(\"../figures/stats-panel/full-model*\"))):\n",
    "    checkpoint_path = f\"{folder}/lightning_logs/version_0/checkpoints/epoch=4-step=25015.ckpt\"\n",
    "    model = EndToEndConvNN_PL.load_from_checkpoint(checkpoint_path)\n",
    "    model.eval()\n",
    "    model.freeze()\n",
    "    model.cpu()\n",
    "    rand_seed = int(folder.split(\"_\")[1].split(\"-\")[0])\n",
    "    lambda_RC = int(folder.split(\"_\")[-1])\n",
    "    models = pd.concat(\n",
    "        [\n",
    "            models,\n",
    "            pd.DataFrame({\"rand_seed\": [rand_seed], \"lambda_RC\": [lambda_RC], \"model_type\": \"full\", \"model\": [model]}),\n",
    "        ]\n",
    "    ).reset_index(drop=True)"
   ]
  },
  {
   "cell_type": "code",
   "execution_count": 6,
   "metadata": {},
   "outputs": [],
   "source": [
    "for folder in list(np.sort(glob.glob(\"../figures/stats-panel/feedback-with-values*\"))):\n",
    "    checkpoint_path = f\"{folder}/lightning_logs/version_0/checkpoints/epoch=4-step=25015.ckpt\"\n",
    "    model = EndToEndConvNNWithFeedback_PL.load_from_checkpoint(checkpoint_path)\n",
    "    model.eval()\n",
    "    model.freeze()\n",
    "    model.cpu()\n",
    "    rand_seed = int(folder.split(\"_\")[1].split(\"-\")[0])\n",
    "    lambda_RC = int(folder.split(\"_\")[-1])\n",
    "    models = pd.concat(\n",
    "        [\n",
    "            models,\n",
    "            pd.DataFrame(\n",
    "                {\"rand_seed\": [rand_seed], \"lambda_RC\": [lambda_RC], \"model_type\": \"feedback_vals\", \"model\": [model]}\n",
    "            ),\n",
    "        ]\n",
    "    ).reset_index(drop=True)\n",
    "\n",
    "for folder in list(np.sort(glob.glob(\"../figures/stats-panel/feedback-with-estimates*\"))):\n",
    "    checkpoint_path = f\"{folder}/lightning_logs/version_0/checkpoints/epoch=4-step=25015.ckpt\"\n",
    "    model = EndToEndConvNNWithFeedback_PL.load_from_checkpoint(checkpoint_path)\n",
    "    model.eval()\n",
    "    model.freeze()\n",
    "    model.cpu()\n",
    "    rand_seed = int(folder.split(\"_\")[1].split(\"-\")[0])\n",
    "    lambda_RC = int(folder.split(\"_\")[-1])\n",
    "    models = pd.concat(\n",
    "        [\n",
    "            models,\n",
    "            pd.DataFrame(\n",
    "                {\"rand_seed\": [rand_seed], \"lambda_RC\": [lambda_RC], \"model_type\": \"feedback_esti\", \"model\": [model]}\n",
    "            ),\n",
    "        ]\n",
    "    ).reset_index(drop=True)"
   ]
  },
  {
   "cell_type": "code",
   "execution_count": 7,
   "metadata": {},
   "outputs": [],
   "source": [
    "models = models[models[\"lambda_RC\"] > 0].reset_index(drop=True)\n",
    "models = models[models[\"model_type\"]==\"full\"].reset_index(drop=True)"
   ]
  },
  {
   "cell_type": "code",
   "execution_count": 8,
   "metadata": {},
   "outputs": [
    {
     "data": {
      "text/html": [
       "<div>\n",
       "<style scoped>\n",
       "    .dataframe tbody tr th:only-of-type {\n",
       "        vertical-align: middle;\n",
       "    }\n",
       "\n",
       "    .dataframe tbody tr th {\n",
       "        vertical-align: top;\n",
       "    }\n",
       "\n",
       "    .dataframe thead th {\n",
       "        text-align: right;\n",
       "    }\n",
       "</style>\n",
       "<table border=\"1\" class=\"dataframe\">\n",
       "  <thead>\n",
       "    <tr style=\"text-align: right;\">\n",
       "      <th></th>\n",
       "      <th>rand_seed</th>\n",
       "      <th>lambda_RC</th>\n",
       "      <th>model_type</th>\n",
       "      <th>model</th>\n",
       "    </tr>\n",
       "  </thead>\n",
       "  <tbody>\n",
       "    <tr>\n",
       "      <th>0</th>\n",
       "      <td>11</td>\n",
       "      <td>1</td>\n",
       "      <td>full</td>\n",
       "      <td>EndToEndConvNN_PL(\\n  (model): EndToEndConvNN2...</td>\n",
       "    </tr>\n",
       "    <tr>\n",
       "      <th>1</th>\n",
       "      <td>11</td>\n",
       "      <td>16</td>\n",
       "      <td>full</td>\n",
       "      <td>EndToEndConvNN_PL(\\n  (model): EndToEndConvNN2...</td>\n",
       "    </tr>\n",
       "    <tr>\n",
       "      <th>2</th>\n",
       "      <td>11</td>\n",
       "      <td>2</td>\n",
       "      <td>full</td>\n",
       "      <td>EndToEndConvNN_PL(\\n  (model): EndToEndConvNN2...</td>\n",
       "    </tr>\n",
       "    <tr>\n",
       "      <th>3</th>\n",
       "      <td>11</td>\n",
       "      <td>4</td>\n",
       "      <td>full</td>\n",
       "      <td>EndToEndConvNN_PL(\\n  (model): EndToEndConvNN2...</td>\n",
       "    </tr>\n",
       "    <tr>\n",
       "      <th>4</th>\n",
       "      <td>11</td>\n",
       "      <td>8</td>\n",
       "      <td>full</td>\n",
       "      <td>EndToEndConvNN_PL(\\n  (model): EndToEndConvNN2...</td>\n",
       "    </tr>\n",
       "    <tr>\n",
       "      <th>5</th>\n",
       "      <td>113</td>\n",
       "      <td>1</td>\n",
       "      <td>full</td>\n",
       "      <td>EndToEndConvNN_PL(\\n  (model): EndToEndConvNN2...</td>\n",
       "    </tr>\n",
       "    <tr>\n",
       "      <th>6</th>\n",
       "      <td>113</td>\n",
       "      <td>16</td>\n",
       "      <td>full</td>\n",
       "      <td>EndToEndConvNN_PL(\\n  (model): EndToEndConvNN2...</td>\n",
       "    </tr>\n",
       "    <tr>\n",
       "      <th>7</th>\n",
       "      <td>113</td>\n",
       "      <td>2</td>\n",
       "      <td>full</td>\n",
       "      <td>EndToEndConvNN_PL(\\n  (model): EndToEndConvNN2...</td>\n",
       "    </tr>\n",
       "    <tr>\n",
       "      <th>8</th>\n",
       "      <td>113</td>\n",
       "      <td>4</td>\n",
       "      <td>full</td>\n",
       "      <td>EndToEndConvNN_PL(\\n  (model): EndToEndConvNN2...</td>\n",
       "    </tr>\n",
       "    <tr>\n",
       "      <th>9</th>\n",
       "      <td>113</td>\n",
       "      <td>8</td>\n",
       "      <td>full</td>\n",
       "      <td>EndToEndConvNN_PL(\\n  (model): EndToEndConvNN2...</td>\n",
       "    </tr>\n",
       "  </tbody>\n",
       "</table>\n",
       "</div>"
      ],
      "text/plain": [
       "   rand_seed  lambda_RC model_type  \\\n",
       "0         11          1       full   \n",
       "1         11         16       full   \n",
       "2         11          2       full   \n",
       "3         11          4       full   \n",
       "4         11          8       full   \n",
       "5        113          1       full   \n",
       "6        113         16       full   \n",
       "7        113          2       full   \n",
       "8        113          4       full   \n",
       "9        113          8       full   \n",
       "\n",
       "                                               model  \n",
       "0  EndToEndConvNN_PL(\\n  (model): EndToEndConvNN2...  \n",
       "1  EndToEndConvNN_PL(\\n  (model): EndToEndConvNN2...  \n",
       "2  EndToEndConvNN_PL(\\n  (model): EndToEndConvNN2...  \n",
       "3  EndToEndConvNN_PL(\\n  (model): EndToEndConvNN2...  \n",
       "4  EndToEndConvNN_PL(\\n  (model): EndToEndConvNN2...  \n",
       "5  EndToEndConvNN_PL(\\n  (model): EndToEndConvNN2...  \n",
       "6  EndToEndConvNN_PL(\\n  (model): EndToEndConvNN2...  \n",
       "7  EndToEndConvNN_PL(\\n  (model): EndToEndConvNN2...  \n",
       "8  EndToEndConvNN_PL(\\n  (model): EndToEndConvNN2...  \n",
       "9  EndToEndConvNN_PL(\\n  (model): EndToEndConvNN2...  "
      ]
     },
     "execution_count": 8,
     "metadata": {},
     "output_type": "execute_result"
    }
   ],
   "source": [
    "models"
   ]
  },
  {
   "cell_type": "markdown",
   "metadata": {},
   "source": [
    "## Inspect discrimination data"
   ]
  },
  {
   "cell_type": "code",
   "execution_count": 9,
   "metadata": {},
   "outputs": [
    {
     "name": "stdout",
     "output_type": "stream",
     "text": [
      "torch.Size([60, 2, 20, 30]) torch.Size([60, 2])\n"
     ]
    }
   ],
   "source": [
    "eis = next(iter(dloader))[0]\n",
    "props = next(iter(dloader))[1].to(torch.float32)\n",
    "discrimination_data = raw_dataset[\"worms\"][\"dataframe\"].copy()\n",
    "discrimination_data[\"preferred\"] = (discrimination_data[\"resistances\"] == 0) & (\n",
    "    discrimination_data[\"capacitances\"] == 1\n",
    ")\n",
    "max_mod = eis[:, :, 5, 6]\n",
    "print(eis.shape, max_mod.shape)"
   ]
  },
  {
   "cell_type": "code",
   "execution_count": 10,
   "metadata": {},
   "outputs": [
    {
     "data": {
      "image/png": "[encoded data removed]",
      "text/plain": [
       "<Figure size 640x480 with 1 Axes>"
      ]
     },
     "metadata": {},
     "output_type": "display_data"
    }
   ],
   "source": [
    "mask = raw_dataset[\"worms\"][\"dataframe\"][\"position_ys\"] == 0\n",
    "mask &= raw_dataset[\"worms\"][\"dataframe\"][\"radii\"] == 1\n",
    "plt.scatter(*eis[mask, :, 5, 6].T, c=[f\"C{int(x)}\" for x in discrimination_data[mask][\"preferred\"]])\n",
    "plt.scatter([0], [0], c=\"b\", marker=\"x\", s=200)\n",
    "plt.xlabel(\"MZ Filter modulation (%)\")\n",
    "plt.ylabel(\"DLZ Filter modulation (%)\")\n",
    "sns.despine(offset=5, trim=True)\n",
    "plt.savefig(\"discrimination-feat-space.svg\")\n",
    "plt.show()"
   ]
  },
  {
   "cell_type": "markdown",
   "metadata": {},
   "source": [
    "### Create discrimination training and testing data"
   ]
  },
  {
   "cell_type": "code",
   "execution_count": 35,
   "metadata": {},
   "outputs": [],
   "source": [
    "n_repeats = 100\n",
    "train_mask = raw_dataset[\"worms\"][\"dataframe\"][\"position_ys\"].apply(lambda x: x not in [1,3])\n",
    "train_eis = torch.tile(eis[train_mask], (n_repeats, 1, 1, 1))\n",
    "train_eis = train_eis + torch.randn_like(train_eis) * 0.02\n",
    "train_props = torch.tile(props[train_mask], (n_repeats, 1))\n",
    "train_labels = np.tile(discrimination_data[\"preferred\"][train_mask].to_numpy().astype(int), (n_repeats,))\n",
    "\n",
    "valid_mask = raw_dataset[\"worms\"][\"dataframe\"][\"position_ys\"].apply(lambda x: x in [1,3])\n",
    "valid_eis = torch.tile(eis[valid_mask], (n_repeats, 1, 1, 1))\n",
    "valid_eis = valid_eis + torch.randn_like(valid_eis) * 0.02\n",
    "valid_props = torch.tile(props[valid_mask], (n_repeats, 1))\n",
    "valid_props_df = pd.concat([discrimination_data[[\"resistances\", \"capacitances\", \"radii\", \"position_ys\", \"preferred\"]][valid_mask]] * n_repeats)\n",
    "valid_props_df[\"preferred\"] = valid_props_df[\"preferred\"].astype(int)\n",
    "valid_labels = valid_props_df[\"preferred\"].to_numpy()"
   ]
  },
  {
   "cell_type": "markdown",
   "metadata": {},
   "source": [
    "## Compute models predictions"
   ]
  },
  {
   "cell_type": "code",
   "execution_count": 36,
   "metadata": {},
   "outputs": [],
   "source": [
    "models[\"prediction_train\"] = models.apply(\n",
    "    lambda x: (\n",
    "        x[\"model\"].model(train_eis, train_props[:, 1], train_props[:, 3]).detach().cpu().numpy()\n",
    "        if x[\"model_type\"] == \"feedback_vals\"\n",
    "        else x[\"model\"].model(train_eis).detach().cpu().numpy()\n",
    "    ),\n",
    "    axis=1,\n",
    ")\n",
    "models[\"prediction_valid\"] = models.apply(\n",
    "    lambda x: (\n",
    "        x[\"model\"].model(valid_eis, valid_props[:, 1], valid_props[:, 3]).detach().cpu().numpy()\n",
    "        if x[\"model_type\"] == \"feedback_vals\"\n",
    "        else x[\"model\"].model(valid_eis).detach().cpu().numpy()\n",
    "    ),\n",
    "    axis=1,\n",
    ")"
   ]
  },
  {
   "cell_type": "code",
   "execution_count": 37,
   "metadata": {},
   "outputs": [],
   "source": [
    "def train_discrimination(dfrow):\n",
    "    shuffle_perm = np.random.permutation(len(dfrow[\"prediction_train\"]))\n",
    "    train_x = dfrow[\"prediction_train\"][shuffle_perm]\n",
    "    train_y = train_labels[shuffle_perm]\n",
    "    rfc = RandomForestClassifier(n_estimators=100, max_depth=10, class_weight=\"balanced\", n_jobs=-1)\n",
    "    rfc.fit(train_x, train_y)\n",
    "    train_preds = rfc.predict(train_x)\n",
    "    valid_x = dfrow[\"prediction_valid\"]\n",
    "    valid_y = valid_labels\n",
    "    valid_preds = rfc.predict(valid_x)\n",
    "\n",
    "    dfrow[\"train_accuracy\"] = (train_preds == train_y).mean()\n",
    "    dfrow[\"train_preds\"] = train_preds\n",
    "    dfrow[\"train_probs\"] = rfc.predict_proba(train_x)[:, 1]\n",
    "\n",
    "    dfrow[\"valid_accuracy\"] = (valid_preds == valid_y).mean()\n",
    "    dfrow[\"valid_preds\"] = valid_preds\n",
    "    dfrow[\"valid_probs\"] = rfc.predict_proba(valid_x)[:, 1]\n",
    "    return dfrow"
   ]
  },
  {
   "cell_type": "code",
   "execution_count": 38,
   "metadata": {},
   "outputs": [],
   "source": [
    "models = models.apply(train_discrimination, axis=1)"
   ]
  },
  {
   "cell_type": "code",
   "execution_count": 39,
   "metadata": {},
   "outputs": [
    {
     "data": {
      "text/plain": [
       "((array([0, 1]), array([2997,  603])), (array([0, 1]), array([2100,  300])))"
      ]
     },
     "execution_count": 39,
     "metadata": {},
     "output_type": "execute_result"
    }
   ],
   "source": [
    "np.unique(models[\"train_preds\"][3], return_counts=True), np.unique(models[\"valid_preds\"][3], return_counts=True)"
   ]
  },
  {
   "cell_type": "code",
   "execution_count": 40,
   "metadata": {},
   "outputs": [
    {
     "data": {
      "text/html": [
       "<div>\n",
       "<style scoped>\n",
       "    .dataframe tbody tr th:only-of-type {\n",
       "        vertical-align: middle;\n",
       "    }\n",
       "\n",
       "    .dataframe tbody tr th {\n",
       "        vertical-align: top;\n",
       "    }\n",
       "\n",
       "    .dataframe thead th {\n",
       "        text-align: right;\n",
       "    }\n",
       "</style>\n",
       "<table border=\"1\" class=\"dataframe\">\n",
       "  <thead>\n",
       "    <tr style=\"text-align: right;\">\n",
       "      <th></th>\n",
       "      <th>rand_seed</th>\n",
       "      <th>lambda_RC</th>\n",
       "      <th>model_type</th>\n",
       "      <th>model</th>\n",
       "      <th>prediction_train</th>\n",
       "      <th>prediction_valid</th>\n",
       "      <th>train_accuracy</th>\n",
       "      <th>train_preds</th>\n",
       "      <th>train_probs</th>\n",
       "      <th>valid_accuracy</th>\n",
       "      <th>valid_preds</th>\n",
       "      <th>valid_probs</th>\n",
       "    </tr>\n",
       "  </thead>\n",
       "  <tbody>\n",
       "    <tr>\n",
       "      <th>0</th>\n",
       "      <td>11</td>\n",
       "      <td>1</td>\n",
       "      <td>full</td>\n",
       "      <td>EndToEndConvNN_PL(\\n  (model): EndToEndConvNN2...</td>\n",
       "      <td>[[1.1536106, -1.7688352, 0.033717923, -1.09075...</td>\n",
       "      <td>[[1.0674406, -1.7260936, 0.17358112, -1.389114...</td>\n",
       "      <td>0.992222</td>\n",
       "      <td>[1, 1, 0, 1, 1, 0, 0, 0, 0, 0, 0, 0, 0, 0, 0, ...</td>\n",
       "      <td>[0.9841819401364621, 0.9976002689966259, 0.008...</td>\n",
       "      <td>0.895417</td>\n",
       "      <td>[0, 0, 0, 0, 1, 1, 0, 1, 0, 0, 0, 0, 0, 0, 0, ...</td>\n",
       "      <td>[0.0, 0.00036231884057971004, 0.0, 0.0, 0.9855...</td>\n",
       "    </tr>\n",
       "    <tr>\n",
       "      <th>1</th>\n",
       "      <td>11</td>\n",
       "      <td>16</td>\n",
       "      <td>full</td>\n",
       "      <td>EndToEndConvNN_PL(\\n  (model): EndToEndConvNN2...</td>\n",
       "      <td>[[1.1993239, -1.8290832, 0.12889864, -1.274963...</td>\n",
       "      <td>[[1.3513329, -1.7249056, 0.108680084, -1.26751...</td>\n",
       "      <td>0.976944</td>\n",
       "      <td>[0, 1, 0, 0, 0, 0, 0, 0, 0, 0, 0, 1, 0, 0, 0, ...</td>\n",
       "      <td>[0.00029585798816568064, 0.7580826967674102, 0...</td>\n",
       "      <td>0.940000</td>\n",
       "      <td>[0, 0, 0, 0, 0, 1, 1, 1, 0, 1, 0, 0, 0, 0, 0, ...</td>\n",
       "      <td>[0.0, 0.0, 0.0, 0.0, 0.3321040577344329, 0.656...</td>\n",
       "    </tr>\n",
       "    <tr>\n",
       "      <th>2</th>\n",
       "      <td>11</td>\n",
       "      <td>2</td>\n",
       "      <td>full</td>\n",
       "      <td>EndToEndConvNN_PL(\\n  (model): EndToEndConvNN2...</td>\n",
       "      <td>[[1.064611, -1.8777552, -0.07610889, -1.396406...</td>\n",
       "      <td>[[1.0376232, -1.8515077, 0.07407012, -1.533450...</td>\n",
       "      <td>0.998889</td>\n",
       "      <td>[0, 1, 0, 0, 0, 0, 0, 0, 1, 0, 1, 0, 0, 0, 1, ...</td>\n",
       "      <td>[0.0, 0.9354360150672928, 0.022807121785472412...</td>\n",
       "      <td>0.935417</td>\n",
       "      <td>[0, 0, 0, 0, 1, 1, 0, 1, 0, 0, 0, 0, 0, 0, 0, ...</td>\n",
       "      <td>[0.0, 0.0, 0.0, 0.0, 0.8884488300621135, 0.881...</td>\n",
       "    </tr>\n",
       "    <tr>\n",
       "      <th>3</th>\n",
       "      <td>11</td>\n",
       "      <td>4</td>\n",
       "      <td>full</td>\n",
       "      <td>EndToEndConvNN_PL(\\n  (model): EndToEndConvNN2...</td>\n",
       "      <td>[[1.1209422, -1.8212104, 0.08506817, -1.241145...</td>\n",
       "      <td>[[1.1424949, -1.7916949, 0.06737087, -1.399338...</td>\n",
       "      <td>0.999167</td>\n",
       "      <td>[0, 0, 0, 0, 0, 0, 1, 0, 1, 0, 0, 0, 0, 0, 0, ...</td>\n",
       "      <td>[0.0, 0.0, 0.0, 0.0, 0.0, 0.0, 0.9972218930295...</td>\n",
       "      <td>0.947500</td>\n",
       "      <td>[0, 0, 0, 0, 1, 1, 0, 1, 0, 0, 0, 0, 0, 0, 0, ...</td>\n",
       "      <td>[0.0, 0.0, 0.0, 0.0, 0.9675658411956758, 0.888...</td>\n",
       "    </tr>\n",
       "    <tr>\n",
       "      <th>4</th>\n",
       "      <td>11</td>\n",
       "      <td>8</td>\n",
       "      <td>full</td>\n",
       "      <td>EndToEndConvNN_PL(\\n  (model): EndToEndConvNN2...</td>\n",
       "      <td>[[1.2241585, -1.8694367, 0.0013101362, -1.1985...</td>\n",
       "      <td>[[1.185772, -1.9096556, 0.01757155, -1.3472668...</td>\n",
       "      <td>0.995556</td>\n",
       "      <td>[0, 0, 0, 0, 0, 0, 0, 0, 0, 0, 0, 0, 0, 0, 0, ...</td>\n",
       "      <td>[0.0, 0.0, 0.0, 0.0, 0.05297717995594639, 0.0,...</td>\n",
       "      <td>0.876250</td>\n",
       "      <td>[0, 0, 0, 0, 0, 0, 0, 1, 0, 0, 0, 0, 0, 0, 0, ...</td>\n",
       "      <td>[0.0, 0.0, 0.0, 0.0, 0.13062386715914442, 0.42...</td>\n",
       "    </tr>\n",
       "  </tbody>\n",
       "</table>\n",
       "</div>"
      ],
      "text/plain": [
       "   rand_seed  lambda_RC model_type  \\\n",
       "0         11          1       full   \n",
       "1         11         16       full   \n",
       "2         11          2       full   \n",
       "3         11          4       full   \n",
       "4         11          8       full   \n",
       "\n",
       "                                               model  \\\n",
       "0  EndToEndConvNN_PL(\\n  (model): EndToEndConvNN2...   \n",
       "1  EndToEndConvNN_PL(\\n  (model): EndToEndConvNN2...   \n",
       "2  EndToEndConvNN_PL(\\n  (model): EndToEndConvNN2...   \n",
       "3  EndToEndConvNN_PL(\\n  (model): EndToEndConvNN2...   \n",
       "4  EndToEndConvNN_PL(\\n  (model): EndToEndConvNN2...   \n",
       "\n",
       "                                    prediction_train  \\\n",
       "0  [[1.1536106, -1.7688352, 0.033717923, -1.09075...   \n",
       "1  [[1.1993239, -1.8290832, 0.12889864, -1.274963...   \n",
       "2  [[1.064611, -1.8777552, -0.07610889, -1.396406...   \n",
       "3  [[1.1209422, -1.8212104, 0.08506817, -1.241145...   \n",
       "4  [[1.2241585, -1.8694367, 0.0013101362, -1.1985...   \n",
       "\n",
       "                                    prediction_valid  train_accuracy  \\\n",
       "0  [[1.0674406, -1.7260936, 0.17358112, -1.389114...        0.992222   \n",
       "1  [[1.3513329, -1.7249056, 0.108680084, -1.26751...        0.976944   \n",
       "2  [[1.0376232, -1.8515077, 0.07407012, -1.533450...        0.998889   \n",
       "3  [[1.1424949, -1.7916949, 0.06737087, -1.399338...        0.999167   \n",
       "4  [[1.185772, -1.9096556, 0.01757155, -1.3472668...        0.995556   \n",
       "\n",
       "                                         train_preds  \\\n",
       "0  [1, 1, 0, 1, 1, 0, 0, 0, 0, 0, 0, 0, 0, 0, 0, ...   \n",
       "1  [0, 1, 0, 0, 0, 0, 0, 0, 0, 0, 0, 1, 0, 0, 0, ...   \n",
       "2  [0, 1, 0, 0, 0, 0, 0, 0, 1, 0, 1, 0, 0, 0, 1, ...   \n",
       "3  [0, 0, 0, 0, 0, 0, 1, 0, 1, 0, 0, 0, 0, 0, 0, ...   \n",
       "4  [0, 0, 0, 0, 0, 0, 0, 0, 0, 0, 0, 0, 0, 0, 0, ...   \n",
       "\n",
       "                                         train_probs  valid_accuracy  \\\n",
       "0  [0.9841819401364621, 0.9976002689966259, 0.008...        0.895417   \n",
       "1  [0.00029585798816568064, 0.7580826967674102, 0...        0.940000   \n",
       "2  [0.0, 0.9354360150672928, 0.022807121785472412...        0.935417   \n",
       "3  [0.0, 0.0, 0.0, 0.0, 0.0, 0.0, 0.9972218930295...        0.947500   \n",
       "4  [0.0, 0.0, 0.0, 0.0, 0.05297717995594639, 0.0,...        0.876250   \n",
       "\n",
       "                                         valid_preds  \\\n",
       "0  [0, 0, 0, 0, 1, 1, 0, 1, 0, 0, 0, 0, 0, 0, 0, ...   \n",
       "1  [0, 0, 0, 0, 0, 1, 1, 1, 0, 1, 0, 0, 0, 0, 0, ...   \n",
       "2  [0, 0, 0, 0, 1, 1, 0, 1, 0, 0, 0, 0, 0, 0, 0, ...   \n",
       "3  [0, 0, 0, 0, 1, 1, 0, 1, 0, 0, 0, 0, 0, 0, 0, ...   \n",
       "4  [0, 0, 0, 0, 0, 0, 0, 1, 0, 0, 0, 0, 0, 0, 0, ...   \n",
       "\n",
       "                                         valid_probs  \n",
       "0  [0.0, 0.00036231884057971004, 0.0, 0.0, 0.9855...  \n",
       "1  [0.0, 0.0, 0.0, 0.0, 0.3321040577344329, 0.656...  \n",
       "2  [0.0, 0.0, 0.0, 0.0, 0.8884488300621135, 0.881...  \n",
       "3  [0.0, 0.0, 0.0, 0.0, 0.9675658411956758, 0.888...  \n",
       "4  [0.0, 0.0, 0.0, 0.0, 0.13062386715914442, 0.42...  "
      ]
     },
     "execution_count": 40,
     "metadata": {},
     "output_type": "execute_result"
    }
   ],
   "source": [
    "models.head()"
   ]
  },
  {
   "cell_type": "code",
   "execution_count": 41,
   "metadata": {},
   "outputs": [],
   "source": [
    "valid_stats = pd.DataFrame()\n",
    "for _, row in models.iterrows():\n",
    "    model_id = row.name\n",
    "    valid_props_df[\"predictions\"] = row[\"valid_preds\"]\n",
    "    temp_valid_stats = valid_props_df.groupby([\"resistances\", \"capacitances\", \"radii\", \"position_ys\"]).apply(\n",
    "        lambda x: (x[\"predictions\"] == 1).sum() / x.shape[0]\n",
    "    )\n",
    "    temp_valid_stats.name=\"percent_intakes\"\n",
    "    temp_valid_stats = temp_valid_stats.reset_index()\n",
    "    temp_valid_stats[\"model_id\"] = model_id\n",
    "    temp_valid_stats[\"model_type\"] = row[\"model_type\"]\n",
    "    valid_stats = pd.concat([valid_stats, temp_valid_stats], axis=0)\n",
    "valid_stats = valid_stats.reset_index(drop=True)\n",
    "valid_stats = valid_stats.groupby([\"model_type\", \"resistances\", \"capacitances\", \"radii\", \"position_ys\"]).apply(lambda x: pd.Series([x[\"percent_intakes\"].mean(), x[\"percent_intakes\"].std()]))\n",
    "valid_stats.columns = [\"mean\", \"std\"]\n",
    "valid_stats = valid_stats.reset_index()"
   ]
  },
  {
   "cell_type": "code",
   "execution_count": 42,
   "metadata": {},
   "outputs": [
    {
     "data": {
      "image/png": "[encoded data removed]",
      "text/plain": [
       "<Figure size 1500x600 with 1 Axes>"
      ]
     },
     "metadata": {},
     "output_type": "display_data"
    }
   ],
   "source": [
    "fig = plt.figure(figsize=(15, 6))\n",
    "offset = -0.3\n",
    "ticks = []\n",
    "for i, row in valid_stats.iterrows():\n",
    "    c = \"C1\" if row[\"resistances\"] == 0 and row[\"capacitances\"] == 1 else \"C0\"\n",
    "    plt.bar(\n",
    "        x=i,\n",
    "        height=row[\"mean\"] * 100 + offset,\n",
    "        yerr=row[\"std\"] * 100,\n",
    "        bottom=offset,\n",
    "        color=c,\n",
    "        width=0.9,\n",
    "    )\n",
    "    if i == 0:\n",
    "        ticks.append(\n",
    "            [\n",
    "                i,\n",
    "                f\"R- {row[\"resistances\"]+1:.0f}\\nC- {row[\"capacitances\"]+1:.0f}\\nr- {row[\"radii\"]+1:.0f}\\nd- {row[\"position_ys\"]+1:.0f}\",\n",
    "            ]\n",
    "        )\n",
    "    else:\n",
    "        ticks.append(\n",
    "            [\n",
    "                i,\n",
    "                f\"{row[\"resistances\"]+1:.0f}\\n{row[\"capacitances\"]+1:.0f}\\n{row[\"radii\"]+1:.0f}\\n{row[\"position_ys\"]+1:.0f}\",\n",
    "            ]\n",
    "        )\n",
    "plt.xticks(*zip(*ticks))\n",
    "plt.ylabel(\"Percent of intakes\", fontsize=20)\n",
    "plt.xlabel(\"Resistance, Capacitance, Radius, Distance\\nidentifiers\", fontsize=20)\n",
    "sns.despine(offset=5, trim=True)\n",
    "plt.savefig(\"discrimination-performance.svg\")\n",
    "plt.show()"
   ]
  },
  {
   "cell_type": "markdown",
   "metadata": {},
   "source": [
    "## Histograms of model predictions"
   ]
  },
  {
   "cell_type": "code",
   "execution_count": 43,
   "metadata": {},
   "outputs": [
    {
     "name": "stdout",
     "output_type": "stream",
     "text": [
      "model_type    full\n",
      "lambda_RC        1\n",
      "Name: 0, dtype: object\n"
     ]
    },
    {
     "data": {
      "image/png": "[encoded data removed]",
      "text/plain": [
       "<Figure size 2400x300 with 6 Axes>"
      ]
     },
     "metadata": {},
     "output_type": "display_data"
    }
   ],
   "source": [
    "model_id = 0\n",
    "print(models.iloc[model_id][[\"model_type\", \"lambda_RC\"]])\n",
    "fig, axes = plt.subplots(1,6, figsize=(24, 3))\n",
    "axes[0].hist(\n",
    "    models.iloc[model_id][\"prediction_train\"][:, 0] * dset.worms_properties_stats[\"position_xs\"][\"std\"]\n",
    "    + dset.worms_properties_stats[\"position_xs\"][\"mean\"]\n",
    ")\n",
    "axes[0].set_title(\"position_xs\")\n",
    "\n",
    "axes[1].hist(\n",
    "    models.iloc[model_id][\"prediction_train\"][:, 1] * dset.worms_properties_stats[\"position_ys\"][\"std\"]\n",
    "    + dset.worms_properties_stats[\"position_ys\"][\"mean\"]\n",
    ")\n",
    "axes[1].set_title(\"position_ys\")\n",
    "\n",
    "axes[2].hist(\n",
    "    models.iloc[model_id][\"prediction_train\"][:, 2] * dset.worms_properties_stats[\"position_zs\"][\"std\"]\n",
    "    + dset.worms_properties_stats[\"position_zs\"][\"mean\"]\n",
    ")\n",
    "axes[2].set_title(\"position_zs\")\n",
    "\n",
    "axes[3].hist(\n",
    "    models.iloc[model_id][\"prediction_train\"][:, 3] * dset.worms_properties_stats[\"radii\"][\"std\"]\n",
    "    + dset.worms_properties_stats[\"radii\"][\"mean\"]\n",
    ")\n",
    "axes[3].set_title(\"radii\")\n",
    "\n",
    "axes[4].hist(\n",
    "    np.power(\n",
    "        10,\n",
    "        models.iloc[model_id][\"prediction_train\"][:, 4] * dset.worms_properties_stats[\"resistances\"][\"std\"]\n",
    "        + dset.worms_properties_stats[\"resistances\"][\"mean\"],\n",
    "    )\n",
    ")\n",
    "axes[4].set_title(\"resistances\")\n",
    "\n",
    "axes[5].hist(\n",
    "    np.power(\n",
    "        10,\n",
    "        models.iloc[model_id][\"prediction_train\"][:, 5] * dset.worms_properties_stats[\"capacitances\"][\"std\"]\n",
    "        + dset.worms_properties_stats[\"capacitances\"][\"mean\"],\n",
    "    )\n",
    ")\n",
    "axes[5].set_title(\"capacitances\")\n",
    "plt.show()"
   ]
  },
  {
   "cell_type": "markdown",
   "metadata": {},
   "source": [
    "## Inspect errors made by the models in feature space"
   ]
  },
  {
   "cell_type": "markdown",
   "metadata": {},
   "source": [
    "### Collect properties based on models predictions"
   ]
  },
  {
   "cell_type": "code",
   "execution_count": null,
   "metadata": {},
   "outputs": [],
   "source": [
    "models[\"predicted_position_xs\"] = models.apply(\n",
    "    lambda x: np.hstack(\n",
    "        [\n",
    "            x[\"prediction_train\"][:, 0] * dset.worms_properties_stats[\"position_xs\"][\"std\"]\n",
    "            + dset.worms_properties_stats[\"position_xs\"][\"mean\"],\n",
    "            x[\"prediction_valid\"][:, 0] * dset.worms_properties_stats[\"position_xs\"][\"std\"]\n",
    "            + dset.worms_properties_stats[\"position_xs\"][\"mean\"],\n",
    "        ]\n",
    "    ),\n",
    "    axis=1,\n",
    ")\n",
    "models[\"predicted_position_ys\"] = models.apply(\n",
    "    lambda x: np.hstack(\n",
    "        [\n",
    "            x[\"prediction_train\"][:, 1] * dset.worms_properties_stats[\"position_ys\"][\"std\"]\n",
    "            + dset.worms_properties_stats[\"position_ys\"][\"mean\"],\n",
    "            x[\"prediction_valid\"][:, 1] * dset.worms_properties_stats[\"position_ys\"][\"std\"]\n",
    "            + dset.worms_properties_stats[\"position_ys\"][\"mean\"],\n",
    "        ]\n",
    "    ),\n",
    "    axis=1,\n",
    ")\n",
    "models[\"predicted_position_zs\"] = models.apply(\n",
    "    lambda x: np.hstack(\n",
    "        [\n",
    "            x[\"prediction_train\"][:, 2] * dset.worms_properties_stats[\"position_zs\"][\"std\"]\n",
    "            + dset.worms_properties_stats[\"position_zs\"][\"mean\"],\n",
    "            x[\"prediction_valid\"][:, 2] * dset.worms_properties_stats[\"position_zs\"][\"std\"]\n",
    "            + dset.worms_properties_stats[\"position_zs\"][\"mean\"],\n",
    "        ]\n",
    "    ),\n",
    "    axis=1,\n",
    ")\n",
    "models[\"predicted_radii\"] = models.apply(\n",
    "    lambda x: np.hstack(\n",
    "        [\n",
    "            x[\"prediction_train\"][:, 3] * dset.worms_properties_stats[\"radii\"][\"std\"]\n",
    "            + dset.worms_properties_stats[\"radii\"][\"mean\"],\n",
    "            x[\"prediction_valid\"][:, 3] * dset.worms_properties_stats[\"radii\"][\"std\"]\n",
    "            + dset.worms_properties_stats[\"radii\"][\"mean\"],\n",
    "        ]\n",
    "    ),\n",
    "    axis=1,\n",
    ")\n",
    "models[\"predicted_resistances\"] = models.apply(\n",
    "    lambda x: np.power(\n",
    "        10,\n",
    "        np.hstack(\n",
    "            [\n",
    "                x[\"prediction_train\"][:, -2] * dset.worms_properties_stats[\"resistances\"][\"std\"]\n",
    "                + dset.worms_properties_stats[\"resistances\"][\"mean\"],\n",
    "                x[\"prediction_valid\"][:, -2] * dset.worms_properties_stats[\"resistances\"][\"std\"]\n",
    "                + dset.worms_properties_stats[\"resistances\"][\"mean\"],\n",
    "            ]\n",
    "        ),\n",
    "    ),\n",
    "    axis=1,\n",
    ")\n",
    "models[\"predicted_capacitances\"] = models.apply(\n",
    "    lambda x: np.power(\n",
    "        10,\n",
    "        np.hstack(\n",
    "            [\n",
    "                x[\"prediction_train\"][:, -1] * dset.worms_properties_stats[\"capacitances\"][\"std\"]\n",
    "                + dset.worms_properties_stats[\"capacitances\"][\"mean\"],\n",
    "                x[\"prediction_valid\"][:, -1] * dset.worms_properties_stats[\"capacitances\"][\"std\"]\n",
    "                + dset.worms_properties_stats[\"capacitances\"][\"mean\"],\n",
    "            ]\n",
    "        ),\n",
    "    ),\n",
    "    axis=1,\n",
    ")\n",
    "predicted_resistances = np.hstack(models.iloc[1][\"predicted_resistances\"])\n",
    "predicted_capacitances = np.hstack(models.iloc[1][\"predicted_capacitances\"])\n",
    "all_properties = pd.concat(\n",
    "    [discrimination_data[[\"resistances\", \"capacitances\", \"radii\", \"position_ys\", \"preferred\"]]]\n",
    "    * (predicted_resistances.shape[0] // len(discrimination_data))\n",
    ")\n",
    "all_properties[\"predicted_position_xs\"] = predicted_resistances\n",
    "all_properties[\"predicted_position_ys\"] = predicted_resistances\n",
    "all_properties[\"predicted_position_zs\"] = predicted_resistances\n",
    "all_properties[\"predicted_radii\"] = predicted_resistances\n",
    "all_properties[\"predicted_resistances\"] = predicted_resistances\n",
    "all_properties[\"predicted_capacitances\"] = predicted_capacitances\n",
    "all_properties = all_properties[\n",
    "    (all_properties[\"resistances\"] == 0)\n",
    "    & (all_properties[\"capacitances\"] == 1)\n",
    "    & (all_properties[\"radii\"] == 1)\n",
    "    & (all_properties[\"position_ys\"] == 0)\n",
    "]\n",
    "all_properties[\"position_xs\"] = raw_dataset[\"worms\"][\"position_xs\"][0]\n",
    "# all_properties[\"position_xs\"] = all_properties[\"predicted_position_xs\"]\n",
    "all_properties[\"position_zs\"] = raw_dataset[\"worms\"][\"position_zs\"][0]\n",
    "# all_properties[\"position_zs\"] = all_properties[\"predicted_position_zs\"]\n",
    "all_properties[\"radii\"] = all_properties[\"radii\"].apply(lambda x: raw_dataset[\"worms\"][\"radii\"][x])\n",
    "# all_properties[\"radii\"] = all_properties[\"predicted_radii\"]\n",
    "all_properties[\"position_ys\"] = all_properties[\"position_ys\"].apply(lambda x: raw_dataset[\"worms\"][\"position_ys\"][x])\n",
    "# all_properties[\"position_ys\"] = all_properties[\"predicted_position_ys\"]\n",
    "all_properties[\"resistances\"] = all_properties[\"predicted_resistances\"]\n",
    "all_properties[\"capacitances\"] = all_properties[\"predicted_capacitances\"]\n",
    "all_properties = all_properties.drop(\n",
    "    columns=[\"predicted_resistances\", \"predicted_capacitances\", \"preferred\"]\n",
    ").reset_index(drop=True)\n",
    "all_properties.shape"
   ]
  },
  {
   "cell_type": "code",
   "execution_count": 71,
   "metadata": {},
   "outputs": [],
   "source": [
    "# all_properties = pd.concat(\n",
    "#     [\n",
    "#         pd.DataFrame(\n",
    "#             dict(\n",
    "#                 resistances=10000,\n",
    "#                 capacitances=1e-11,\n",
    "#                 radii=0.004,\n",
    "#                 position_xs=-0.02,\n",
    "#                 position_ys=0.019,\n",
    "#                 position_zs=0.0,\n",
    "#             ),\n",
    "#             index=[0],\n",
    "#         ),\n",
    "#         all_properties,\n",
    "#     ],\n",
    "#     axis=0,\n",
    "# ).reset_index(drop=True)\n",
    "# all_properties.head()"
   ]
  },
  {
   "cell_type": "markdown",
   "metadata": {},
   "source": [
    "### Run physics simulations to generate the EIs"
   ]
  },
  {
   "cell_type": "code",
   "execution_count": 72,
   "metadata": {},
   "outputs": [],
   "source": [
    "sys.path.append(\"../../efish-physics-model/objects\")\n",
    "from Worm_SmallSpherical import SmallSphericalWorm  # noqa E402"
   ]
  },
  {
   "cell_type": "code",
   "execution_count": 73,
   "metadata": {},
   "outputs": [],
   "source": [
    "fish_u = 30\n",
    "fish_t = 20\n",
    "aquarium = raw_dataset[\"aquarium\"][\"dataframe\"][\"objs\"].iloc[0]\n",
    "aquarium.empty_aquarium()\n",
    "efish = raw_dataset[\"fish\"][\"dataframe\"][\"objs\"].iloc[0]"
   ]
  },
  {
   "cell_type": "code",
   "execution_count": 74,
   "metadata": {},
   "outputs": [],
   "source": [
    "aquarium.insert_fish(efish)\n",
    "\n",
    "_, base_E_field_mag, wave_form = aquarium.electric_potential_and_field_single_fish(\n",
    "    points=efish.get_receptors_locations(), fish_id=0, return_potential=False, return_field=True\n",
    ")\n",
    "base_E_field_full = base_E_field_mag * wave_form\n",
    "base_transdermal_signal = efish.compute_transdermal_signal(\n",
    "    E_field=base_E_field_mag.squeeze().reshape(-1, 3),\n",
    "    water_conductivity=aquarium.get_conductivity(),\n",
    "    temporal_wave_form=wave_form,\n",
    ")\n",
    "base_receptors_responses = efish.compute_receptors_responses(base_transdermal_signal)\n",
    "base_receptors_responses = base_receptors_responses.reshape(fish_u, fish_t, 2).transpose(2, 1, 0)\n",
    "\n",
    "aquarium.empty_aquarium()"
   ]
  },
  {
   "cell_type": "code",
   "execution_count": 75,
   "metadata": {},
   "outputs": [],
   "source": [
    "estimated_eis = []\n",
    "for _, worm_property in all_properties.iterrows():\n",
    "    worm = SmallSphericalWorm(\n",
    "        radius=worm_property[\"radii\"],  # type: ignore\n",
    "        resistance=worm_property[\"resistances\"],  # type: ignore\n",
    "        capacitance=worm_property[\"capacitances\"],  # type: ignore\n",
    "        center_position=[\n",
    "            worm_property[\"position_xs\"],\n",
    "            worm_property[\"position_ys\"],\n",
    "            worm_property[\"position_zs\"],\n",
    "        ],\n",
    "        _init_tests=False,\n",
    "    )\n",
    "    aquarium.insert_fish(efish)\n",
    "    aquarium.insert_worm(worm)\n",
    "\n",
    "    dipole_wave_form = worm.dipole_waveform_single_fish(\n",
    "        wave_form=wave_form,\n",
    "        sig_water=aquarium.get_conductivity(),\n",
    "        eps_r_water=aquarium.get_relative_permittivity(),\n",
    "        sampling_frequency=efish.get_sampling_rate(),\n",
    "    )\n",
    "\n",
    "    _, E_field, _ = aquarium.electric_potential_and_field_single_fish(\n",
    "        points=worm.get_position()[np.newaxis],\n",
    "        fish_id=0,\n",
    "        return_potential=False,\n",
    "        return_field=True,\n",
    "    )\n",
    "    perturbation_magnitude = worm.perturbation_magnitude_single_fish(\n",
    "        receptor_locs=efish.get_receptors_locations(),\n",
    "        E_field=E_field,\n",
    "        return_potential=False,\n",
    "        return_field=True,\n",
    "        include_radius_factor=False,\n",
    "    )[1]\n",
    "    E_field_perturbation = np.power(worm.get_radius(), 3) * perturbation_magnitude[:, :, np.newaxis] * dipole_wave_form\n",
    "\n",
    "    total_E_field = base_E_field_full + E_field_perturbation\n",
    "    pert_transdermal_signal = efish.compute_transdermal_signal(\n",
    "        E_field=total_E_field, water_conductivity=aquarium.get_conductivity()\n",
    "    )\n",
    "\n",
    "    pert_receptors_responses = efish.compute_receptors_responses(pert_transdermal_signal)\n",
    "    pert_receptors_responses = pert_receptors_responses.reshape(fish_u, fish_t, 2).transpose(2, 1, 0)\n",
    "    \n",
    "    estimated_eis.append((pert_receptors_responses / base_receptors_responses - 1) *100)\n",
    "    \n",
    "    aquarium.empty_aquarium()\n",
    "estimated_eis = np.array(estimated_eis)"
   ]
  },
  {
   "cell_type": "code",
   "execution_count": null,
   "metadata": {},
   "outputs": [],
   "source": [
    "mask = raw_dataset[\"worms\"][\"dataframe\"][\"position_ys\"] == 0\n",
    "mask &= raw_dataset[\"worms\"][\"dataframe\"][\"radii\"] == 1\n",
    "plt.scatter(*eis[mask, :, 5, 6].T, c=[f\"C{int(x)}\" for x in discrimination_data[mask][\"preferred\"]])\n",
    "plt.scatter([0], [0], c=\"b\", marker=\"x\", s=200)\n",
    "plt.scatter(*estimated_eis[:, :, 5, 6].T, c=\"k\", s=1)\n",
    "plt.xlabel(\"MZ Filter modulation (%)\")\n",
    "plt.ylabel(\"DLZ Filter modulation (%)\")\n",
    "sns.despine(offset=5, trim=True)\n",
    "plt.show()"
   ]
  },
  {
   "cell_type": "markdown",
   "metadata": {},
   "source": [
    "## Inspect models predictions"
   ]
  },
  {
   "cell_type": "code",
   "execution_count": 77,
   "metadata": {},
   "outputs": [],
   "source": [
    "from sklearn.decomposition import PCA"
   ]
  },
  {
   "cell_type": "code",
   "execution_count": null,
   "metadata": {},
   "outputs": [],
   "source": [
    "xx = models.iloc[0][\"prediction_valid\"]\n",
    "distance_id = 1\n",
    "radius_id = 0\n",
    "mask = valid_props[\"position_ys\"] == distance_id\n",
    "mask &= valid_props[\"radii\"] == radius_id\n",
    "plt.scatter(xx[mask, -2], xx[mask, -1], c=valid_props[mask][\"preferred\"], s=1)\n",
    "plt.xlabel(\"log10(predicted_resistance)\")\n",
    "plt.ylabel(\"log10(predicted_capacitance)\")\n",
    "plt.title(\n",
    "    f\"Radius: {raw_dataset['worms']['radii'][radius_id]*1e3:.1f}mm | Distance: {raw_dataset['worms']['position_ys'][distance_id]*1e3 -9 - 1.5:.1f}mm\"\n",
    ")\n",
    "sns.despine(offset=5, trim=True)\n",
    "plt.show()"
   ]
  },
  {
   "cell_type": "code",
   "execution_count": null,
   "metadata": {},
   "outputs": [],
   "source": [
    "yy = PCA().fit_transform(xx)\n",
    "plt.scatter(yy[:, 0], yy[:, 1], c=valid_props[\"preferred\"], s=1)\n",
    "plt.show()"
   ]
  },
  {
   "cell_type": "code",
   "execution_count": null,
   "metadata": {},
   "outputs": [],
   "source": []
  },
  {
   "cell_type": "code",
   "execution_count": null,
   "metadata": {},
   "outputs": [],
   "source": []
  },
  {
   "cell_type": "code",
   "execution_count": null,
   "metadata": {},
   "outputs": [],
   "source": []
  },
  {
   "cell_type": "code",
   "execution_count": null,
   "metadata": {},
   "outputs": [],
   "source": []
  }
 ],
 "metadata": {
  "kernelspec": {
   "display_name": "efish",
   "language": "python",
   "name": "python3"
  },
  "language_info": {
   "codemirror_mode": {
    "name": "ipython",
    "version": 3
   },
   "file_extension": ".py",
   "mimetype": "text/x-python",
   "name": "python",
   "nbconvert_exporter": "python",
   "pygments_lexer": "ipython3",
   "version": "3.12.2"
  }
 },
 "nbformat": 4,
 "nbformat_minor": 2
}
