{
 "cells": [
  {
   "cell_type": "code",
   "execution_count": 1,
   "metadata": {},
   "outputs": [],
   "source": [
    "%load_ext autoreload\n",
    "%autoreload 2"
   ]
  },
  {
   "cell_type": "code",
   "execution_count": 2,
   "metadata": {},
   "outputs": [],
   "source": [
    "import glob\n",
    "import dill\n",
    "import numpy as np\n",
    "import pandas as pd\n",
    "import h5py\n",
    "import matplotlib.pyplot as plt\n",
    "import seaborn as sns\n",
    "import torch\n",
    "import torch.nn as nn\n",
    "from torch.utils.data import DataLoader\n",
    "import lightning as L\n",
    "from collections import OrderedDict\n",
    "\n",
    "import sys\n",
    "sys.path.append(\"../end-to-end\")\n",
    "# sys.path.append(\"../../../electric_fish/ActiveZone/electrodynamic/objects\")\n",
    "# sys.path.append(\"../../../electric_fish/ActiveZone/electrodynamic/helper_functions\")\n",
    "# sys.path.append(\"../../../electric_fish/ActiveZone/electrodynamic/uniform_points_generation\")\n",
    "sys.path.append(\"../../efish-physics-model/objects\")\n",
    "sys.path.append(\"../../efish-physics-model/helper_functions\")\n",
    "sys.path.append(\"../../efish-physics-model/uniform_points_generation\")\n",
    "\n",
    "from electric_images_dataset import ElectricImagesDataset\n",
    "from EndToEndConvNN import EndToEndConvNN\n",
    "from EndToEndConvNN_PL import EndToEndConvNN_PL\n",
    "from EndToEndConvNNWithFeedback import EndToEndConvNNWithFeedback\n",
    "from EndToEndConvNNWithFeedback_PL import EndToEndConvNNWithFeedback_PL"
   ]
  },
  {
   "cell_type": "code",
   "execution_count": null,
   "metadata": {},
   "outputs": [],
   "source": [
    "# python train_end_to_end_models_with_feedback.py --input_noise_std 0.01 --save_dir small-with-values --use_estimates_as_feedback false --gpu 1\n",
    "# python train_end_to_end_models_with_feedback.py --input_noise_std 0.01 --save_dir small-with-estimates --use_estimates_as_feedback true --gpu 3"
   ]
  },
  {
   "cell_type": "code",
   "execution_count": 11,
   "metadata": {},
   "outputs": [],
   "source": [
    "state_dict = torch.load(\"./with-values/lightning_logs/version_2/checkpoints/epoch=84-step=481950.ckpt\")\n",
    "# state_dict = torch.load(\"./with-estimates/lightning_logs/version_2/checkpoints/epoch=85-step=487620.ckpt\")"
   ]
  },
  {
   "cell_type": "code",
   "execution_count": 12,
   "metadata": {},
   "outputs": [
    {
     "data": {
      "text/plain": [
       "tensor([ 1.,  1.,  1., 10., 20., 20.])"
      ]
     },
     "execution_count": 12,
     "metadata": {},
     "output_type": "execute_result"
    }
   ],
   "source": [
    "state_dict[\"hyper_parameters\"][\"loss_lambda\"]"
   ]
  },
  {
   "cell_type": "code",
   "execution_count": 8,
   "metadata": {},
   "outputs": [
    {
     "data": {
      "text/plain": [
       "{'layers_properties': OrderedDict([('conv1',\n",
       "               {'in_channels': 1,\n",
       "                'out_channels': 8,\n",
       "                'kernel_size': 7,\n",
       "                'stride': 1,\n",
       "                'max_pool': {'kernel_size': 3, 'stride': 1}}),\n",
       "              ('conv2',\n",
       "               {'in_channels': 8,\n",
       "                'out_channels': 16,\n",
       "                'kernel_size': 5,\n",
       "                'stride': 1}),\n",
       "              ('conv3',\n",
       "               {'in_channels': 16,\n",
       "                'out_channels': 32,\n",
       "                'kernel_size': 5,\n",
       "                'stride': 1}),\n",
       "              ('conv4',\n",
       "               {'in_channels': 32,\n",
       "                'out_channels': 16,\n",
       "                'kernel_size': 5,\n",
       "                'stride': 1,\n",
       "                'max_pool': {'kernel_size': 3, 'stride': 1}}),\n",
       "              ('fc1', {'out_features': 5120}),\n",
       "              ('fc2', {'in_features': 5120, 'out_features': 2560}),\n",
       "              ('fc3', {'in_features': 2560, 'out_features': 1280}),\n",
       "              ('fc4', {'in_features': 1280, 'out_features': 4})]),\n",
       " 'activation_spatial': 'relu',\n",
       " 'model_type': 'two_paths',\n",
       " 'kernel_size': 7,\n",
       " 'in_channels': 2,\n",
       " 'poly_degree_distance': 4,\n",
       " 'poly_degree_radius': 3,\n",
       " 'activation_feedback': 'relu',\n",
       " 'use_estimates_as_feedback': True,\n",
       " 'input_noise_std': 0.01,\n",
       " 'input_noise_type': 'additive',\n",
       " 'loss_lambda': tensor([1., 1., 1., 1., 2., 2.])}"
      ]
     },
     "execution_count": 8,
     "metadata": {},
     "output_type": "execute_result"
    }
   ],
   "source": [
    "state_dict[\"hyper_parameters\"]"
   ]
  },
  {
   "cell_type": "markdown",
   "metadata": {},
   "source": [
    "# Check model size"
   ]
  },
  {
   "cell_type": "code",
   "execution_count": 9,
   "metadata": {},
   "outputs": [],
   "source": [
    "data_dir_name = \"../../efish-physics-model/data/processed/data-2024_06_18-characterization_dataset\"\n",
    "\n",
    "dset = ElectricImagesDataset(data_dir_name=data_dir_name, fish_t=20, fish_u=30)"
   ]
  },
  {
   "cell_type": "code",
   "execution_count": 12,
   "metadata": {},
   "outputs": [
    {
     "name": "stderr",
     "output_type": "stream",
     "text": [
      "/home/dturcu/.conda/envs/efish/lib/python3.12/site-packages/torch/nn/modules/lazy.py:181: UserWarning: Lazy modules are a new feature under heavy development so changes to the API or functionality can happen at any moment.\n",
      "  warnings.warn('Lazy modules are a new feature under heavy development '\n"
     ]
    }
   ],
   "source": [
    "layers_properties = OrderedDict(\n",
    "    [\n",
    "        (\n",
    "            \"conv1\",\n",
    "            dict(\n",
    "                in_channels=1, out_channels=8, kernel_size=7, stride=1, max_pool=dict(kernel_size=3, stride=1)\n",
    "            ),\n",
    "        ),\n",
    "        (\n",
    "            \"conv2\",\n",
    "            dict(in_channels=8, out_channels=8, kernel_size=5, stride=1),\n",
    "        ),\n",
    "        # # (\n",
    "        # #     \"conv2-2\",\n",
    "        #     dict(in_channels=16, out_channels=32, kernel_size=5, stride=1),\n",
    "        # ),\n",
    "        (\n",
    "            \"conv3\",\n",
    "            dict(in_channels=8, out_channels=8, kernel_size=5, stride=1, max_pool=dict(kernel_size=3, stride=2)),\n",
    "        ),\n",
    "        # the fully connected layers can have dropout or flatten layers - some can miss the activation\n",
    "        (\"fc1\", dict(dropout=0.5, flatten=True, in_features=None, out_features=960)),\n",
    "        (\"fc2\", dict(dropout=0.5, in_features=960, out_features=240)),\n",
    "        # (\"fc2-2\", dict(dropout=0.5, in_features=2560, out_features=1280)),\n",
    "        (\"fc3\", dict(in_features=240, out_features=4, activation=False)),\n",
    "    ]\n",
    ")\n",
    "\n",
    "model_PL = EndToEndConvNNWithFeedback_PL(\n",
    "    # spatial model properties\n",
    "    layers_properties=layers_properties,\n",
    "    activation_spatial=\"relu\",\n",
    "    model_type=\"two_paths\",\n",
    "    # feedback model properties (for extracting electric properties)\n",
    "    kernel_size=7,\n",
    "    in_channels=2,\n",
    "    poly_degree_distance=4,\n",
    "    poly_degree_radius=3,\n",
    "    activation_feedback=\"relu\",\n",
    "    # miscellaneous properties\n",
    "    use_estimates_as_feedback=True,\n",
    "    input_noise_std=0.01,\n",
    "    input_noise_type=\"additive\",\n",
    ")\n",
    "\n",
    "# dummy forward pass to initialize the model\n",
    "dloader = DataLoader(dset, batch_size=4, shuffle=True)\n",
    "batch = next(iter(dloader))\n",
    "_ = model_PL.model(\n",
    "    batch[0],\n",
    "    distances=torch.zeros(batch[0].shape[0]).to(batch[0].device),\n",
    "    radii=torch.zeros(batch[0].shape[0]).to(batch[0].device),\n",
    ")"
   ]
  },
  {
   "cell_type": "code",
   "execution_count": 13,
   "metadata": {},
   "outputs": [
    {
     "name": "stdout",
     "output_type": "stream",
     "text": [
      "torch.Size([4, 1, 20, 30])\n",
      "==================================================================================================\n",
      "Conv2d(1, 8, kernel_size=(7, 7), stride=(1, 1), padding=(3, 0), padding_mode=circular)\n",
      "torch.Size([4, 8, 20, 24])\n",
      "--------------------------------------------------------------------------------------------------\n",
      "BatchNorm2d(8, eps=1e-05, momentum=0.1, affine=True, track_running_stats=True)\n",
      "torch.Size([4, 8, 20, 24])\n",
      "--------------------------------------------------------------------------------------------------\n",
      "ReLU()\n",
      "torch.Size([4, 8, 20, 24])\n",
      "--------------------------------------------------------------------------------------------------\n",
      "CircularPad2d((0, 0, 1, 1))\n",
      "torch.Size([4, 8, 22, 24])\n",
      "--------------------------------------------------------------------------------------------------\n",
      "MaxPool2d(kernel_size=3, stride=1, padding=0, dilation=1, ceil_mode=False)\n",
      "torch.Size([4, 8, 20, 22])\n",
      "--------------------------------------------------------------------------------------------------\n",
      "==================================================================================================\n",
      "Conv2d(8, 8, kernel_size=(5, 5), stride=(1, 1), padding=(2, 0), padding_mode=circular)\n",
      "torch.Size([4, 8, 20, 18])\n",
      "--------------------------------------------------------------------------------------------------\n",
      "BatchNorm2d(8, eps=1e-05, momentum=0.1, affine=True, track_running_stats=True)\n",
      "torch.Size([4, 8, 20, 18])\n",
      "--------------------------------------------------------------------------------------------------\n",
      "ReLU()\n",
      "torch.Size([4, 8, 20, 18])\n",
      "--------------------------------------------------------------------------------------------------\n",
      "==================================================================================================\n",
      "Conv2d(8, 8, kernel_size=(5, 5), stride=(1, 1), padding=(2, 0), padding_mode=circular)\n",
      "torch.Size([4, 8, 20, 14])\n",
      "--------------------------------------------------------------------------------------------------\n",
      "BatchNorm2d(8, eps=1e-05, momentum=0.1, affine=True, track_running_stats=True)\n",
      "torch.Size([4, 8, 20, 14])\n",
      "--------------------------------------------------------------------------------------------------\n",
      "ReLU()\n",
      "torch.Size([4, 8, 20, 14])\n",
      "--------------------------------------------------------------------------------------------------\n",
      "CircularPad2d((0, 0, 1, 1))\n",
      "torch.Size([4, 8, 22, 14])\n",
      "--------------------------------------------------------------------------------------------------\n",
      "MaxPool2d(kernel_size=3, stride=2, padding=0, dilation=1, ceil_mode=False)\n",
      "torch.Size([4, 8, 10, 6])\n",
      "--------------------------------------------------------------------------------------------------\n",
      "==================================================================================================\n",
      "torch.Size([4, 16, 10, 6])\n",
      "==================================================================================================\n",
      "Flatten(start_dim=1, end_dim=-1)\n",
      "torch.Size([4, 960])\n",
      "-------------------------------------------------------------------------------------------------------\n",
      "Dropout(p=0.5, inplace=False)\n",
      "torch.Size([4, 960])\n",
      "-------------------------------------------------------------------------------------------------------\n",
      "Linear(in_features=960, out_features=960, bias=True)\n",
      "torch.Size([4, 960])\n",
      "-------------------------------------------------------------------------------------------------------\n",
      "ReLU()\n",
      "torch.Size([4, 960])\n",
      "-------------------------------------------------------------------------------------------------------\n",
      "==================================================================================================\n",
      "Dropout(p=0.5, inplace=False)\n",
      "torch.Size([4, 960])\n",
      "-------------------------------------------------------------------------------------------------------\n",
      "Linear(in_features=960, out_features=240, bias=True)\n",
      "torch.Size([4, 240])\n",
      "-------------------------------------------------------------------------------------------------------\n",
      "ReLU()\n",
      "torch.Size([4, 240])\n",
      "-------------------------------------------------------------------------------------------------------\n",
      "==================================================================================================\n",
      "Linear(in_features=240, out_features=4, bias=True)\n",
      "torch.Size([4, 4])\n",
      "-------------------------------------------------------------------------------------------------------\n"
     ]
    }
   ],
   "source": [
    "out_model = model_PL.model.spatial_model.forward_print_dims(batch[0])"
   ]
  },
  {
   "cell_type": "code",
   "execution_count": null,
   "metadata": {},
   "outputs": [],
   "source": []
  }
 ],
 "metadata": {
  "kernelspec": {
   "display_name": "efish",
   "language": "python",
   "name": "python3"
  },
  "language_info": {
   "codemirror_mode": {
    "name": "ipython",
    "version": 3
   },
   "file_extension": ".py",
   "mimetype": "text/x-python",
   "name": "python",
   "nbconvert_exporter": "python",
   "pygments_lexer": "ipython3",
   "version": "3.12.2"
  }
 },
 "nbformat": 4,
 "nbformat_minor": 2
}
