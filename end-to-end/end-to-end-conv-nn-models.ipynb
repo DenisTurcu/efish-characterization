{
 "cells": [
  {
   "cell_type": "code",
   "execution_count": 1,
   "metadata": {},
   "outputs": [],
   "source": [
    "%load_ext autoreload\n",
    "%autoreload 2"
   ]
  },
  {
   "cell_type": "code",
   "execution_count": 2,
   "metadata": {},
   "outputs": [],
   "source": [
    "import glob\n",
    "import dill\n",
    "import numpy as np\n",
    "import pandas as pd\n",
    "import h5py\n",
    "import matplotlib.pyplot as plt\n",
    "import seaborn as sns\n",
    "import torch\n",
    "import torch.nn as nn\n",
    "from torch.utils.data import DataLoader\n",
    "# import lightning as L\n",
    "from collections import OrderedDict\n",
    "# from electric_images_dataset import ElectricImagesDataset\n",
    "# from EndToEndConvNN import EndToEndConvNN\n",
    "# from EndToEndConvNN_PL import EndToEndConvNN_PL\n",
    "\n",
    "import sys\n",
    "sys.path.append(\"../../../electric_fish/ActiveZone/electrodynamic/objects\")\n",
    "sys.path.append(\"../../../electric_fish/ActiveZone/electrodynamic/helper_functions\")\n",
    "sys.path.append(\"../../../electric_fish/ActiveZone/electrodynamic/uniform_points_generation\")\n",
    "# sys.path.append(\"../../efish-physics-model/objects\")\n",
    "# sys.path.append(\"../../efish-physics-model/helper_functions\")\n",
    "# sys.path.append(\"../../efish-physics-model/uniform_points_generation\")"
   ]
  },
  {
   "cell_type": "code",
   "execution_count": 3,
   "metadata": {},
   "outputs": [],
   "source": [
    "data_dir_name = \"../../efish-physics-model/data/processed/data-2024_06_13-characterization_dataset\"\n",
    "# data_dir_name = \"../../efish-physics-model/data/processed/data-2024_06_13-characterization_dataset_mockup\"\n",
    "dataset = pd.read_pickle(f\"{data_dir_name}/dataset.pkl\")\n",
    "h5py_file = h5py.File(f\"{data_dir_name}/responses.hdf5\",'r')[\"responses\"]"
   ]
  },
  {
   "cell_type": "code",
   "execution_count": null,
   "metadata": {},
   "outputs": [],
   "source": [
    "worm_id = 297135\n",
    "fish = dataset[\"fish\"][\"dataframe\"][\"objs\"][0]\n",
    "base_stim = dataset[\"electric_images\"][\"base\"][\"responses\"][0]\n",
    "modulation = (h5py_file[worm_id] / base_stim - 1) * 100\n",
    "modulation[fish.get_receptors_locations()[:,0]< -0.11] = 0"
   ]
  },
  {
   "cell_type": "code",
   "execution_count": null,
   "metadata": {},
   "outputs": [],
   "source": [
    "fish.visualize_scatter(intensity=modulation[:,0], show_normals=1, show_point_currents=5, marker_alpha=1)\n",
    "print()"
   ]
  },
  {
   "cell_type": "code",
   "execution_count": null,
   "metadata": {},
   "outputs": [],
   "source": [
    "img_data = modulation.reshape(30,20,2).transpose(1,0,2)[:,:,1]\n",
    "vval = np.max(np.abs(img_data))\n",
    "plt.imshow(img_data, cmap=\"viridis\", vmin=-vval, vmax=vval)\n",
    "plt.colorbar()\n",
    "plt.show()"
   ]
  },
  {
   "cell_type": "code",
   "execution_count": null,
   "metadata": {},
   "outputs": [],
   "source": [
    "dset = ElectricImagesDataset(data_dir_name=data_dir_name, fish_t=20, fish_u=30)"
   ]
  },
  {
   "cell_type": "code",
   "execution_count": null,
   "metadata": {},
   "outputs": [],
   "source": [
    "img_data = dset[worm_id][0][1]\n",
    "vval = np.max(np.abs(img_data))\n",
    "plt.imshow(img_data, cmap=\"viridis\", vmin=-vval, vmax=vval)\n",
    "plt.colorbar()\n",
    "plt.show()"
   ]
  },
  {
   "cell_type": "code",
   "execution_count": null,
   "metadata": {},
   "outputs": [],
   "source": [
    "dloader = DataLoader(dset, batch_size=32, shuffle=True)\n",
    "batch = next(iter(dloader))\n",
    "batch[0].shape, batch[1].shape"
   ]
  },
  {
   "cell_type": "code",
   "execution_count": null,
   "metadata": {},
   "outputs": [],
   "source": [
    "input_noise_std = 0.25\n",
    "activation = \"relu\"\n",
    "layers_properties = OrderedDict(\n",
    "    [\n",
    "        (\n",
    "            \"conv1\",\n",
    "            dict(in_channels=1, out_channels=4, kernel_size=7, stride=1, max_pool=dict(kernel_size=3, stride=2)),\n",
    "        ),\n",
    "        (\n",
    "            \"conv2\",\n",
    "            dict(in_channels=4, out_channels=16, kernel_size=5, stride=1),\n",
    "        ),\n",
    "        (\n",
    "            \"conv3\",\n",
    "            dict(in_channels=16, out_channels=8, kernel_size=5, stride=1, max_pool=dict(kernel_size=3, stride=1)),\n",
    "        ),\n",
    "        # the fully connected layers can have dropout or flatten layers - some can miss the activation\n",
    "        (\"fc1\", dict(dropout=0.5, flatten=True, in_features=160, out_features=80)),\n",
    "        (\"fc2\", dict(dropout=0.5, in_features=80, out_features=40)),\n",
    "        (\"fc3\", dict(in_features=40, out_features=6, activation=False)),\n",
    "    ]\n",
    ")\n",
    "\n",
    "model_PL = EndToEndConvNN_PL(\n",
    "    layers_properties=layers_properties, activation=activation, input_noise_std=input_noise_std, model_type=\"two_paths\"\n",
    ")"
   ]
  },
  {
   "cell_type": "code",
   "execution_count": null,
   "metadata": {},
   "outputs": [],
   "source": [
    "out_model = model_PL.model.forward_print_dims(batch[0])"
   ]
  },
  {
   "cell_type": "code",
   "execution_count": null,
   "metadata": {},
   "outputs": [],
   "source": [
    "filters = model_PL.model.sequence.conv1.conv.weight.detach().cpu().numpy()\n",
    "vval = np.max(np.abs(filters))\n",
    "f, ax = plt.subplots(filters.shape[1], filters.shape[0], figsize=(2*filters.shape[0], 2*filters.shape[1]))\n",
    "for i in range(filters.shape[1]):\n",
    "    for j in range(filters.shape[0]):\n",
    "        cbar_ax = ax[i, j].imshow(filters[j, i], cmap=\"seismic\", vmin=-vval, vmax=vval)\n",
    "        ax[i, j].set_xticks([])\n",
    "        ax[i, j].set_yticks([])\n",
    "        sns.despine(ax=ax[i, j], left=True, bottom=True)\n",
    "plt.show()"
   ]
  },
  {
   "cell_type": "code",
   "execution_count": null,
   "metadata": {},
   "outputs": [],
   "source": [
    "train_dset, valid_dset, _ = torch.utils.data.random_split(dset, [0.05, 0.01, 0.94])\n",
    "train_loader = DataLoader(train_dset, batch_size=27000, shuffle=True, drop_last=True, num_workers=12)\n",
    "valid_loader = DataLoader(valid_dset, batch_size=27000, shuffle=False, drop_last=True, num_workers=12)"
   ]
  },
  {
   "cell_type": "code",
   "execution_count": null,
   "metadata": {},
   "outputs": [],
   "source": [
    "trainer = L.Trainer(max_steps=1000)\n",
    "trainer.fit(model=model, train_dataloaders=train_loader, val_dataloaders=valid_loader)"
   ]
  },
  {
   "cell_type": "code",
   "execution_count": null,
   "metadata": {},
   "outputs": [],
   "source": [
    "# for batch_idx, batch in enumerate(train_loader):\n",
    "#     print(batch[0].shape, end=\" \")\n",
    "#     if (batch_idx + 1) % 50 == 0:\n",
    "#         print()"
   ]
  },
  {
   "cell_type": "code",
   "execution_count": null,
   "metadata": {},
   "outputs": [],
   "source": [
    "# next(iter(train_loader))[0].shape"
   ]
  },
  {
   "cell_type": "markdown",
   "metadata": {},
   "source": [
    "# Miscellaneous code"
   ]
  },
  {
   "cell_type": "markdown",
   "metadata": {},
   "source": [
    "### Inspect R&C signal with filters and maxpooling"
   ]
  },
  {
   "cell_type": "code",
   "execution_count": 17,
   "metadata": {},
   "outputs": [],
   "source": [
    "data_dir_name = \"../../efish-physics-model/data/processed/data-2024_06_13-characterization_dataset\"\n",
    "dataset = pd.read_pickle(f\"{data_dir_name}/dataset.pkl\")\n",
    "h5py_file = h5py.File(f\"{data_dir_name}/responses.hdf5\",'r')[\"responses\"]\n",
    "worm_properties = h5py.File(\n",
    "    f\"{data_dir_name}/torch_dataset_preprocess-worms_properties.hdf5\", \"r\"\n",
    ")[\"worms_properties\"][:]"
   ]
  },
  {
   "cell_type": "code",
   "execution_count": 62,
   "metadata": {},
   "outputs": [],
   "source": [
    "ids = np.where(\n",
    "    (worm_properties[:, 0] == worm_properties[50000, 0])\n",
    "    & (worm_properties[:, 1] == worm_properties[50, 1])\n",
    "    & (worm_properties[:, 2] == worm_properties[50000, 2])\n",
    "    & (worm_properties[:, 3] == worm_properties[500000, 3])\n",
    ")[0]"
   ]
  },
  {
   "cell_type": "code",
   "execution_count": 69,
   "metadata": {},
   "outputs": [],
   "source": [
    "worm_id = ids[11]\n",
    "fish = dataset[\"fish\"][\"dataframe\"][\"objs\"][0]\n",
    "base_stim = dataset[\"electric_images\"][\"base\"][\"responses\"][0]\n",
    "modulation = (h5py_file[worm_id] / base_stim - 1) * 100\n",
    "modulation = modulation.reshape(30, 20, 2).transpose(2, 1, 0)"
   ]
  },
  {
   "cell_type": "code",
   "execution_count": 70,
   "metadata": {},
   "outputs": [
    {
     "data": {
      "image/png": "[encoded data removed]",
      "text/plain": [
       "<Figure size 640x480 with 2 Axes>"
      ]
     },
     "metadata": {},
     "output_type": "display_data"
    }
   ],
   "source": [
    "img_data = modulation[1]\n",
    "vval = np.max(np.abs(img_data))\n",
    "plt.imshow(img_data, cmap=\"viridis\", vmin=-vval, vmax=vval)\n",
    "plt.colorbar()\n",
    "plt.show()"
   ]
  },
  {
   "cell_type": "code",
   "execution_count": 172,
   "metadata": {},
   "outputs": [],
   "source": [
    "modulations = (h5py_file[ids] / base_stim - 1) * 100\n",
    "modulations = torch.Tensor(modulations.reshape(-1, 30, 20, 2).transpose(0, 3, 2, 1))\n",
    "processed = nn.functional.conv2d(modulations, torch.Tensor(np.ones([2,1,7,7]) / np.ones([2,1,7,7]).sum()), groups=2)\n",
    "processed_m = torch.amax(-processed, (2,3))\n",
    "processed_p = torch.amax(processed, (2,3))\n",
    "\n",
    "processed_1 = processed[:,0].reshape(processed.shape[0], -1)\n",
    "processed_1 = processed_1.abs().max(1).values * processed_1[torch.arange(processed.shape[0]), processed_1.abs().argmax(1)].sign()\n",
    "processed_2 = processed[:,1].reshape(processed.shape[0], -1)\n",
    "processed_2 = processed_2.abs().max(1).values * processed_2[torch.arange(processed.shape[0]), processed_2.abs().argmax(1)].sign()\n",
    "\n",
    "# processed = processed.reshape(processed.shape[0], 2, -1)\n",
    "# processed_signs = processed[torch.arange(processed.shape[0]), processed.abs().argmax(1)].sign()"
   ]
  },
  {
   "cell_type": "code",
   "execution_count": 176,
   "metadata": {},
   "outputs": [
    {
     "data": {
      "text/plain": [
       "torch.Size([2, 14, 24])"
      ]
     },
     "execution_count": 176,
     "metadata": {},
     "output_type": "execute_result"
    }
   ],
   "source": [
    "processed.abs().argmax(0).shape"
   ]
  },
  {
   "cell_type": "code",
   "execution_count": 183,
   "metadata": {},
   "outputs": [
    {
     "data": {
      "text/plain": [
       "tensor([[[2, 7],\n",
       "         [4, 5],\n",
       "         [5, 7],\n",
       "         [7, 4],\n",
       "         [6, 9]],\n",
       "\n",
       "        [[1, 3],\n",
       "         [7, 2],\n",
       "         [6, 0],\n",
       "         [7, 2],\n",
       "         [3, 7]],\n",
       "\n",
       "        [[8, 8],\n",
       "         [5, 1],\n",
       "         [2, 7],\n",
       "         [2, 4],\n",
       "         [4, 4]]])"
      ]
     },
     "execution_count": 183,
     "metadata": {},
     "output_type": "execute_result"
    }
   ],
   "source": [
    "temp = torch.randint(10,(3,5,2))\n",
    "temp"
   ]
  },
  {
   "cell_type": "code",
   "execution_count": 192,
   "metadata": {},
   "outputs": [
    {
     "data": {
      "text/plain": [
       "tensor([[[3, 4]],\n",
       "\n",
       "        [[1, 4]],\n",
       "\n",
       "        [[0, 0]]])"
      ]
     },
     "execution_count": 192,
     "metadata": {},
     "output_type": "execute_result"
    }
   ],
   "source": [
    "temp.argmax(1, keepdim=True)"
   ]
  },
  {
   "cell_type": "code",
   "execution_count": 191,
   "metadata": {},
   "outputs": [
    {
     "ename": "IndexError",
     "evalue": "index 3 is out of bounds for dimension 0 with size 3",
     "output_type": "error",
     "traceback": [
      "\u001b[0;31m---------------------------------------------------------------------------\u001b[0m",
      "\u001b[0;31mIndexError\u001b[0m                                Traceback (most recent call last)",
      "Cell \u001b[0;32mIn[191], line 1\u001b[0m\n\u001b[0;32m----> 1\u001b[0m temp[temp\u001b[38;5;241m.\u001b[39margmax(\u001b[38;5;241m1\u001b[39m, keepdim\u001b[38;5;241m=\u001b[39m\u001b[38;5;28;01mTrue\u001b[39;00m)]\n",
      "\u001b[0;31mIndexError\u001b[0m: index 3 is out of bounds for dimension 0 with size 3"
     ]
    }
   ],
   "source": [
    "temp[temp.argmax(1, keepdim=True)]"
   ]
  },
  {
   "cell_type": "code",
   "execution_count": null,
   "metadata": {},
   "outputs": [],
   "source": []
  },
  {
   "cell_type": "code",
   "execution_count": null,
   "metadata": {},
   "outputs": [],
   "source": []
  },
  {
   "cell_type": "code",
   "execution_count": null,
   "metadata": {},
   "outputs": [],
   "source": []
  },
  {
   "cell_type": "code",
   "execution_count": 171,
   "metadata": {},
   "outputs": [
    {
     "name": "stdout",
     "output_type": "stream",
     "text": [
      "torch.Size([900, 2]) torch.Size([900, 2])\n"
     ]
    }
   ],
   "source": [
    "print(processed_p.shape, processed_m.shape)"
   ]
  },
  {
   "cell_type": "code",
   "execution_count": 162,
   "metadata": {},
   "outputs": [
    {
     "data": {
      "image/png": "[encoded data removed]",
      "text/plain": [
       "<Figure size 640x480 with 1 Axes>"
      ]
     },
     "metadata": {},
     "output_type": "display_data"
    }
   ],
   "source": [
    "plt.scatter(processed_p, processed_m, s=1)\n",
    "plt.show()"
   ]
  },
  {
   "cell_type": "code",
   "execution_count": null,
   "metadata": {},
   "outputs": [],
   "source": []
  },
  {
   "cell_type": "code",
   "execution_count": null,
   "metadata": {},
   "outputs": [],
   "source": []
  },
  {
   "cell_type": "code",
   "execution_count": null,
   "metadata": {},
   "outputs": [],
   "source": []
  },
  {
   "cell_type": "code",
   "execution_count": null,
   "metadata": {},
   "outputs": [],
   "source": []
  },
  {
   "cell_type": "code",
   "execution_count": null,
   "metadata": {},
   "outputs": [],
   "source": []
  },
  {
   "cell_type": "markdown",
   "metadata": {},
   "source": [
    "### Compare dataset parameters"
   ]
  },
  {
   "cell_type": "code",
   "execution_count": null,
   "metadata": {},
   "outputs": [],
   "source": [
    "dataset_new = dill.load(open(\"../../efish-physics-model/data/params/data-2024_06_13-characterization_dataset.pkl\", \"rb\"))\n",
    "dataset_new"
   ]
  },
  {
   "cell_type": "code",
   "execution_count": null,
   "metadata": {},
   "outputs": [],
   "source": [
    "dataset_old = dill.load(open(\"../../../electric_fish/ActiveZone/electrodynamic/data/params/data_230324_YES_manyObjects_NO_boundaries_NO_tail_ONE_conductivity_OnlyFEW_R_C_params_dict.pkl\", \"rb\"))\n",
    "dataset_old"
   ]
  },
  {
   "cell_type": "code",
   "execution_count": null,
   "metadata": {},
   "outputs": [],
   "source": [
    "dataset_old = {\n",
    "    \"worm_resistances\": np.array(\n",
    "        [\n",
    "            187.38174229,\n",
    "            376.49358068,\n",
    "            756.46332755,\n",
    "            1519.91108295,\n",
    "            3053.85550883,\n",
    "            6135.90727341,\n",
    "            12328.46739442,\n",
    "            24770.76355992,\n",
    "            49770.23564332,\n",
    "            100000.0,\n",
    "        ]\n",
    "    ),\n",
    "    \"worm_capacitances\": np.array(\n",
    "        [\n",
    "            1.87381742e-10,\n",
    "            3.76493581e-10,\n",
    "            7.56463328e-10,\n",
    "            1.51991108e-09,\n",
    "            3.05385551e-09,\n",
    "            6.13590727e-09,\n",
    "            1.23284674e-08,\n",
    "            2.47707636e-08,\n",
    "            4.97702356e-08,\n",
    "            1.00000000e-07,\n",
    "        ]\n",
    "    ),\n",
    "    \"worm_radii\": np.array(\n",
    "        [\n",
    "            0.0015,\n",
    "            0.002,\n",
    "            0.0025,\n",
    "            0.003,\n",
    "            0.0035,\n",
    "            0.004,\n",
    "            0.0045,\n",
    "            0.005,\n",
    "            0.0055,\n",
    "            0.006,\n",
    "            0.0065,\n",
    "            0.007,\n",
    "            0.0075,\n",
    "            0.008,\n",
    "            0.0085,\n",
    "            0.009,\n",
    "            0.0095,\n",
    "            0.01,\n",
    "            0.0105,\n",
    "            0.011,\n",
    "        ]\n",
    "    ),\n",
    "    \"worm_position_xs\": np.array(\n",
    "        [\n",
    "            0.015,\n",
    "            0.01,\n",
    "            0.005,\n",
    "            0.0,\n",
    "            -0.005,\n",
    "            -0.01,\n",
    "            -0.015,\n",
    "            -0.02,\n",
    "            -0.025,\n",
    "            -0.03,\n",
    "            -0.035,\n",
    "            -0.04,\n",
    "            -0.045,\n",
    "            -0.05,\n",
    "            -0.055,\n",
    "            -0.06,\n",
    "            -0.065,\n",
    "            -0.07,\n",
    "            -0.075,\n",
    "            -0.08,\n",
    "        ]\n",
    "    ),\n",
    "    \"worm_position_ys\": np.array(\n",
    "        [\n",
    "            0.018,\n",
    "            0.0185,\n",
    "            0.019,\n",
    "            0.0195,\n",
    "            0.02,\n",
    "            0.0205,\n",
    "            0.021,\n",
    "            0.0215,\n",
    "            0.022,\n",
    "            0.0225,\n",
    "            0.023,\n",
    "            0.0235,\n",
    "            0.024,\n",
    "            0.0245,\n",
    "            0.025,\n",
    "            0.0255,\n",
    "            0.026,\n",
    "            0.0265,\n",
    "            0.027,\n",
    "            0.0275,\n",
    "            0.028,\n",
    "            0.0285,\n",
    "            0.029,\n",
    "            0.0295,\n",
    "            0.03,\n",
    "        ]\n",
    "    ),\n",
    "    \"worm_position_zs\": np.array(\n",
    "        [\n",
    "            -0.015,\n",
    "            -0.0135,\n",
    "            -0.012,\n",
    "            -0.0105,\n",
    "            -0.009,\n",
    "            -0.0075,\n",
    "            -0.006,\n",
    "            -0.0045,\n",
    "            -0.003,\n",
    "            -0.0015,\n",
    "            0.0,\n",
    "            0.0015,\n",
    "            0.003,\n",
    "            0.0045,\n",
    "            0.006,\n",
    "            0.0075,\n",
    "            0.009,\n",
    "            0.0105,\n",
    "            0.012,\n",
    "            0.0135,\n",
    "            0.015,\n",
    "        ]\n",
    "    ),\n",
    "}\n",
    "\n",
    "dataset_new = {\n",
    "    \"worm_resistances\": np.array(\n",
    "        [\n",
    "            2000.0,\n",
    "            2288.83859595,\n",
    "            2619.39105916,\n",
    "            2997.68167704,\n",
    "            3430.60476039,\n",
    "            3926.05029152,\n",
    "            4493.04771843,\n",
    "            5141.9305157,\n",
    "            5884.52451101,\n",
    "            6734.36340981,\n",
    "            7706.93544576,\n",
    "            8819.96565237,\n",
    "            10093.73890005,\n",
    "            11551.46958594,\n",
    "            13219.72471412,\n",
    "            15128.90807676,\n",
    "            17313.81436033,\n",
    "            19814.26327552,\n",
    "            22675.82526766,\n",
    "            25950.65203382,\n",
    "            29698.42698254,\n",
    "            33987.45295832,\n",
    "            38895.89705452,\n",
    "            44513.21520124,\n",
    "            50941.78249122,\n",
    "            58298.75895619,\n",
    "            66718.22479746,\n",
    "            76353.62398485,\n",
    "            87380.56075858,\n",
    "            100000.0,\n",
    "        ]\n",
    "    ),\n",
    "    \"worm_capacitances\": np.array(\n",
    "        [\n",
    "            2.00000000e-10,\n",
    "            2.28883860e-10,\n",
    "            2.61939106e-10,\n",
    "            2.99768168e-10,\n",
    "            3.43060476e-10,\n",
    "            3.92605029e-10,\n",
    "            4.49304772e-10,\n",
    "            5.14193052e-10,\n",
    "            5.88452451e-10,\n",
    "            6.73436341e-10,\n",
    "            7.70693545e-10,\n",
    "            8.81996565e-10,\n",
    "            1.00937389e-09,\n",
    "            1.15514696e-09,\n",
    "            1.32197247e-09,\n",
    "            1.51289081e-09,\n",
    "            1.73138144e-09,\n",
    "            1.98142633e-09,\n",
    "            2.26758253e-09,\n",
    "            2.59506520e-09,\n",
    "            2.96984270e-09,\n",
    "            3.39874530e-09,\n",
    "            3.88958971e-09,\n",
    "            4.45132152e-09,\n",
    "            5.09417825e-09,\n",
    "            5.82987590e-09,\n",
    "            6.67182248e-09,\n",
    "            7.63536240e-09,\n",
    "            8.73805608e-09,\n",
    "            1.00000000e-08,\n",
    "        ]\n",
    "    ),\n",
    "    \"worm_radii\": np.array(\n",
    "        [0.001, 0.0015, 0.002, 0.0025, 0.003, 0.0035, 0.004, 0.0045, 0.005, 0.0055, 0.006, 0.0065, 0.007, 0.0075]\n",
    "    ),\n",
    "    \"worm_position_xs\": np.array(\n",
    "        [\n",
    "            0.02,\n",
    "            0.0125,\n",
    "            0.005,\n",
    "            -0.0025,\n",
    "            -0.01,\n",
    "            -0.0175,\n",
    "            -0.025,\n",
    "            -0.0325,\n",
    "            -0.04,\n",
    "            -0.0475,\n",
    "            -0.055,\n",
    "            -0.0625,\n",
    "            -0.07,\n",
    "            -0.0775,\n",
    "            -0.085,\n",
    "            -0.0925,\n",
    "        ]\n",
    "    ),\n",
    "    \"worm_position_ys\": np.array(\n",
    "        [\n",
    "            0.017,\n",
    "            0.018,\n",
    "            0.019,\n",
    "            0.02,\n",
    "            0.021,\n",
    "            0.022,\n",
    "            0.023,\n",
    "            0.024,\n",
    "            0.025,\n",
    "            0.026,\n",
    "            0.027,\n",
    "            0.028,\n",
    "            0.029,\n",
    "            0.03,\n",
    "            0.031,\n",
    "            0.032,\n",
    "            0.033,\n",
    "            0.034,\n",
    "            0.035,\n",
    "            0.036,\n",
    "            0.037,\n",
    "            0.038,\n",
    "            0.039,\n",
    "        ]\n",
    "    ),\n",
    "    \"worm_position_zs\": np.array([-0.03, -0.024, -0.018, -0.012, -0.006, 0.0, 0.006, 0.012, 0.018, 0.024, 0.03]),\n",
    "}"
   ]
  },
  {
   "cell_type": "code",
   "execution_count": null,
   "metadata": {},
   "outputs": [],
   "source": [
    "for k in dataset_old:\n",
    "    print(k.upper())\n",
    "    print(dataset_old[k])\n",
    "    print(dataset_new[k])\n",
    "    print()"
   ]
  },
  {
   "cell_type": "code",
   "execution_count": null,
   "metadata": {},
   "outputs": [],
   "source": []
  }
 ],
 "metadata": {
  "kernelspec": {
   "display_name": "efish",
   "language": "python",
   "name": "python3"
  },
  "language_info": {
   "codemirror_mode": {
    "name": "ipython",
    "version": 3
   },
   "file_extension": ".py",
   "mimetype": "text/x-python",
   "name": "python",
   "nbconvert_exporter": "python",
   "pygments_lexer": "ipython3",
   "version": "3.12.2"
  }
 },
 "nbformat": 4,
 "nbformat_minor": 2
}
