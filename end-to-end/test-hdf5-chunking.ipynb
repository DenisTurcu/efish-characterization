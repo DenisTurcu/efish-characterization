{
 "cells": [
  {
   "cell_type": "code",
   "execution_count": 1,
   "metadata": {},
   "outputs": [],
   "source": [
    "%load_ext autoreload\n",
    "%autoreload 2"
   ]
  },
  {
   "cell_type": "code",
   "execution_count": 2,
   "metadata": {},
   "outputs": [],
   "source": [
    "import time\n",
    "import numpy as np\n",
    "import h5py"
   ]
  },
  {
   "cell_type": "markdown",
   "metadata": {},
   "source": [
    "# Save chunked HDF5 data file"
   ]
  },
  {
   "cell_type": "code",
   "execution_count": null,
   "metadata": {},
   "outputs": [],
   "source": [
    "h5py_file = h5py.File(f\"/home/ssd2tb/dturcu/electric_fish_processed_data/data-2024_06_13-characterization_dataset-test_chunking/responses.hdf5\",'r')[\"responses\"]\n",
    "print(h5py_file.shape, h5py_file.dtype)"
   ]
  },
  {
   "cell_type": "code",
   "execution_count": null,
   "metadata": {},
   "outputs": [],
   "source": [
    "## manually chunk the dataset\n",
    "with h5py.File(f\"hdf5-chunking/responses-sqrt_chunk.hdf5\", 'w') as f:\n",
    "    f.create_dataset(\"responses\", shape=h5py_file.shape, dtype=h5py_file.dtype, chunks=tuple([int(np.sqrt(h5py_file.shape[0]))]+list(h5py_file.shape[1:])))"
   ]
  },
  {
   "cell_type": "code",
   "execution_count": null,
   "metadata": {},
   "outputs": [],
   "source": [
    "with h5py.File(f\"hdf5-chunking/responses-sqrt_chunk.hdf5\", \"r+\") as f:\n",
    "    write_size = 100_000\n",
    "    for i in range(0, h5py_file.shape[0], write_size):\n",
    "        print(i // write_size, end=\", \")\n",
    "        f[\"responses\"][i : i + write_size] = h5py_file[i : i + write_size]\n",
    "        if (i / write_size + 1) % 50 == 0:\n",
    "            print()"
   ]
  },
  {
   "cell_type": "markdown",
   "metadata": {},
   "source": [
    "# Test accuracy of chunked HDF5 data file with respect to original file"
   ]
  },
  {
   "cell_type": "code",
   "execution_count": 3,
   "metadata": {},
   "outputs": [
    {
     "data": {
      "text/plain": [
       "(array([ 4341987,  4423492, 15065574, 15535978, 19984428, 33439972,\n",
       "        33969291, 35776807, 42689181, 44635674]),\n",
       " True,\n",
       " True)"
      ]
     },
     "execution_count": 3,
     "metadata": {},
     "output_type": "execute_result"
    }
   ],
   "source": [
    "h5py_file = h5py.File(f\"/home/ssd2tb/dturcu/electric_fish_processed_data/data-2024_06_13-characterization_dataset-test_chunking/responses.hdf5\",'r')[\"responses\"]\n",
    "h5py_file_chunked = h5py.File(f\"hdf5-chunking/responses.hdf5\", 'r')[\"responses\"]\n",
    "h5py_file_chunked_sqrt = h5py.File(f\"hdf5-chunking/responses-sqrt_chunk.hdf5\", 'r')[\"responses\"]\n",
    "ids = np.random.permutation(h5py_file_chunked.shape[0])[:10]\n",
    "ids = np.sort(ids)\n",
    "(ids, (h5py_file[ids] == h5py_file_chunked[ids]).all(), (h5py_file[ids] == h5py_file_chunked_sqrt[ids]).all())"
   ]
  },
  {
   "cell_type": "markdown",
   "metadata": {},
   "source": [
    "# Test loading speed of chunked HDF5 data file with respect to original file"
   ]
  },
  {
   "cell_type": "code",
   "execution_count": 4,
   "metadata": {},
   "outputs": [
    {
     "name": "stdout",
     "output_type": "stream",
     "text": [
      "Time for non-chunked: 7.07 s\n",
      "Time for man chunked: 7.70 s\n",
      "Time for sqt chunked: 3.71 s\n"
     ]
    }
   ],
   "source": [
    "ids = np.random.permutation(h5py_file.shape[0])[:27000]\n",
    "# ids = np.sort(ids)\n",
    "t0 = time.time()\n",
    "for i in ids:\n",
    "    _ = h5py_file[i]\n",
    "t1 = time.time()\n",
    "for i in ids:\n",
    "    _ = h5py_file_chunked[i]\n",
    "t2 = time.time()\n",
    "for i in ids:\n",
    "    _ = h5py_file_chunked_sqrt[i]\n",
    "t3 = time.time()\n",
    "print(f\"Time for non-chunked: {t1-t0:.2f} s\")\n",
    "print(f\"Time for man chunked: {t2-t1:.2f} s\")\n",
    "print(f\"Time for sqt chunked: {t3-t2:.2f} s\")"
   ]
  },
  {
   "cell_type": "code",
   "execution_count": null,
   "metadata": {},
   "outputs": [],
   "source": []
  },
  {
   "cell_type": "markdown",
   "metadata": {},
   "source": [
    "# Miscellaneous tests\n",
    "\n",
    "e.g. manual individual row vs. automatic chunking"
   ]
  },
  {
   "cell_type": "code",
   "execution_count": null,
   "metadata": {},
   "outputs": [],
   "source": [
    "# h5py_file = h5py.File(f\"/home/ssd2tb/dturcu/electric_fish_processed_data/data-2024_06_13-test_chunking/responses.hdf5\",'r')[\"responses\"]\n",
    "h5py_file_chunked_manual = h5py.File(f\"/home/ssd2tb/dturcu/electric_fish_processed_data/data-2024_06_13-characterization_dataset-test_chunking/responses-chunked.hdf5\",'r')[\"test-chunking\"]\n",
    "# h5py_file_chunked_manual_main = h5py.File(f\"hdf5-chunking/responses-chunked.hdf5\",'r')[\"test-chunking\"]\n"
   ]
  },
  {
   "cell_type": "code",
   "execution_count": null,
   "metadata": {},
   "outputs": [],
   "source": [
    "### manually chunk the dataset\n",
    "# with h5py.File(f\"hdf5-chunking/responses-chunked.hdf5\", 'w') as f:\n",
    "    # f.create_dataset(\"test-chunking\", shape=h5py_file.shape, dtype=h5py_file.dtype, chunks=tuple([1]+list(h5py_file.shape[1:])))\n",
    "### auto-chunk the dataset\n",
    "with h5py.File(f\"hdf5-chunking/responses-chunked-auto.hdf5\", 'w') as f:\n",
    "    f.create_dataset(\"test-chunking-auto\", shape=h5py_file.shape, dtype=h5py_file.dtype, chunks=True)"
   ]
  },
  {
   "cell_type": "code",
   "execution_count": null,
   "metadata": {},
   "outputs": [],
   "source": [
    "with h5py.File(f\"hdf5-chunking/responses-chunked-auto.hdf5\", \"r+\") as f:\n",
    "    write_size = 100_000\n",
    "    for i in range(0, h5py_file.shape[0], write_size):\n",
    "        print(i//write_size, end=\", \")\n",
    "        f[\"test-chunking-auto\"][i : i + write_size] = h5py_file[i : i + write_size]\n",
    "        if (i/write_size+1) % 50 == 0:\n",
    "            print()"
   ]
  },
  {
   "cell_type": "code",
   "execution_count": null,
   "metadata": {},
   "outputs": [],
   "source": [
    "h5py_file_chunked_manual_main = h5py.File(f\"hdf5-chunking/responses-chunked.hdf5\",'r')[\"test-chunking\"]\n",
    "h5py_file_chunked_auto = h5py.File(f\"hdf5-chunking/responses-chunked-auto.hdf5\",'r')[\"test-chunking-auto\"]"
   ]
  },
  {
   "cell_type": "code",
   "execution_count": null,
   "metadata": {},
   "outputs": [],
   "source": [
    "ids = np.random.permutation(h5py_file_chunked_manual.shape[0])[:3]\n",
    "ids = np.sort(ids)\n",
    "(ids, #h5py_file[ids], h5py_file_chunked_manual[ids], h5py_file_chunked_auto[ids], \n",
    "(h5py_file[ids] == h5py_file_chunked_manual[ids]).all(), \n",
    "# (h5py_file[ids] == h5py_file_chunked_auto[ids]).all()\n",
    ")"
   ]
  },
  {
   "cell_type": "code",
   "execution_count": null,
   "metadata": {},
   "outputs": [],
   "source": [
    "ids = np.random.permutation(h5py_file_chunked_manual.shape[0])[:5]\n",
    "# ids = np.sort(ids)\n",
    "t0 = time.time()\n",
    "for i in ids:\n",
    "    _ = h5py_file_chunked_manual_main[i]\n",
    "t1 = time.time()\n",
    "for i in ids:\n",
    "    _ = h5py_file_chunked_manual[i]\n",
    "t2 = time.time()\n",
    "for i in ids:\n",
    "    _ = h5py_file_chunked_auto[i]\n",
    "t3 = time.time()\n",
    "print(f\"Time for non-chunked: {t1-t0:.2f} s\")\n",
    "print(f\"Time for man chunked: {t2-t1:.2f} s\")\n",
    "print(f\"Time for aut chunked: {t3-t2:.2f} s\")"
   ]
  },
  {
   "cell_type": "code",
   "execution_count": null,
   "metadata": {},
   "outputs": [],
   "source": []
  },
  {
   "cell_type": "code",
   "execution_count": null,
   "metadata": {},
   "outputs": [],
   "source": []
  }
 ],
 "metadata": {
  "kernelspec": {
   "display_name": "efish",
   "language": "python",
   "name": "python3"
  },
  "language_info": {
   "codemirror_mode": {
    "name": "ipython",
    "version": 3
   },
   "file_extension": ".py",
   "mimetype": "text/x-python",
   "name": "python",
   "nbconvert_exporter": "python",
   "pygments_lexer": "ipython3",
   "version": "3.12.2"
  }
 },
 "nbformat": 4,
 "nbformat_minor": 2
}
