{
 "cells": [
  {
   "cell_type": "code",
   "execution_count": 1,
   "metadata": {},
   "outputs": [],
   "source": [
    "%load_ext autoreload\n",
    "%autoreload 2"
   ]
  },
  {
   "cell_type": "code",
   "execution_count": 2,
   "metadata": {},
   "outputs": [],
   "source": [
    "import time\n",
    "import glob\n",
    "import numpy as np\n",
    "import pandas as pd\n",
    "import h5py\n",
    "import matplotlib.pyplot as plt\n",
    "import seaborn as sns\n",
    "import torch\n",
    "import torch.nn as nn\n",
    "from torch.utils.data import DataLoader\n",
    "import lightning as L\n",
    "from collections import OrderedDict\n",
    "from electric_images_dataset import ElectricImagesDataset\n",
    "from EndToEndConvNN import EndToEndConvNN\n",
    "from EndToEndConvNN_PL import EndToEndConvNN_PL\n",
    "\n",
    "import sys\n",
    "sys.path.append(\"../../efish-physics-model/objects\")\n",
    "sys.path.append(\"../../efish-physics-model/helper_functions\")\n",
    "sys.path.append(\"../../efish-physics-model/uniform_points_generation\")"
   ]
  },
  {
   "cell_type": "code",
   "execution_count": null,
   "metadata": {},
   "outputs": [],
   "source": [
    "data_dir_name = \"../../efish-physics-model/data/processed/data-2024_06_13-characterization_dataset\"\n",
    "# data_dir_name = \"../../efish-physics-model/data/processed/data-2024_06_13-characterization_dataset_mockup\"\n",
    "dataset = pd.read_pickle(f\"{data_dir_name}/dataset.pkl\")\n",
    "h5py_file = h5py.File(f\"{data_dir_name}/responses.hdf5\",'r')[\"responses\"]"
   ]
  },
  {
   "cell_type": "code",
   "execution_count": null,
   "metadata": {},
   "outputs": [],
   "source": [
    "with h5py.File(f\"hdf5-chunking/responses-chunked.hdf5\", 'w') as f:\n",
    "    f.create_dataset(\"test-chunking\", shape=h5py_file.shape, dtype=h5py_file.dtype, chunks=tuple([1]+list(h5py_file.shape[1:])))"
   ]
  },
  {
   "cell_type": "code",
   "execution_count": null,
   "metadata": {},
   "outputs": [],
   "source": [
    "with h5py.File(f\"hdf5-chunking/responses-chunked.hdf5\", \"r+\") as f:\n",
    "    write_size = 100_000\n",
    "    for i in range(0, h5py_file.shape[0], write_size):\n",
    "        print(i//write_size, end=\", \")\n",
    "        f[\"test-chunking\"][i : i + write_size] = h5py_file[i : i + write_size]\n",
    "        if (i/write_size+1) % 50 == 0:\n",
    "            print()"
   ]
  },
  {
   "cell_type": "code",
   "execution_count": null,
   "metadata": {},
   "outputs": [],
   "source": [
    "ids = np.random.permutation(h5py_file.shape[0])[:10]\n",
    "ids = np.sort(ids)\n",
    "ids, h5py_file[ids], h5py_file_chunked[ids]"
   ]
  },
  {
   "cell_type": "code",
   "execution_count": null,
   "metadata": {},
   "outputs": [],
   "source": [
    "dset = ElectricImagesDataset(data_dir_name=\"hdf5-chunking\", fish_t=20, fish_u=30)"
   ]
  },
  {
   "cell_type": "code",
   "execution_count": null,
   "metadata": {},
   "outputs": [],
   "source": [
    "train_dset, valid_dset = torch.utils.data.random_split(dset, [0.8, 0.2])\n",
    "train_loader = DataLoader(train_dset, batch_size=27000, shuffle=True, drop_last=True, num_workers=12)\n",
    "valid_loader = DataLoader(valid_dset, batch_size=64, shuffle=False, drop_last=True)"
   ]
  },
  {
   "cell_type": "code",
   "execution_count": null,
   "metadata": {},
   "outputs": [],
   "source": [
    "for batch_idx, batch in enumerate(train_loader):\n",
    "    print(batch[0].shape, end=\" \")\n",
    "    if (batch_idx + 1) % 50 == 0:\n",
    "        print()"
   ]
  },
  {
   "cell_type": "code",
   "execution_count": null,
   "metadata": {},
   "outputs": [],
   "source": [
    "next(iter(train_loader))[0].shape"
   ]
  },
  {
   "cell_type": "code",
   "execution_count": 3,
   "metadata": {},
   "outputs": [
    {
     "data": {
      "text/plain": [
       "((51004800, 600, 2), (51004800, 600, 2))"
      ]
     },
     "execution_count": 3,
     "metadata": {},
     "output_type": "execute_result"
    }
   ],
   "source": [
    "data_dir_name = \"../../efish-physics-model/data/processed/data-2024_06_13-characterization_dataset\"\n",
    "h5py_file = h5py.File(f\"{data_dir_name}/responses.hdf5\",'r')[\"responses\"]\n",
    "h5py_file_chunked = h5py.File(f\"hdf5-chunking/responses-chunked.hdf5\", 'r')[\"test-chunking\"]\n",
    "h5py_file.shape, h5py_file_chunked.shape"
   ]
  },
  {
   "cell_type": "code",
   "execution_count": 9,
   "metadata": {},
   "outputs": [
    {
     "name": "stdout",
     "output_type": "stream",
     "text": [
      "Time for non-chunked: 8.94 s\n",
      "Time for     chunked: 4.88 s\n"
     ]
    }
   ],
   "source": [
    "ids = np.random.permutation(h5py_file.shape[0])[:27000]\n",
    "# ids = np.sort(ids)\n",
    "t0 = time.time()\n",
    "for i in ids:\n",
    "    _ = h5py_file[i]\n",
    "t1 = time.time()\n",
    "for i in ids:\n",
    "    _ = h5py_file_chunked[i]\n",
    "t2 = time.time()\n",
    "print(f\"Time for non-chunked: {t1-t0:.2f} s\")\n",
    "print(f\"Time for     chunked: {t2-t1:.2f} s\")"
   ]
  },
  {
   "cell_type": "code",
   "execution_count": null,
   "metadata": {},
   "outputs": [],
   "source": []
  }
 ],
 "metadata": {
  "kernelspec": {
   "display_name": "efish",
   "language": "python",
   "name": "python3"
  },
  "language_info": {
   "codemirror_mode": {
    "name": "ipython",
    "version": 3
   },
   "file_extension": ".py",
   "mimetype": "text/x-python",
   "name": "python",
   "nbconvert_exporter": "python",
   "pygments_lexer": "ipython3",
   "version": "3.12.2"
  }
 },
 "nbformat": 4,
 "nbformat_minor": 2
}
