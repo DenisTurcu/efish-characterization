{
 "cells": [
  {
   "cell_type": "code",
   "execution_count": null,
   "id": "eab1555a",
   "metadata": {},
   "outputs": [],
   "source": [
    "%load_ext autoreload\n",
    "%autoreload 2\n",
    "\n",
    "from IPython.display import clear_output\n",
    "clear_output(wait=True)\n"
   ]
  },
  {
   "cell_type": "code",
   "execution_count": null,
   "id": "ef5ef693",
   "metadata": {},
   "outputs": [],
   "source": [
    "import sys\n",
    "sys.path.append('../../../electric_fish/ActiveZone/electrodynamic/helper_functions')\n",
    "sys.path.append('../../../electric_fish/ActiveZone/electrodynamic/objects')\n",
    "sys.path.append('../../../electric_fish/ActiveZone/electrodynamic/uniform_points_generation')\n",
    "\n",
    "\n",
    "import time\n",
    "import numpy as np\n",
    "from collections import OrderedDict\n",
    "import matplotlib.pyplot as plt\n",
    "import h5py\n",
    "\n",
    "import torch\n",
    "\n",
    "import torch.nn as nn\n",
    "\n",
    "from torch.utils.data import DataLoader\n",
    "\n",
    "from load_data import load_data_full\n",
    "from NaiveConvNet import NaiveConvNet, TwoPathsNaiveConvNet\n",
    "from train_naive_convNets_TorchDataset import ElectricImagesDataset\n",
    "\n",
    "parse_device = lambda device: torch.device(f'cuda:{device[-1]}' if ('gpu' in device.lower()) and (torch.cuda.is_available()) else 'cpu')"
   ]
  },
  {
   "cell_type": "code",
   "execution_count": null,
   "id": "5b7d513f",
   "metadata": {},
   "outputs": [],
   "source": [
    "model = nn.Sequential(nn.Linear(1, 1), nn.ReLU(), nn.Linear(1, 1))\n",
    "# model.to(2)\n",
    "next(model.parameters()).device.index is None"
   ]
  },
  {
   "cell_type": "code",
   "execution_count": null,
   "id": "315b75a3",
   "metadata": {},
   "outputs": [],
   "source": []
  },
  {
   "cell_type": "code",
   "execution_count": null,
   "id": "57bf3e49",
   "metadata": {},
   "outputs": [],
   "source": []
  },
  {
   "cell_type": "code",
   "execution_count": null,
   "id": "758d6850",
   "metadata": {},
   "outputs": [],
   "source": [
    "dataset = ElectricImagesDataset(N_data_samples_that_fit_in_RAM=40_000)\n",
    "len(dataset)"
   ]
  },
  {
   "cell_type": "code",
   "execution_count": null,
   "id": "f0d70a00",
   "metadata": {},
   "outputs": [],
   "source": [
    "dataset_loader = DataLoader(\n",
    "    dataset=dataset,\n",
    "    batch_size=5_000,\n",
    "    pin_memory=True,\n",
    "    shuffle=False,\n",
    ")\n",
    "len(dataset_loader)"
   ]
  },
  {
   "cell_type": "code",
   "execution_count": null,
   "id": "1889b879",
   "metadata": {},
   "outputs": [],
   "source": [
    "in_data, out_data = next(iter(dataset_loader))\n",
    "in_data.shape, out_data.shape"
   ]
  },
  {
   "cell_type": "code",
   "execution_count": null,
   "id": "a4b64961",
   "metadata": {},
   "outputs": [],
   "source": [
    "start_time = time.time()\n",
    "for i, (source, targets) in enumerate(dataset_loader):\n",
    "    end_time = time.time()\n",
    "    print(i, source.shape, targets.shape, f'{end_time-start_time:.2f}s')\n",
    "    start_time = end_time\n",
    "    if i == 7:\n",
    "        break"
   ]
  },
  {
   "cell_type": "code",
   "execution_count": null,
   "id": "4d0af80c",
   "metadata": {},
   "outputs": [],
   "source": [
    "start_time = time.time()\n",
    "for i, (source, targets) in enumerate(dataset_loader):\n",
    "    end_time = time.time()\n",
    "    print(i, source.shape, targets.shape, f'{end_time-start_time:.2f}s')\n",
    "    start_time = end_time\n",
    "    if i == 19:\n",
    "        break"
   ]
  },
  {
   "cell_type": "code",
   "execution_count": null,
   "id": "0755e810",
   "metadata": {},
   "outputs": [],
   "source": [
    "example_ei = in_data[31,0].numpy()\n",
    "vval = np.max(np.abs(example_ei))\n",
    "plt.imshow(example_ei, cmap='seismic', vmin=-vval, vmax=vval)\n",
    "plt.colorbar()\n",
    "plt.show()"
   ]
  },
  {
   "cell_type": "code",
   "execution_count": null,
   "id": "afee7711",
   "metadata": {},
   "outputs": [],
   "source": []
  }
 ],
 "metadata": {
  "interpreter": {
   "hash": "6ad226b9bd45bab16b521a40b87b0c0819cb92a301ab41030f1182bd53c1fc03"
  },
  "kernelspec": {
   "display_name": "Python 3.7.6 ('fish_PT')",
   "language": "python",
   "name": "python3"
  },
  "language_info": {
   "codemirror_mode": {
    "name": "ipython",
    "version": 3
   },
   "file_extension": ".py",
   "mimetype": "text/x-python",
   "name": "python",
   "nbconvert_exporter": "python",
   "pygments_lexer": "ipython3",
   "version": "3.7.6"
  }
 },
 "nbformat": 4,
 "nbformat_minor": 5
}
